{
 "cells": [
  {
   "cell_type": "markdown",
   "metadata": {
    "id": "1rM1i5DyF9gZ"
   },
   "source": [
    "> ### **Assignment 2 - Numpy Array Operations** \n",
    ">\n",
    "> This assignment is part of the course [\"Data Analysis with Python: Zero to Pandas\"](http://zerotopandas.com). The objective of this assignment is to develop a solid understanding of Numpy array operations. In this assignment you will:\n",
    "> \n",
    "> 1. Pick 5 interesting Numpy array functions by going through the documentation: https://numpy.org/doc/stable/reference/routines.html \n",
    "> 2. Run and modify this Jupyter notebook to illustrate their usage (some explanation and 3 examples for each function). Use your imagination to come up with interesting and unique examples.\n",
    "> 3. Upload this notebook to your Jovian profile using `jovian.commit` and make a submission here: https://jovian.ml/learn/data-analysis-with-python-zero-to-pandas/assignment/assignment-2-numpy-array-operations\n",
    "> 4. (Optional) Share your notebook online (on Twitter, LinkedIn, Facebook) and on the community forum thread: https://jovian.ml/forum/t/assignment-2-numpy-array-operations-share-your-work/10575 . \n",
    "> 5. (Optional) Check out the notebooks [shared by other participants](https://jovian.ml/forum/t/assignment-2-numpy-array-operations-share-your-work/10575) and give feedback & appreciation.\n",
    ">\n",
    "> The recommended way to run this notebook is to click the \"Run\" button at the top of this page, and select \"Run on Binder\". This will run the notebook on mybinder.org, a free online service for running Jupyter notebooks.\n",
    ">\n",
    "> Try to give your notebook a catchy title & subtitle e.g. \"All about Numpy array operations\", \"5 Numpy functions you didn't know you needed\", \"A beginner's guide to broadcasting in Numpy\", \"Interesting ways to create Numpy arrays\", \"Trigonometic functions in Numpy\", \"How to use Python for Linear Algebra\" etc.\n",
    ">\n",
    "> **NOTE**: Remove this block of explanation text before submitting or sharing your notebook online - to make it more presentable.\n",
    "\n",
    "\n",
    "# Title Here\n",
    "\n",
    "\n",
    "### Subtitle Here\n",
    "\n",
    "Write a short introduction about Numpy and list the chosen functions. \n",
    "\n",
    "- function 1\n",
    "- function 2\n",
    "- function 3\n",
    "- function 4\n",
    "- function 5\n",
    "\n",
    "The recommended way to run this notebook is to click the \"Run\" button at the top of this page, and select \"Run on Binder\". This will run the notebook on mybinder.org, a free online service for running Jupyter notebooks."
   ]
  },
  {
   "cell_type": "code",
   "execution_count": 2,
   "metadata": {
    "executionInfo": {
     "elapsed": 3536,
     "status": "ok",
     "timestamp": 1607544197466,
     "user": {
      "displayName": "Tanvi Patel",
      "photoUrl": "https://lh3.googleusercontent.com/a-/AOh14GhEzOH8u0twqYzmOWwhgOGzrnWvaw78WUL_P8mx=s64",
      "userId": "05270161629470731830"
     },
     "user_tz": -330
    },
    "id": "EmLM-UkYF9gb"
   },
   "outputs": [],
   "source": [
    "!pip install jovian --upgrade -q"
   ]
  },
  {
   "cell_type": "code",
   "execution_count": 3,
   "metadata": {
    "executionInfo": {
     "elapsed": 1545,
     "status": "ok",
     "timestamp": 1607544200908,
     "user": {
      "displayName": "Tanvi Patel",
      "photoUrl": "https://lh3.googleusercontent.com/a-/AOh14GhEzOH8u0twqYzmOWwhgOGzrnWvaw78WUL_P8mx=s64",
      "userId": "05270161629470731830"
     },
     "user_tz": -330
    },
    "id": "bZ1GGp4PF9gc"
   },
   "outputs": [],
   "source": [
    "import jovian"
   ]
  },
  {
   "cell_type": "code",
   "execution_count": 4,
   "metadata": {
    "colab": {
     "base_uri": "https://localhost:8080/",
     "height": 136
    },
    "executionInfo": {
     "elapsed": 28437,
     "status": "ok",
     "timestamp": 1607544230021,
     "user": {
      "displayName": "Tanvi Patel",
      "photoUrl": "https://lh3.googleusercontent.com/a-/AOh14GhEzOH8u0twqYzmOWwhgOGzrnWvaw78WUL_P8mx=s64",
      "userId": "05270161629470731830"
     },
     "user_tz": -330
    },
    "id": "btzUFtYBF9gc",
    "outputId": "91d6481a-6897-4857-9187-a166a638d150"
   },
   "outputs": [
    {
     "name": "stdout",
     "output_type": "stream",
     "text": [
      "[jovian] Detected Colab notebook...\u001b[0m\n",
      "[jovian] Please enter your API key ( from https://jovian.ai/ ):\u001b[0m\n",
      "API KEY: ··········\n",
      "[jovian] Uploading colab notebook to Jovian...\u001b[0m\n",
      "[jovian] Capturing environment..\u001b[0m\n",
      "[jovian] Committed successfully! https://jovian.ai/tanu1007/numpy-array-operations\u001b[0m\n"
     ]
    },
    {
     "data": {
      "application/vnd.google.colaboratory.intrinsic+json": {
       "type": "string"
      },
      "text/plain": [
       "'https://jovian.ai/tanu1007/numpy-array-operations'"
      ]
     },
     "execution_count": 4,
     "metadata": {
      "tags": []
     },
     "output_type": "execute_result"
    }
   ],
   "source": [
    "jovian.commit(project='numpy-array-operations')"
   ]
  },
  {
   "cell_type": "markdown",
   "metadata": {
    "id": "1nOa-lc5F9gf"
   },
   "source": [
    "Let's begin by importing Numpy and listing out the functions covered in this notebook."
   ]
  },
  {
   "cell_type": "code",
   "execution_count": 5,
   "metadata": {
    "executionInfo": {
     "elapsed": 2146,
     "status": "ok",
     "timestamp": 1607544418128,
     "user": {
      "displayName": "Tanvi Patel",
      "photoUrl": "https://lh3.googleusercontent.com/a-/AOh14GhEzOH8u0twqYzmOWwhgOGzrnWvaw78WUL_P8mx=s64",
      "userId": "05270161629470731830"
     },
     "user_tz": -330
    },
    "id": "OldeBErVF9gf"
   },
   "outputs": [],
   "source": [
    "import numpy as np"
   ]
  },
  {
   "cell_type": "code",
   "execution_count": null,
   "metadata": {
    "id": "WC-KIPf5F9gf"
   },
   "outputs": [],
   "source": [
    "# List of functions explained \n",
    "function1 = np.array\n",
    "function2 = np.flatten\n",
    "function3 = np.stack\n",
    "function4 = np.array_split\n",
    "function5 = np.resize"
   ]
  },
  {
   "cell_type": "markdown",
   "metadata": {
    "id": "gq3wrW0dF9gg"
   },
   "source": [
    "## Function 1 - np.array([elements])\n",
    "\n",
    "Create an array"
   ]
  },
  {
   "cell_type": "code",
   "execution_count": 6,
   "metadata": {
    "colab": {
     "base_uri": "https://localhost:8080/"
    },
    "executionInfo": {
     "elapsed": 1375,
     "status": "ok",
     "timestamp": 1607545327859,
     "user": {
      "displayName": "Tanvi Patel",
      "photoUrl": "https://lh3.googleusercontent.com/a-/AOh14GhEzOH8u0twqYzmOWwhgOGzrnWvaw78WUL_P8mx=s64",
      "userId": "05270161629470731830"
     },
     "user_tz": -330
    },
    "id": "j5f2YOg9F9gg",
    "outputId": "97ceeb6a-0cfb-4519-ffba-319df82c841d"
   },
   "outputs": [
    {
     "data": {
      "text/plain": [
       "array([1., 2., 3., 4., 5.])"
      ]
     },
     "execution_count": 6,
     "metadata": {
      "tags": []
     },
     "output_type": "execute_result"
    }
   ],
   "source": [
    "# Example 1 - working (change this)\n",
    "arr1 = np.array([1.,2.,3.,4.,5.])\n",
    "arr1"
   ]
  },
  {
   "cell_type": "markdown",
   "metadata": {
    "id": "4peYLs3IF9gh"
   },
   "source": [
    "created an 1D array with shape (1,5)"
   ]
  },
  {
   "cell_type": "code",
   "execution_count": 8,
   "metadata": {
    "colab": {
     "base_uri": "https://localhost:8080/"
    },
    "executionInfo": {
     "elapsed": 1201,
     "status": "ok",
     "timestamp": 1607545483210,
     "user": {
      "displayName": "Tanvi Patel",
      "photoUrl": "https://lh3.googleusercontent.com/a-/AOh14GhEzOH8u0twqYzmOWwhgOGzrnWvaw78WUL_P8mx=s64",
      "userId": "05270161629470731830"
     },
     "user_tz": -330
    },
    "id": "UYriGsubF9gh",
    "outputId": "5bf8572e-750a-4507-e798-5bde96e32ee1"
   },
   "outputs": [
    {
     "data": {
      "text/plain": [
       "array([[ 6.,  7.,  8.,  9., 10.],\n",
       "       [11., 12., 13., 14., 15.]])"
      ]
     },
     "execution_count": 8,
     "metadata": {
      "tags": []
     },
     "output_type": "execute_result"
    }
   ],
   "source": [
    "# Example 2 - working\n",
    "arr2 = np.array([[6.,7.,8.,9.,10.],\n",
    "         [11.,12.,13.,14.,15.]])\n",
    "arr2"
   ]
  },
  {
   "cell_type": "markdown",
   "metadata": {
    "id": "fC952FLnF9gi"
   },
   "source": [
    "Created 2D array with shape (2,5)."
   ]
  },
  {
   "cell_type": "code",
   "execution_count": 11,
   "metadata": {
    "colab": {
     "base_uri": "https://localhost:8080/",
     "height": 229
    },
    "executionInfo": {
     "elapsed": 1504,
     "status": "error",
     "timestamp": 1607545620019,
     "user": {
      "displayName": "Tanvi Patel",
      "photoUrl": "https://lh3.googleusercontent.com/a-/AOh14GhEzOH8u0twqYzmOWwhgOGzrnWvaw78WUL_P8mx=s64",
      "userId": "05270161629470731830"
     },
     "user_tz": -330
    },
    "id": "agplz7zwF9gi",
    "outputId": "5ad717de-211c-44e1-e279-5ebf75d0df1f"
   },
   "outputs": [
    {
     "ename": "NameError",
     "evalue": "ignored",
     "output_type": "error",
     "traceback": [
      "\u001b[0;31m---------------------------------------------------------------------------\u001b[0m",
      "\u001b[0;31mNameError\u001b[0m                                 Traceback (most recent call last)",
      "\u001b[0;32m<ipython-input-11-6d4fe9cffea7>\u001b[0m in \u001b[0;36m<module>\u001b[0;34m()\u001b[0m\n\u001b[1;32m      1\u001b[0m \u001b[0;31m# Example 3 - breaking (to illustrate when it breaks)\u001b[0m\u001b[0;34m\u001b[0m\u001b[0;34m\u001b[0m\u001b[0;34m\u001b[0m\u001b[0m\n\u001b[1;32m      2\u001b[0m arr3 = np.array([[1,2,3,4,5],\n\u001b[0;32m----> 3\u001b[0;31m                  [A,B,C,D,E,F,G]])\n\u001b[0m\u001b[1;32m      4\u001b[0m \u001b[0marr3\u001b[0m\u001b[0;34m\u001b[0m\u001b[0;34m\u001b[0m\u001b[0m\n\u001b[1;32m      5\u001b[0m arr4 = np.array([[1.,2.,3.,4.,5.],\n",
      "\u001b[0;31mNameError\u001b[0m: name 'A' is not defined"
     ]
    }
   ],
   "source": [
    "# Example 3 - breaking (to illustrate when it breaks)\n",
    "arr3 = np.array([[1,2,3,4,5],\n",
    "                 [A,B,C,D,E,F,G]])\n",
    "arr3"
   ]
  },
  {
   "cell_type": "markdown",
   "metadata": {
    "id": "PPeV5uM-F9gi"
   },
   "source": [
    "Problem: we cant make a matrix with alphabets and numbers\r\n",
    "Solution: Don't use alphabets for a matrix"
   ]
  },
  {
   "cell_type": "markdown",
   "metadata": {
    "id": "TUHOvIo8F9gj"
   },
   "source": [
    "Some closing comments about when to use this function.\r\n",
    "\r\n",
    "We use it to make arrays for array manipulation to later perform"
   ]
  },
  {
   "cell_type": "code",
   "execution_count": 13,
   "metadata": {
    "colab": {
     "base_uri": "https://localhost:8080/",
     "height": 102
    },
    "executionInfo": {
     "elapsed": 4683,
     "status": "ok",
     "timestamp": 1607545792165,
     "user": {
      "displayName": "Tanvi Patel",
      "photoUrl": "https://lh3.googleusercontent.com/a-/AOh14GhEzOH8u0twqYzmOWwhgOGzrnWvaw78WUL_P8mx=s64",
      "userId": "05270161629470731830"
     },
     "user_tz": -330
    },
    "id": "ReIv6aXOF9gj",
    "outputId": "0a5bef5e-6ef2-49b6-845c-973b3f54722e"
   },
   "outputs": [
    {
     "name": "stdout",
     "output_type": "stream",
     "text": [
      "[jovian] Detected Colab notebook...\u001b[0m\n",
      "[jovian] Uploading colab notebook to Jovian...\u001b[0m\n",
      "[jovian] Capturing environment..\u001b[0m\n",
      "[jovian] Committed successfully! https://jovian.ai/tanu1007/numpy-array-operations\u001b[0m\n"
     ]
    },
    {
     "data": {
      "application/vnd.google.colaboratory.intrinsic+json": {
       "type": "string"
      },
      "text/plain": [
       "'https://jovian.ai/tanu1007/numpy-array-operations'"
      ]
     },
     "execution_count": 13,
     "metadata": {
      "tags": []
     },
     "output_type": "execute_result"
    }
   ],
   "source": [
    "jovian.commit(project = 'numpy-array-operations')"
   ]
  },
  {
   "cell_type": "markdown",
   "metadata": {
    "id": "JGHhMcZaF9gj"
   },
   "source": [
    "## Function 2 - np.flatten()\n",
    "\n",
    "Return a copy of the array collapsed into one dimension."
   ]
  },
  {
   "cell_type": "code",
   "execution_count": 16,
   "metadata": {
    "colab": {
     "base_uri": "https://localhost:8080/"
    },
    "executionInfo": {
     "elapsed": 1280,
     "status": "ok",
     "timestamp": 1607545933604,
     "user": {
      "displayName": "Tanvi Patel",
      "photoUrl": "https://lh3.googleusercontent.com/a-/AOh14GhEzOH8u0twqYzmOWwhgOGzrnWvaw78WUL_P8mx=s64",
      "userId": "05270161629470731830"
     },
     "user_tz": -330
    },
    "id": "8VukIJdYF9gk",
    "outputId": "fe824358-0033-4082-f668-fe8f79806a11"
   },
   "outputs": [
    {
     "data": {
      "text/plain": [
       "array([ 6.,  7.,  8.,  9., 10., 11., 12., 13., 14., 15.])"
      ]
     },
     "execution_count": 16,
     "metadata": {
      "tags": []
     },
     "output_type": "execute_result"
    }
   ],
   "source": [
    "# Example 1 - working\n",
    "arr2_flattened = arr2.flatten()\n",
    "arr2_flattened"
   ]
  },
  {
   "cell_type": "markdown",
   "metadata": {
    "id": "h3o_CGmeF9gk"
   },
   "source": [
    "As we knew arr2 is a 2D array..and np.flatten made it into 1D by flattening it."
   ]
  },
  {
   "cell_type": "code",
   "execution_count": 19,
   "metadata": {
    "colab": {
     "base_uri": "https://localhost:8080/"
    },
    "executionInfo": {
     "elapsed": 1051,
     "status": "ok",
     "timestamp": 1607546345240,
     "user": {
      "displayName": "Tanvi Patel",
      "photoUrl": "https://lh3.googleusercontent.com/a-/AOh14GhEzOH8u0twqYzmOWwhgOGzrnWvaw78WUL_P8mx=s64",
      "userId": "05270161629470731830"
     },
     "user_tz": -330
    },
    "id": "g3m6Do9QF9gk",
    "outputId": "6a0f1b53-c604-4798-b261-ca2d6c13ca54"
   },
   "outputs": [
    {
     "name": "stdout",
     "output_type": "stream",
     "text": [
      "[ 1  2  3  4  5  6  7  8  9 10 11 12 13 14 15  1  2  3  4  5  6  7  8  9\n",
      " 10 11 12 13 14 15  1  2  3  4  5  6  7  8  9 10 11 12 13 14 15]\n",
      "Shape of arr3: (3, 3, 5)\n",
      "Shape of flattened array (45,)\n"
     ]
    }
   ],
   "source": [
    "# Example 2 - working\n",
    "arr3 = np.array([[[1,2,3,4,5],\n",
    "                  [6,7,8,9,10],\n",
    "                  [11,12,13,14,15]],\n",
    "                 [[1,2,3,4,5],\n",
    "                  [6,7,8,9,10],\n",
    "                  [11,12,13,14,15]],\n",
    "                 [[1,2,3,4,5],\n",
    "                  [6,7,8,9,10],\n",
    "                  [11,12,13,14,15]]])\n",
    "arr3_flattened = arr3.flatten()\n",
    "print(arr3_flattened)\n",
    "print(\"Shape of arr3:\",arr3.shape)\n",
    "print(\"Shape of flattened array\",arr3_flattened.shape)"
   ]
  },
  {
   "cell_type": "markdown",
   "metadata": {
    "id": "nEWo_e88F9gl"
   },
   "source": [
    "arr3 was a 3D array of (3,3,5) which converted to arr3_flattened (45,1)"
   ]
  },
  {
   "cell_type": "code",
   "execution_count": 23,
   "metadata": {
    "colab": {
     "base_uri": "https://localhost:8080/",
     "height": 229
    },
    "executionInfo": {
     "elapsed": 1501,
     "status": "error",
     "timestamp": 1607546499040,
     "user": {
      "displayName": "Tanvi Patel",
      "photoUrl": "https://lh3.googleusercontent.com/a-/AOh14GhEzOH8u0twqYzmOWwhgOGzrnWvaw78WUL_P8mx=s64",
      "userId": "05270161629470731830"
     },
     "user_tz": -330
    },
    "id": "YhK792rUF9gl",
    "outputId": "595beec0-db08-449d-9d91-00dca742d59a"
   },
   "outputs": [
    {
     "ename": "ValueError",
     "evalue": "ignored",
     "output_type": "error",
     "traceback": [
      "\u001b[0;31m---------------------------------------------------------------------------\u001b[0m",
      "\u001b[0;31mValueError\u001b[0m                                Traceback (most recent call last)",
      "\u001b[0;32m<ipython-input-23-6256dbd3bbfb>\u001b[0m in \u001b[0;36m<module>\u001b[0;34m()\u001b[0m\n\u001b[1;32m      8\u001b[0m                  [[1,2,3,4,5],\n\u001b[1;32m      9\u001b[0m                   [6,7,8,9,10]]])\n\u001b[0;32m---> 10\u001b[0;31m \u001b[0marr3_flattened\u001b[0m \u001b[0;34m=\u001b[0m \u001b[0marr3\u001b[0m\u001b[0;34m.\u001b[0m\u001b[0mflatten\u001b[0m\u001b[0;34m(\u001b[0m\u001b[0;34m[\u001b[0m\u001b[0;34m'D'\u001b[0m\u001b[0;34m]\u001b[0m\u001b[0;34m)\u001b[0m\u001b[0;34m\u001b[0m\u001b[0;34m\u001b[0m\u001b[0m\n\u001b[0m\u001b[1;32m     11\u001b[0m \u001b[0mprint\u001b[0m\u001b[0;34m(\u001b[0m\u001b[0marr3_flattened\u001b[0m\u001b[0;34m)\u001b[0m\u001b[0;34m\u001b[0m\u001b[0;34m\u001b[0m\u001b[0m\n",
      "\u001b[0;31mValueError\u001b[0m: Non-string object detected for the array ordering. Please pass in 'C', 'F', 'A', or 'K' instead"
     ]
    }
   ],
   "source": [
    "# Example 3 - breaking (to illustrate when it breaks)\n",
    "arr3 = np.array([[[1,2,3,4,5],\n",
    "                  [6,7,8,9,10],\n",
    "                  [11,12,13,14,15]],\n",
    "                 [[1,2,3,4,5],\n",
    "                  [6,7,8,9],\n",
    "                  [11,12,13,14,15]],\n",
    "                 [[1,2,3,4,5],\n",
    "                  [6,7,8,9,10]]])\n",
    "arr3_flattened = arr3.flatten(['D'])\n",
    "print(arr3_flattened)"
   ]
  },
  {
   "cell_type": "markdown",
   "metadata": {
    "id": "sFL17bcxF9gl"
   },
   "source": [
    "Problem: The order passed into ndarray.flatten([]) has to be one of the (A,K,C,F)\r\n",
    "The meaning of this letter are explained in documentation of numpy\r\n",
    "\r\n",
    "Solution: Choose alphabet from (A,K,C,F) else leave a blank for default"
   ]
  },
  {
   "cell_type": "markdown",
   "metadata": {
    "id": "sWjRi0vNF9gl"
   },
   "source": [
    "Some closing comments about when to use this function."
   ]
  },
  {
   "cell_type": "code",
   "execution_count": 25,
   "metadata": {
    "colab": {
     "base_uri": "https://localhost:8080/",
     "height": 102
    },
    "executionInfo": {
     "elapsed": 4102,
     "status": "ok",
     "timestamp": 1607546643905,
     "user": {
      "displayName": "Tanvi Patel",
      "photoUrl": "https://lh3.googleusercontent.com/a-/AOh14GhEzOH8u0twqYzmOWwhgOGzrnWvaw78WUL_P8mx=s64",
      "userId": "05270161629470731830"
     },
     "user_tz": -330
    },
    "id": "Owwc2YY6F9gm",
    "outputId": "b77a6364-3827-4c46-fce4-92fe560b5df9"
   },
   "outputs": [
    {
     "name": "stdout",
     "output_type": "stream",
     "text": [
      "[jovian] Detected Colab notebook...\u001b[0m\n",
      "[jovian] Uploading colab notebook to Jovian...\u001b[0m\n",
      "[jovian] Capturing environment..\u001b[0m\n",
      "[jovian] Committed successfully! https://jovian.ai/tanu1007/numpy-array-operations\u001b[0m\n"
     ]
    },
    {
     "data": {
      "application/vnd.google.colaboratory.intrinsic+json": {
       "type": "string"
      },
      "text/plain": [
       "'https://jovian.ai/tanu1007/numpy-array-operations'"
      ]
     },
     "execution_count": 25,
     "metadata": {
      "tags": []
     },
     "output_type": "execute_result"
    }
   ],
   "source": [
    "jovian.commit(project = 'numpy-array-operations')"
   ]
  },
  {
   "cell_type": "markdown",
   "metadata": {
    "id": "q-oub2hHF9gm"
   },
   "source": [
    "## Function 3 - np.stack()\n",
    "\n",
    "Join a sequence of arrays along a new axis."
   ]
  },
  {
   "cell_type": "code",
   "execution_count": 30,
   "metadata": {
    "colab": {
     "base_uri": "https://localhost:8080/"
    },
    "executionInfo": {
     "elapsed": 4615,
     "status": "ok",
     "timestamp": 1607546936719,
     "user": {
      "displayName": "Tanvi Patel",
      "photoUrl": "https://lh3.googleusercontent.com/a-/AOh14GhEzOH8u0twqYzmOWwhgOGzrnWvaw78WUL_P8mx=s64",
      "userId": "05270161629470731830"
     },
     "user_tz": -330
    },
    "id": "9DPqSSu6F9gm",
    "outputId": "18a4843e-ee40-4cab-ab52-f1c21ba1cb37"
   },
   "outputs": [
    {
     "name": "stdout",
     "output_type": "stream",
     "text": [
      "[[1 6]\n",
      " [2 7]\n",
      " [3 8]\n",
      " [4 9]\n",
      " [5 0]]\n",
      "(5, 2)\n"
     ]
    }
   ],
   "source": [
    "# Example 1 - working\n",
    "a1 = np.array([1,2,3,4,5])\n",
    "a2 = np.array([6,7,8,9,0])\n",
    "\n",
    "a3 = np.stack((a1,a2),axis=1)\n",
    "print(a3)\n",
    "print(a3.shape)"
   ]
  },
  {
   "cell_type": "markdown",
   "metadata": {
    "id": "hT89qnyQF9gn"
   },
   "source": [
    "merged a1 and a2 and changed it's shape to 5,2 to 2,5"
   ]
  },
  {
   "cell_type": "code",
   "execution_count": 34,
   "metadata": {
    "colab": {
     "base_uri": "https://localhost:8080/"
    },
    "executionInfo": {
     "elapsed": 1507,
     "status": "ok",
     "timestamp": 1607547148301,
     "user": {
      "displayName": "Tanvi Patel",
      "photoUrl": "https://lh3.googleusercontent.com/a-/AOh14GhEzOH8u0twqYzmOWwhgOGzrnWvaw78WUL_P8mx=s64",
      "userId": "05270161629470731830"
     },
     "user_tz": -330
    },
    "id": "LDpjfjGzF9gn",
    "outputId": "fd118d31-17a2-4053-f4cc-e825a73609ee"
   },
   "outputs": [
    {
     "name": "stdout",
     "output_type": "stream",
     "text": [
      "[[[ 6  7  8  9 10]\n",
      "  [11 12 13 14 15]]\n",
      "\n",
      " [[ 1  2  3  4  5]\n",
      "  [ 6  7  8  9 10]]]\n",
      "(2, 2, 5)\n"
     ]
    }
   ],
   "source": [
    "# Example 2 - working\n",
    "a1 = np.array([[6,7,8,9,10],\n",
    "         [11,12,13,14,15]])\n",
    "a2 = np.array([[1,2,3,4,5],\n",
    "                  [6,7,8,9,10]])\n",
    "\n",
    "a3 = np.stack((a1,a2))\n",
    "print(a3)\n",
    "print(a3.shape)"
   ]
  },
  {
   "cell_type": "markdown",
   "metadata": {
    "id": "_ZCIxaAuF9gn"
   },
   "source": [
    "a1 of shape: (2,5)\r\n",
    "a2 of shape: (2,5)\r\n",
    "\r\n",
    "a3 into 3D array of shape(2,2,5)"
   ]
  },
  {
   "cell_type": "code",
   "execution_count": 35,
   "metadata": {
    "colab": {
     "base_uri": "https://localhost:8080/",
     "height": 397
    },
    "executionInfo": {
     "elapsed": 1932,
     "status": "error",
     "timestamp": 1607547213572,
     "user": {
      "displayName": "Tanvi Patel",
      "photoUrl": "https://lh3.googleusercontent.com/a-/AOh14GhEzOH8u0twqYzmOWwhgOGzrnWvaw78WUL_P8mx=s64",
      "userId": "05270161629470731830"
     },
     "user_tz": -330
    },
    "id": "wGUwrE7XF9gn",
    "outputId": "c635c080-7dad-410e-db41-b13061f9189a"
   },
   "outputs": [
    {
     "ename": "ValueError",
     "evalue": "ignored",
     "output_type": "error",
     "traceback": [
      "\u001b[0;31m---------------------------------------------------------------------------\u001b[0m",
      "\u001b[0;31mValueError\u001b[0m                                Traceback (most recent call last)",
      "\u001b[0;32m<ipython-input-35-69b30259d987>\u001b[0m in \u001b[0;36m<module>\u001b[0;34m()\u001b[0m\n\u001b[1;32m     12\u001b[0m                   [11,12,13,14,15]]])\n\u001b[1;32m     13\u001b[0m \u001b[0;34m\u001b[0m\u001b[0m\n\u001b[0;32m---> 14\u001b[0;31m \u001b[0ma3\u001b[0m \u001b[0;34m=\u001b[0m \u001b[0mnp\u001b[0m\u001b[0;34m.\u001b[0m\u001b[0mstack\u001b[0m\u001b[0;34m(\u001b[0m\u001b[0;34m(\u001b[0m\u001b[0ma1\u001b[0m\u001b[0;34m,\u001b[0m\u001b[0ma2\u001b[0m\u001b[0;34m)\u001b[0m\u001b[0;34m,\u001b[0m\u001b[0maxis\u001b[0m\u001b[0;34m=\u001b[0m\u001b[0;36m1\u001b[0m\u001b[0;34m)\u001b[0m\u001b[0;34m\u001b[0m\u001b[0;34m\u001b[0m\u001b[0m\n\u001b[0m\u001b[1;32m     15\u001b[0m \u001b[0mprint\u001b[0m\u001b[0;34m(\u001b[0m\u001b[0ma3\u001b[0m\u001b[0;34m)\u001b[0m\u001b[0;34m\u001b[0m\u001b[0;34m\u001b[0m\u001b[0m\n\u001b[1;32m     16\u001b[0m \u001b[0mprint\u001b[0m\u001b[0;34m(\u001b[0m\u001b[0ma3\u001b[0m\u001b[0;34m.\u001b[0m\u001b[0mshape\u001b[0m\u001b[0;34m)\u001b[0m\u001b[0;34m\u001b[0m\u001b[0;34m\u001b[0m\u001b[0m\n",
      "\u001b[0;32m<__array_function__ internals>\u001b[0m in \u001b[0;36mstack\u001b[0;34m(*args, **kwargs)\u001b[0m\n",
      "\u001b[0;32m/usr/local/lib/python3.6/dist-packages/numpy/core/shape_base.py\u001b[0m in \u001b[0;36mstack\u001b[0;34m(arrays, axis, out)\u001b[0m\n\u001b[1;32m    424\u001b[0m     \u001b[0mshapes\u001b[0m \u001b[0;34m=\u001b[0m \u001b[0;34m{\u001b[0m\u001b[0marr\u001b[0m\u001b[0;34m.\u001b[0m\u001b[0mshape\u001b[0m \u001b[0;32mfor\u001b[0m \u001b[0marr\u001b[0m \u001b[0;32min\u001b[0m \u001b[0marrays\u001b[0m\u001b[0;34m}\u001b[0m\u001b[0;34m\u001b[0m\u001b[0;34m\u001b[0m\u001b[0m\n\u001b[1;32m    425\u001b[0m     \u001b[0;32mif\u001b[0m \u001b[0mlen\u001b[0m\u001b[0;34m(\u001b[0m\u001b[0mshapes\u001b[0m\u001b[0;34m)\u001b[0m \u001b[0;34m!=\u001b[0m \u001b[0;36m1\u001b[0m\u001b[0;34m:\u001b[0m\u001b[0;34m\u001b[0m\u001b[0;34m\u001b[0m\u001b[0m\n\u001b[0;32m--> 426\u001b[0;31m         \u001b[0;32mraise\u001b[0m \u001b[0mValueError\u001b[0m\u001b[0;34m(\u001b[0m\u001b[0;34m'all input arrays must have the same shape'\u001b[0m\u001b[0;34m)\u001b[0m\u001b[0;34m\u001b[0m\u001b[0;34m\u001b[0m\u001b[0m\n\u001b[0m\u001b[1;32m    427\u001b[0m \u001b[0;34m\u001b[0m\u001b[0m\n\u001b[1;32m    428\u001b[0m     \u001b[0mresult_ndim\u001b[0m \u001b[0;34m=\u001b[0m \u001b[0marrays\u001b[0m\u001b[0;34m[\u001b[0m\u001b[0;36m0\u001b[0m\u001b[0;34m]\u001b[0m\u001b[0;34m.\u001b[0m\u001b[0mndim\u001b[0m \u001b[0;34m+\u001b[0m \u001b[0;36m1\u001b[0m\u001b[0;34m\u001b[0m\u001b[0;34m\u001b[0m\u001b[0m\n",
      "\u001b[0;31mValueError\u001b[0m: all input arrays must have the same shape"
     ]
    }
   ],
   "source": [
    "# Example 3 - breaking (to illustrate when it breaks)\n",
    "a1 = np.array([[6.,7.,8.,9.,10.],\n",
    "         [11.,12.,13.,14.,15.]])\n",
    "a2 = np.array([[[1,2,3,4,5],\n",
    "                  [6,7,8,9,10],\n",
    "                  [11,12,13,14,15]],\n",
    "                 [[1,2,3,4,5],\n",
    "                  [6,7,8,9,10],\n",
    "                  [11,12,13,14,15]],\n",
    "                 [[1,2,3,4,5],\n",
    "                  [6,7,8,9,10],\n",
    "                  [11,12,13,14,15]]])\n",
    "\n",
    "a3 = np.stack((a1,a2),axis=1)\n",
    "print(a3)\n",
    "print(a3.shape)"
   ]
  },
  {
   "cell_type": "markdown",
   "metadata": {
    "id": "aH2yn2pNF9go"
   },
   "source": [
    "Problem: Array must have same shapes\r\n",
    "Solution: try reshaping your arrays"
   ]
  },
  {
   "cell_type": "markdown",
   "metadata": {
    "id": "oennBa5DF9go"
   },
   "source": [
    "Some closing comments about when to use this function."
   ]
  },
  {
   "cell_type": "code",
   "execution_count": 36,
   "metadata": {
    "colab": {
     "base_uri": "https://localhost:8080/",
     "height": 102
    },
    "executionInfo": {
     "elapsed": 4776,
     "status": "ok",
     "timestamp": 1607547268633,
     "user": {
      "displayName": "Tanvi Patel",
      "photoUrl": "https://lh3.googleusercontent.com/a-/AOh14GhEzOH8u0twqYzmOWwhgOGzrnWvaw78WUL_P8mx=s64",
      "userId": "05270161629470731830"
     },
     "user_tz": -330
    },
    "id": "5X2ePAjcF9go",
    "outputId": "a9328c7b-d4e4-4eb6-a896-313dc3e4f606"
   },
   "outputs": [
    {
     "name": "stdout",
     "output_type": "stream",
     "text": [
      "[jovian] Detected Colab notebook...\u001b[0m\n",
      "[jovian] Uploading colab notebook to Jovian...\u001b[0m\n",
      "[jovian] Capturing environment..\u001b[0m\n",
      "[jovian] Committed successfully! https://jovian.ai/tanu1007/numpy-array-operations\u001b[0m\n"
     ]
    },
    {
     "data": {
      "application/vnd.google.colaboratory.intrinsic+json": {
       "type": "string"
      },
      "text/plain": [
       "'https://jovian.ai/tanu1007/numpy-array-operations'"
      ]
     },
     "execution_count": 36,
     "metadata": {
      "tags": []
     },
     "output_type": "execute_result"
    }
   ],
   "source": [
    "jovian.commit(project = 'numpy-array-operations')"
   ]
  },
  {
   "cell_type": "markdown",
   "metadata": {
    "id": "Lx_1e7tsF9gr"
   },
   "source": [
    "## Function 4 - np.array_split()\n",
    "\n",
    "Split an array into multiple sub-arrays.\n",
    "\n",
    "numpy.array_split(ary, indices_or_sections, axis=0)"
   ]
  },
  {
   "cell_type": "code",
   "execution_count": 37,
   "metadata": {
    "colab": {
     "base_uri": "https://localhost:8080/"
    },
    "executionInfo": {
     "elapsed": 1437,
     "status": "ok",
     "timestamp": 1607547431702,
     "user": {
      "displayName": "Tanvi Patel",
      "photoUrl": "https://lh3.googleusercontent.com/a-/AOh14GhEzOH8u0twqYzmOWwhgOGzrnWvaw78WUL_P8mx=s64",
      "userId": "05270161629470731830"
     },
     "user_tz": -330
    },
    "id": "KO68y4cFF9gr",
    "outputId": "84ca3692-10d8-4f3f-980d-0b8aef7ec2ee"
   },
   "outputs": [
    {
     "data": {
      "text/plain": [
       "[array([0., 1., 2.]), array([3., 4., 5.]), array([6., 7., 8.])]"
      ]
     },
     "execution_count": 37,
     "metadata": {
      "tags": []
     },
     "output_type": "execute_result"
    }
   ],
   "source": [
    "# Example 1 - working\n",
    "x = x = np.arange(9.0)\n",
    "np.array_split(x, 3)"
   ]
  },
  {
   "cell_type": "markdown",
   "metadata": {
    "id": "shMUOEKDF9gs"
   },
   "source": [
    "It splits array of size 9 into 3 equal parts"
   ]
  },
  {
   "cell_type": "code",
   "execution_count": 38,
   "metadata": {
    "colab": {
     "base_uri": "https://localhost:8080/"
    },
    "executionInfo": {
     "elapsed": 1411,
     "status": "ok",
     "timestamp": 1607547519063,
     "user": {
      "displayName": "Tanvi Patel",
      "photoUrl": "https://lh3.googleusercontent.com/a-/AOh14GhEzOH8u0twqYzmOWwhgOGzrnWvaw78WUL_P8mx=s64",
      "userId": "05270161629470731830"
     },
     "user_tz": -330
    },
    "id": "yLkb5UkaF9gs",
    "outputId": "aa4e35f5-4f9b-4e4a-a7dd-49d73d2fa577"
   },
   "outputs": [
    {
     "data": {
      "text/plain": [
       "[array([0., 1., 2.]), array([3., 4.]), array([5., 6.])]"
      ]
     },
     "execution_count": 38,
     "metadata": {
      "tags": []
     },
     "output_type": "execute_result"
    }
   ],
   "source": [
    "# Example 2 - working\n",
    "x = x = np.arange(7.0)\n",
    "np.array_split(x, 3)"
   ]
  },
  {
   "cell_type": "markdown",
   "metadata": {
    "id": "A1261YRxF9gs"
   },
   "source": [
    "splits array of size into possible equal parts and then sets accordingly\r\n",
    "\r\n"
   ]
  },
  {
   "cell_type": "code",
   "execution_count": 39,
   "metadata": {
    "colab": {
     "base_uri": "https://localhost:8080/",
     "height": 488
    },
    "executionInfo": {
     "elapsed": 1238,
     "status": "error",
     "timestamp": 1607547525736,
     "user": {
      "displayName": "Tanvi Patel",
      "photoUrl": "https://lh3.googleusercontent.com/a-/AOh14GhEzOH8u0twqYzmOWwhgOGzrnWvaw78WUL_P8mx=s64",
      "userId": "05270161629470731830"
     },
     "user_tz": -330
    },
    "id": "yGL5gTfUF9gs",
    "outputId": "7f7e8c95-fe4e-45a8-c941-3c405ba49444"
   },
   "outputs": [
    {
     "ename": "ValueError",
     "evalue": "ignored",
     "output_type": "error",
     "traceback": [
      "\u001b[0;31m---------------------------------------------------------------------------\u001b[0m",
      "\u001b[0;31mTypeError\u001b[0m                                 Traceback (most recent call last)",
      "\u001b[0;32m/usr/local/lib/python3.6/dist-packages/numpy/lib/shape_base.py\u001b[0m in \u001b[0;36marray_split\u001b[0;34m(ary, indices_or_sections, axis)\u001b[0m\n\u001b[1;32m    769\u001b[0m         \u001b[0;31m# handle array case.\u001b[0m\u001b[0;34m\u001b[0m\u001b[0;34m\u001b[0m\u001b[0;34m\u001b[0m\u001b[0m\n\u001b[0;32m--> 770\u001b[0;31m         \u001b[0mNsections\u001b[0m \u001b[0;34m=\u001b[0m \u001b[0mlen\u001b[0m\u001b[0;34m(\u001b[0m\u001b[0mindices_or_sections\u001b[0m\u001b[0;34m)\u001b[0m \u001b[0;34m+\u001b[0m \u001b[0;36m1\u001b[0m\u001b[0;34m\u001b[0m\u001b[0;34m\u001b[0m\u001b[0m\n\u001b[0m\u001b[1;32m    771\u001b[0m         \u001b[0mdiv_points\u001b[0m \u001b[0;34m=\u001b[0m \u001b[0;34m[\u001b[0m\u001b[0;36m0\u001b[0m\u001b[0;34m]\u001b[0m \u001b[0;34m+\u001b[0m \u001b[0mlist\u001b[0m\u001b[0;34m(\u001b[0m\u001b[0mindices_or_sections\u001b[0m\u001b[0;34m)\u001b[0m \u001b[0;34m+\u001b[0m \u001b[0;34m[\u001b[0m\u001b[0mNtotal\u001b[0m\u001b[0;34m]\u001b[0m\u001b[0;34m\u001b[0m\u001b[0;34m\u001b[0m\u001b[0m\n",
      "\u001b[0;31mTypeError\u001b[0m: object of type 'int' has no len()",
      "\nDuring handling of the above exception, another exception occurred:\n",
      "\u001b[0;31mValueError\u001b[0m                                Traceback (most recent call last)",
      "\u001b[0;32m<ipython-input-39-f3f8f299c47e>\u001b[0m in \u001b[0;36m<module>\u001b[0;34m()\u001b[0m\n\u001b[1;32m      1\u001b[0m \u001b[0;31m# Example 3 - breaking (to illustrate when it breaks)\u001b[0m\u001b[0;34m\u001b[0m\u001b[0;34m\u001b[0m\u001b[0;34m\u001b[0m\u001b[0m\n\u001b[1;32m      2\u001b[0m \u001b[0mx\u001b[0m \u001b[0;34m=\u001b[0m \u001b[0mx\u001b[0m \u001b[0;34m=\u001b[0m \u001b[0mnp\u001b[0m\u001b[0;34m.\u001b[0m\u001b[0marange\u001b[0m\u001b[0;34m(\u001b[0m\u001b[0;36m7.0\u001b[0m\u001b[0;34m)\u001b[0m\u001b[0;34m\u001b[0m\u001b[0;34m\u001b[0m\u001b[0m\n\u001b[0;32m----> 3\u001b[0;31m \u001b[0mnp\u001b[0m\u001b[0;34m.\u001b[0m\u001b[0marray_split\u001b[0m\u001b[0;34m(\u001b[0m\u001b[0mx\u001b[0m\u001b[0;34m,\u001b[0m \u001b[0;36m0\u001b[0m\u001b[0;34m)\u001b[0m\u001b[0;34m\u001b[0m\u001b[0;34m\u001b[0m\u001b[0m\n\u001b[0m",
      "\u001b[0;32m<__array_function__ internals>\u001b[0m in \u001b[0;36marray_split\u001b[0;34m(*args, **kwargs)\u001b[0m\n",
      "\u001b[0;32m/usr/local/lib/python3.6/dist-packages/numpy/lib/shape_base.py\u001b[0m in \u001b[0;36marray_split\u001b[0;34m(ary, indices_or_sections, axis)\u001b[0m\n\u001b[1;32m    774\u001b[0m         \u001b[0mNsections\u001b[0m \u001b[0;34m=\u001b[0m \u001b[0mint\u001b[0m\u001b[0;34m(\u001b[0m\u001b[0mindices_or_sections\u001b[0m\u001b[0;34m)\u001b[0m\u001b[0;34m\u001b[0m\u001b[0;34m\u001b[0m\u001b[0m\n\u001b[1;32m    775\u001b[0m         \u001b[0;32mif\u001b[0m \u001b[0mNsections\u001b[0m \u001b[0;34m<=\u001b[0m \u001b[0;36m0\u001b[0m\u001b[0;34m:\u001b[0m\u001b[0;34m\u001b[0m\u001b[0;34m\u001b[0m\u001b[0m\n\u001b[0;32m--> 776\u001b[0;31m             \u001b[0;32mraise\u001b[0m \u001b[0mValueError\u001b[0m\u001b[0;34m(\u001b[0m\u001b[0;34m'number sections must be larger than 0.'\u001b[0m\u001b[0;34m)\u001b[0m\u001b[0;34m\u001b[0m\u001b[0;34m\u001b[0m\u001b[0m\n\u001b[0m\u001b[1;32m    777\u001b[0m         \u001b[0mNeach_section\u001b[0m\u001b[0;34m,\u001b[0m \u001b[0mextras\u001b[0m \u001b[0;34m=\u001b[0m \u001b[0mdivmod\u001b[0m\u001b[0;34m(\u001b[0m\u001b[0mNtotal\u001b[0m\u001b[0;34m,\u001b[0m \u001b[0mNsections\u001b[0m\u001b[0;34m)\u001b[0m\u001b[0;34m\u001b[0m\u001b[0;34m\u001b[0m\u001b[0m\n\u001b[1;32m    778\u001b[0m         section_sizes = ([0] +\n",
      "\u001b[0;31mValueError\u001b[0m: number sections must be larger than 0."
     ]
    }
   ],
   "source": [
    "# Example 3 - breaking (to illustrate when it breaks)\n",
    "x = x = np.arange(7.0)\n",
    "np.array_split(x, 0)"
   ]
  },
  {
   "cell_type": "markdown",
   "metadata": {
    "id": "5Pm5SlTcF9gt"
   },
   "source": [
    "The parameter indices should be greater than zero in order to work."
   ]
  },
  {
   "cell_type": "markdown",
   "metadata": {
    "id": "yxRNxlAGF9gt"
   },
   "source": [
    "This function is mainly used to extract required information through splitting which makes work easy"
   ]
  },
  {
   "cell_type": "code",
   "execution_count": 40,
   "metadata": {
    "colab": {
     "base_uri": "https://localhost:8080/",
     "height": 102
    },
    "executionInfo": {
     "elapsed": 4833,
     "status": "ok",
     "timestamp": 1607547551697,
     "user": {
      "displayName": "Tanvi Patel",
      "photoUrl": "https://lh3.googleusercontent.com/a-/AOh14GhEzOH8u0twqYzmOWwhgOGzrnWvaw78WUL_P8mx=s64",
      "userId": "05270161629470731830"
     },
     "user_tz": -330
    },
    "id": "7FMU2-exF9gt",
    "outputId": "1bfe5887-aa22-40e1-ec42-94a70bc954e6"
   },
   "outputs": [
    {
     "name": "stdout",
     "output_type": "stream",
     "text": [
      "[jovian] Detected Colab notebook...\u001b[0m\n",
      "[jovian] Uploading colab notebook to Jovian...\u001b[0m\n",
      "[jovian] Capturing environment..\u001b[0m\n",
      "[jovian] Committed successfully! https://jovian.ai/tanu1007/numpy-array-operations\u001b[0m\n"
     ]
    },
    {
     "data": {
      "application/vnd.google.colaboratory.intrinsic+json": {
       "type": "string"
      },
      "text/plain": [
       "'https://jovian.ai/tanu1007/numpy-array-operations'"
      ]
     },
     "execution_count": 40,
     "metadata": {
      "tags": []
     },
     "output_type": "execute_result"
    }
   ],
   "source": [
    "jovian.commit(project = 'numpy-array-operations')"
   ]
  },
  {
   "cell_type": "markdown",
   "metadata": {
    "id": "FChUvOePF9gt"
   },
   "source": [
    "## Function 5 - np.resize()\n",
    "\n",
    "Return a new array with the specified shape."
   ]
  },
  {
   "cell_type": "code",
   "execution_count": 49,
   "metadata": {
    "colab": {
     "base_uri": "https://localhost:8080/"
    },
    "executionInfo": {
     "elapsed": 2404,
     "status": "ok",
     "timestamp": 1607547823399,
     "user": {
      "displayName": "Tanvi Patel",
      "photoUrl": "https://lh3.googleusercontent.com/a-/AOh14GhEzOH8u0twqYzmOWwhgOGzrnWvaw78WUL_P8mx=s64",
      "userId": "05270161629470731830"
     },
     "user_tz": -330
    },
    "id": "GnF3bNxaF9gu",
    "outputId": "018a165a-a873-4762-baac-d116f3bcebfb"
   },
   "outputs": [
    {
     "name": "stdout",
     "output_type": "stream",
     "text": [
      "[0. 1. 2. 3. 4. 5. 6. 7. 8.]\n",
      "\n",
      "[[0. 1. 2.]\n",
      " [3. 4. 5.]\n",
      " [6. 7. 8.]]\n"
     ]
    }
   ],
   "source": [
    "# Example 1 - working\n",
    "x = x = np.arange(9.0)\n",
    "y = np.resize(x,(3,3))\n",
    "print(x)\n",
    "print()\n",
    "print(y)"
   ]
  },
  {
   "cell_type": "markdown",
   "metadata": {
    "id": "6pqbCdaKF9gu"
   },
   "source": [
    "shape of x: (1,9)\r\n",
    "shape of y: (3,3)"
   ]
  },
  {
   "cell_type": "code",
   "execution_count": 48,
   "metadata": {
    "colab": {
     "base_uri": "https://localhost:8080/"
    },
    "executionInfo": {
     "elapsed": 3165,
     "status": "ok",
     "timestamp": 1607547813021,
     "user": {
      "displayName": "Tanvi Patel",
      "photoUrl": "https://lh3.googleusercontent.com/a-/AOh14GhEzOH8u0twqYzmOWwhgOGzrnWvaw78WUL_P8mx=s64",
      "userId": "05270161629470731830"
     },
     "user_tz": -330
    },
    "id": "aBmkBGF7F9gu",
    "outputId": "849eb8f5-7877-4530-fa2e-464fb3834be2"
   },
   "outputs": [
    {
     "name": "stdout",
     "output_type": "stream",
     "text": [
      "[[ 0  1  2  3]\n",
      " [ 4  5  6  7]\n",
      " [ 8  9 10 11]\n",
      " [12 13 14 15]]\n",
      "\n",
      "[[ 0  1  2  3  4  5  6  7]\n",
      " [ 8  9 10 11 12 13 14 15]]\n"
     ]
    }
   ],
   "source": [
    "# Example 2 - working\n",
    "x = x = np.arange(16).reshape(4,4)\n",
    "y = np.resize(x,(2,8))\n",
    "print(x)\n",
    "print()\n",
    "print(y)"
   ]
  },
  {
   "cell_type": "markdown",
   "metadata": {
    "id": "ye_jv1yhF9gv"
   },
   "source": [
    "shape of x: (4,4)\r\n",
    "shape of y: (2,8)"
   ]
  },
  {
   "cell_type": "code",
   "execution_count": 55,
   "metadata": {
    "colab": {
     "base_uri": "https://localhost:8080/",
     "height": 128
    },
    "executionInfo": {
     "elapsed": 1385,
     "status": "error",
     "timestamp": 1607548088655,
     "user": {
      "displayName": "Tanvi Patel",
      "photoUrl": "https://lh3.googleusercontent.com/a-/AOh14GhEzOH8u0twqYzmOWwhgOGzrnWvaw78WUL_P8mx=s64",
      "userId": "05270161629470731830"
     },
     "user_tz": -330
    },
    "id": "DOiYudBwF9gv",
    "outputId": "07e1129d-cc70-4903-afc0-0ba215d8bf16"
   },
   "outputs": [
    {
     "ename": "SyntaxError",
     "evalue": "ignored",
     "output_type": "error",
     "traceback": [
      "\u001b[0;36m  File \u001b[0;32m\"<ipython-input-55-20df1e743490>\"\u001b[0;36m, line \u001b[0;32m3\u001b[0m\n\u001b[0;31m    y = np.resize(x,(2,2 0))\u001b[0m\n\u001b[0m                         ^\u001b[0m\n\u001b[0;31mSyntaxError\u001b[0m\u001b[0;31m:\u001b[0m invalid syntax\n"
     ]
    }
   ],
   "source": [
    "# Example 3 - breaking (to illustrate when it breaks)\n",
    "x = x = np.arange(16).reshape(4,4)\n",
    "y = np.resize(x,(2,2 0))\n",
    "print(x)\n",
    "print()\n",
    "print(y)"
   ]
  },
  {
   "cell_type": "markdown",
   "metadata": {
    "id": "tjLS2A-OF9gv"
   },
   "source": [
    "Problem: it's breaks only when theres a syntax error"
   ]
  },
  {
   "cell_type": "markdown",
   "metadata": {
    "id": "Es_zS0yeF9gv"
   },
   "source": [
    "If the new array has more rows, it will repeat the data in the original array but not raise the error."
   ]
  },
  {
   "cell_type": "code",
   "execution_count": 56,
   "metadata": {
    "colab": {
     "base_uri": "https://localhost:8080/",
     "height": 102
    },
    "executionInfo": {
     "elapsed": 4162,
     "status": "ok",
     "timestamp": 1607548182093,
     "user": {
      "displayName": "Tanvi Patel",
      "photoUrl": "https://lh3.googleusercontent.com/a-/AOh14GhEzOH8u0twqYzmOWwhgOGzrnWvaw78WUL_P8mx=s64",
      "userId": "05270161629470731830"
     },
     "user_tz": -330
    },
    "id": "9Ke-CDKlF9gv",
    "outputId": "d964cdf4-5046-4deb-efc4-46e18c5d928b"
   },
   "outputs": [
    {
     "name": "stdout",
     "output_type": "stream",
     "text": [
      "[jovian] Detected Colab notebook...\u001b[0m\n",
      "[jovian] Uploading colab notebook to Jovian...\u001b[0m\n",
      "[jovian] Capturing environment..\u001b[0m\n",
      "[jovian] Committed successfully! https://jovian.ai/tanu1007/numpy-array-operations\u001b[0m\n"
     ]
    },
    {
     "data": {
      "application/vnd.google.colaboratory.intrinsic+json": {
       "type": "string"
      },
      "text/plain": [
       "'https://jovian.ai/tanu1007/numpy-array-operations'"
      ]
     },
     "execution_count": 56,
     "metadata": {
      "tags": []
     },
     "output_type": "execute_result"
    }
   ],
   "source": [
    "jovian.commit(project = 'numpy-array-operations')"
   ]
  },
  {
   "cell_type": "markdown",
   "metadata": {
    "id": "jMyRVVQxF9gw"
   },
   "source": [
    "## Conclusion\n",
    "\n",
    "This notebook covers all the main functions of numpy which is widely and frequently used in all the applications which includes arrays. This all functions are integral part of any big algorithms which we see and build. Hence proper understanding and working of these funcions is mandontary and required"
   ]
  },
  {
   "cell_type": "markdown",
   "metadata": {
    "id": "57oheH75F9gw"
   },
   "source": [
    "## Reference Links\n",
    "Provide links to your references and other interesting articles about Numpy arrays:\n",
    "* Numpy official tutorial : https://numpy.org/doc/stable/user/quickstart.html\n",
    "* ..."
   ]
  },
  {
   "cell_type": "code",
   "execution_count": 57,
   "metadata": {
    "colab": {
     "base_uri": "https://localhost:8080/",
     "height": 178
    },
    "executionInfo": {
     "elapsed": 1449,
     "status": "error",
     "timestamp": 1607548246411,
     "user": {
      "displayName": "Tanvi Patel",
      "photoUrl": "https://lh3.googleusercontent.com/a-/AOh14GhEzOH8u0twqYzmOWwhgOGzrnWvaw78WUL_P8mx=s64",
      "userId": "05270161629470731830"
     },
     "user_tz": -330
    },
    "id": "rNde46p6F9gw",
    "outputId": "4214d0fc-76ae-4f40-e3bf-a8ce0ed4e775"
   },
   "outputs": [
    {
     "ename": "SyntaxError",
     "evalue": "ignored",
     "output_type": "error",
     "traceback": [
      "\u001b[0;36m  File \u001b[0;32m\"<ipython-input-57-3c377afcacbf>\"\u001b[0;36m, line \u001b[0;32m1\u001b[0m\n\u001b[0;31m    jovian.commit(his notebook covers all the main functions of numpy which is widely and frequently used in all the applications which includes arrays. This all functions are integral part of any big algorithms which we see and build. Hence proper understanding and working of these funcions is mandontary and requi)\u001b[0m\n\u001b[0m                             ^\u001b[0m\n\u001b[0;31mSyntaxError\u001b[0m\u001b[0;31m:\u001b[0m invalid syntax\n"
     ]
    }
   ],
   "source": [
    "jovian.commit(his notebook covers all the main functions of numpy which is widely and frequently used in all the applications which includes arrays. This all functions are integral part of any big algorithms which we see and build. Hence proper understanding and working of these funcions is mandontary and requi)"
   ]
  },
  {
   "cell_type": "code",
   "execution_count": null,
   "metadata": {
    "id": "yqSDDghCF9gy"
   },
   "outputs": [],
   "source": []
  }
 ],
 "metadata": {
  "colab": {
   "name": "numpy-array-operations.ipynb",
   "provenance": []
  },
  "language_info": {
   "codemirror_mode": {
    "name": "ipython",
    "version": 3
   },
   "file_extension": ".py",
   "mimetype": "text/x-python",
   "name": "python",
   "nbconvert_exporter": "python",
   "pygments_lexer": "ipython3",
   "version": "3.8.5"
  }
 },
 "nbformat": 4,
 "nbformat_minor": 0
}