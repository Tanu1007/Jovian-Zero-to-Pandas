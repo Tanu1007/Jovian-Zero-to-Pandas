{
 "cells": [
  {
   "cell_type": "markdown",
   "metadata": {
    "id": "R5srwzs_I1wn"
   },
   "source": [
    "# Assignment 1 - Python Basics Practice\n",
    "\n",
    "*This assignment is a part of the course [\"Data Analysis with Python: Zero to Pandas\"](https://jovian.ml/learn/data-analysis-with-python-zero-to-pandas)*\n",
    "\n",
    "In this assignment, you'll get to practice some of the concepts and skills covered in the following notebooks:\n",
    "\n",
    "1. [First Steps with Python and Jupyter](https://jovian.ml/aakashns/first-steps-with-python)\n",
    "2. [A Quick Tour of Variables and Data Types](https://jovian.ml/aakashns/python-variables-and-data-types)\n",
    "3. [Branching using Conditional Statements and Loops](https://jovian.ml/aakashns/python-branching-and-loops)\n",
    "\n",
    "As you go through this notebook, you will find a **???** in certain places. To complete this assignment, you must replace all the **???** with appropriate values, expressions or statements to ensure that the notebook runs properly end-to-end. \n",
    "\n",
    "Some things to keep in mind:\n",
    "\n",
    "* Make sure to run all the code cells, otherwise you may get errors like `NameError` for undefined variables.\n",
    "* Do not change variable names, delete cells or disturb other existing code. It may cause problems during evaluation.\n",
    "* In some cases, you may need to add some code cells or new statements before or after the line of code containing the **???**. \n",
    "* Since you'll be using a temporary online service for code execution, save your work by running `jovian.commit` at regular intervals.\n",
    "* Questions marked **(Optional)** will not be considered for evaluation, and can be skipped. They are for your learning.\n",
    "\n",
    "You can make submissions on this page: https://jovian.ml/learn/data-analysis-with-python-zero-to-pandas/assignment/assignment-1-python-basics-practice\n",
    "\n",
    "If you are stuck, you can ask for help on the community forum: https://jovian.ml/forum/t/assignment-1-python-practice/7761 . You can get help with errors or ask for hints, but **please don't ask for or share the full working answer code** on the forum.\n",
    "\n",
    "\n",
    "## How to run the code and save your work\n",
    "\n",
    "The recommended way to run this notebook is to click the \"Run\" button at the top of this page, and select \"Run on Binder\". This will run the notebook on [mybinder.org](https://mybinder.org), a free online service for running Jupyter notebooks. \n",
    "\n",
    "Before staring the assignment, let's save a snapshot of the assignment to your Jovian.ml profile, so that you can access it later, and continue your work."
   ]
  },
  {
   "cell_type": "code",
   "execution_count": 2,
   "metadata": {
    "executionInfo": {
     "elapsed": 9662,
     "status": "ok",
     "timestamp": 1607360297430,
     "user": {
      "displayName": "Tanvi Patel",
      "photoUrl": "https://lh3.googleusercontent.com/a-/AOh14GhEzOH8u0twqYzmOWwhgOGzrnWvaw78WUL_P8mx=s64",
      "userId": "05270161629470731830"
     },
     "user_tz": -330
    },
    "id": "PuGGiZjgI1wn"
   },
   "outputs": [],
   "source": [
    "# Install the library\n",
    "!pip install jovian --upgrade --quiet"
   ]
  },
  {
   "cell_type": "code",
   "execution_count": 3,
   "metadata": {
    "executionInfo": {
     "elapsed": 1559,
     "status": "ok",
     "timestamp": 1607360301980,
     "user": {
      "displayName": "Tanvi Patel",
      "photoUrl": "https://lh3.googleusercontent.com/a-/AOh14GhEzOH8u0twqYzmOWwhgOGzrnWvaw78WUL_P8mx=s64",
      "userId": "05270161629470731830"
     },
     "user_tz": -330
    },
    "id": "kBQtq74XI1wn"
   },
   "outputs": [],
   "source": [
    "# Import it\n",
    "import jovian"
   ]
  },
  {
   "cell_type": "code",
   "execution_count": 4,
   "metadata": {
    "executionInfo": {
     "elapsed": 1362,
     "status": "ok",
     "timestamp": 1607360305012,
     "user": {
      "displayName": "Tanvi Patel",
      "photoUrl": "https://lh3.googleusercontent.com/a-/AOh14GhEzOH8u0twqYzmOWwhgOGzrnWvaw78WUL_P8mx=s64",
      "userId": "05270161629470731830"
     },
     "user_tz": -330
    },
    "id": "SCHUtnIVI1wn"
   },
   "outputs": [],
   "source": [
    "project_name='python-practice-assignment'"
   ]
  },
  {
   "cell_type": "code",
   "execution_count": 5,
   "metadata": {
    "colab": {
     "base_uri": "https://localhost:8080/",
     "height": 136
    },
    "executionInfo": {
     "elapsed": 15238,
     "status": "ok",
     "timestamp": 1607360323755,
     "user": {
      "displayName": "Tanvi Patel",
      "photoUrl": "https://lh3.googleusercontent.com/a-/AOh14GhEzOH8u0twqYzmOWwhgOGzrnWvaw78WUL_P8mx=s64",
      "userId": "05270161629470731830"
     },
     "user_tz": -330
    },
    "id": "2rxAM4v_I1wn",
    "outputId": "6ff70644-c145-427e-f9d3-d445b778e589"
   },
   "outputs": [
    {
     "name": "stdout",
     "output_type": "stream",
     "text": [
      "[jovian] Detected Colab notebook...\u001b[0m\n",
      "[jovian] Please enter your API key ( from https://jovian.ai/ ):\u001b[0m\n",
      "API KEY: ··········\n",
      "[jovian] Uploading colab notebook to Jovian...\u001b[0m\n",
      "[jovian] Capturing environment..\u001b[0m\n",
      "[jovian] Committed successfully! https://jovian.ai/tanu1007/python-practice-assignment\u001b[0m\n"
     ]
    },
    {
     "data": {
      "application/vnd.google.colaboratory.intrinsic+json": {
       "type": "string"
      },
      "text/plain": [
       "'https://jovian.ai/tanu1007/python-practice-assignment'"
      ]
     },
     "execution_count": 5,
     "metadata": {
      "tags": []
     },
     "output_type": "execute_result"
    }
   ],
   "source": [
    "# Capture and upload a snapshot\n",
    "jovian.commit(project=project_name, privacy='secret', evironment=None)"
   ]
  },
  {
   "cell_type": "markdown",
   "metadata": {
    "id": "NQS75njVI1wp"
   },
   "source": [
    "You'll be asked to provide an API Key, to securely upload the notebook to your Jovian.ml account. You can get the API key from your Jovian.ml profile page after logging in / signing up. See the docs for details: https://jovian.ml/docs/user-guide/upload.html . The privacy of your assignment notebook is set to *Secret*, so that you can the evlauators can access it, but it will not shown on your public profile to other users."
   ]
  },
  {
   "cell_type": "markdown",
   "metadata": {
    "id": "g1kSp-E4I1wp"
   },
   "source": [
    "## Problem 1 - Variables and Data Types\n",
    "\n",
    "**Q: Assign your name to the variable `name`.**"
   ]
  },
  {
   "cell_type": "code",
   "execution_count": 6,
   "metadata": {
    "executionInfo": {
     "elapsed": 2392,
     "status": "ok",
     "timestamp": 1607360364110,
     "user": {
      "displayName": "Tanvi Patel",
      "photoUrl": "https://lh3.googleusercontent.com/a-/AOh14GhEzOH8u0twqYzmOWwhgOGzrnWvaw78WUL_P8mx=s64",
      "userId": "05270161629470731830"
     },
     "user_tz": -330
    },
    "id": "qO63kGFrI1wp"
   },
   "outputs": [],
   "source": [
    "name = \"Tanvi\""
   ]
  },
  {
   "cell_type": "markdown",
   "metadata": {
    "id": "9wufnoNBI1wp"
   },
   "source": [
    "**Q: Assign your age (real or fake) to the variable `age`.**"
   ]
  },
  {
   "cell_type": "code",
   "execution_count": 7,
   "metadata": {
    "executionInfo": {
     "elapsed": 3415,
     "status": "ok",
     "timestamp": 1607360369071,
     "user": {
      "displayName": "Tanvi Patel",
      "photoUrl": "https://lh3.googleusercontent.com/a-/AOh14GhEzOH8u0twqYzmOWwhgOGzrnWvaw78WUL_P8mx=s64",
      "userId": "05270161629470731830"
     },
     "user_tz": -330
    },
    "id": "LMxzZsSgI1wp"
   },
   "outputs": [],
   "source": [
    "age = 21"
   ]
  },
  {
   "cell_type": "markdown",
   "metadata": {
    "id": "I7OtugeNI1wp"
   },
   "source": [
    "**Q: Assign a boolean value to the variable `has_android_phone`.**"
   ]
  },
  {
   "cell_type": "code",
   "execution_count": 8,
   "metadata": {
    "executionInfo": {
     "elapsed": 3317,
     "status": "ok",
     "timestamp": 1607360373089,
     "user": {
      "displayName": "Tanvi Patel",
      "photoUrl": "https://lh3.googleusercontent.com/a-/AOh14GhEzOH8u0twqYzmOWwhgOGzrnWvaw78WUL_P8mx=s64",
      "userId": "05270161629470731830"
     },
     "user_tz": -330
    },
    "id": "a2F2smFeI1wp"
   },
   "outputs": [],
   "source": [
    "has_android_phone = True"
   ]
  },
  {
   "cell_type": "markdown",
   "metadata": {
    "id": "etndz_TwI1wp"
   },
   "source": [
    "You can check the values of these variables by running the next cell."
   ]
  },
  {
   "cell_type": "code",
   "execution_count": 9,
   "metadata": {
    "colab": {
     "base_uri": "https://localhost:8080/"
    },
    "executionInfo": {
     "elapsed": 3040,
     "status": "ok",
     "timestamp": 1607360376729,
     "user": {
      "displayName": "Tanvi Patel",
      "photoUrl": "https://lh3.googleusercontent.com/a-/AOh14GhEzOH8u0twqYzmOWwhgOGzrnWvaw78WUL_P8mx=s64",
      "userId": "05270161629470731830"
     },
     "user_tz": -330
    },
    "id": "8OUFW8ZKI1wp",
    "outputId": "893bd8ab-cd01-4325-c751-5e1c769e2663"
   },
   "outputs": [
    {
     "data": {
      "text/plain": [
       "('Tanvi', 21, True)"
      ]
     },
     "execution_count": 9,
     "metadata": {
      "tags": []
     },
     "output_type": "execute_result"
    }
   ],
   "source": [
    "name, age, has_android_phone"
   ]
  },
  {
   "cell_type": "markdown",
   "metadata": {
    "id": "0Dw0udjBI1wp"
   },
   "source": [
    "**Q: Create a dictionary `person` with keys `\"Name\"`, `\"Age\"`, `\"HasAndroidPhone\"` and values using the variables defined above.**"
   ]
  },
  {
   "cell_type": "code",
   "execution_count": 10,
   "metadata": {
    "executionInfo": {
     "elapsed": 2110,
     "status": "ok",
     "timestamp": 1607360567452,
     "user": {
      "displayName": "Tanvi Patel",
      "photoUrl": "https://lh3.googleusercontent.com/a-/AOh14GhEzOH8u0twqYzmOWwhgOGzrnWvaw78WUL_P8mx=s64",
      "userId": "05270161629470731830"
     },
     "user_tz": -330
    },
    "id": "ik-K8QJUI1wp"
   },
   "outputs": [],
   "source": [
    "person = {\"Name\":name,\"Age\": age,\"HasAndroidPhone\":has_android_phone}"
   ]
  },
  {
   "cell_type": "markdown",
   "metadata": {
    "id": "dB7we4IYI1wp"
   },
   "source": [
    "Let's use the `person` dictionary to print a nice message."
   ]
  },
  {
   "cell_type": "code",
   "execution_count": 11,
   "metadata": {
    "colab": {
     "base_uri": "https://localhost:8080/"
    },
    "executionInfo": {
     "elapsed": 1532,
     "status": "ok",
     "timestamp": 1607360573435,
     "user": {
      "displayName": "Tanvi Patel",
      "photoUrl": "https://lh3.googleusercontent.com/a-/AOh14GhEzOH8u0twqYzmOWwhgOGzrnWvaw78WUL_P8mx=s64",
      "userId": "05270161629470731830"
     },
     "user_tz": -330
    },
    "id": "dxcn7jzXI1wp",
    "outputId": "b1e6cf5c-37c2-4dd3-d5cd-b8eb26aea523"
   },
   "outputs": [
    {
     "name": "stdout",
     "output_type": "stream",
     "text": [
      "Tanvi is aged 21, and owns an Android phone.\n"
     ]
    }
   ],
   "source": [
    "print(\"{} is aged {}, and owns an {}.\".format(\n",
    "    person[\"Name\"], \n",
    "    person[\"Age\"], \n",
    "    \"Android phone\" if person[\"HasAndroidPhone\"] else \"iPhone\"\n",
    "))"
   ]
  },
  {
   "cell_type": "markdown",
   "metadata": {
    "id": "UyhW4G8_I1wp"
   },
   "source": [
    "**Q (Optional): Use a `for` loop to display the `type` of each value stored against each key in `person`.**\n",
    "\n",
    "Here's the expected output for the key `\"Name\"`: \n",
    "\n",
    "```\n",
    "The key \"Name\" has the value \"Derek\" of the type \"<class 'str'>\"\n",
    "```"
   ]
  },
  {
   "cell_type": "code",
   "execution_count": 17,
   "metadata": {
    "colab": {
     "base_uri": "https://localhost:8080/"
    },
    "executionInfo": {
     "elapsed": 1481,
     "status": "ok",
     "timestamp": 1607360887436,
     "user": {
      "displayName": "Tanvi Patel",
      "photoUrl": "https://lh3.googleusercontent.com/a-/AOh14GhEzOH8u0twqYzmOWwhgOGzrnWvaw78WUL_P8mx=s64",
      "userId": "05270161629470731830"
     },
     "user_tz": -330
    },
    "id": "qb78pKjII1wp",
    "outputId": "12f02a99-3ff9-41c1-8829-9b71d36bc8a8"
   },
   "outputs": [
    {
     "name": "stdout",
     "output_type": "stream",
     "text": [
      "The key Name has the value Tanvi of type <class 'str'>\n",
      "The key Age has the value 21 of type <class 'int'>\n",
      "The key HasAndroidPhone has the value True of type <class 'bool'>\n"
     ]
    }
   ],
   "source": [
    "# this is optional\n",
    "for _ in person:\n",
    "  print(\"The key {} has the value {} of type {}\".format(_,person[_],type(person[_])))"
   ]
  },
  {
   "cell_type": "markdown",
   "metadata": {
    "id": "0lVOO6RlI1wp"
   },
   "source": [
    "Now that you've solved one problem, it would be a good idea to record a snapshot of your notebook."
   ]
  },
  {
   "cell_type": "code",
   "execution_count": 18,
   "metadata": {
    "colab": {
     "base_uri": "https://localhost:8080/",
     "height": 86
    },
    "executionInfo": {
     "elapsed": 4207,
     "status": "ok",
     "timestamp": 1607360900824,
     "user": {
      "displayName": "Tanvi Patel",
      "photoUrl": "https://lh3.googleusercontent.com/a-/AOh14GhEzOH8u0twqYzmOWwhgOGzrnWvaw78WUL_P8mx=s64",
      "userId": "05270161629470731830"
     },
     "user_tz": -330
    },
    "id": "zATbYaGAI1wp",
    "outputId": "90d9940a-e044-486c-8a72-d26ab36daccd"
   },
   "outputs": [
    {
     "name": "stdout",
     "output_type": "stream",
     "text": [
      "[jovian] Detected Colab notebook...\u001b[0m\n",
      "[jovian] Uploading colab notebook to Jovian...\u001b[0m\n",
      "[jovian] Committed successfully! https://jovian.ai/tanu1007/python-practice-assignment\u001b[0m\n"
     ]
    },
    {
     "data": {
      "application/vnd.google.colaboratory.intrinsic+json": {
       "type": "string"
      },
      "text/plain": [
       "'https://jovian.ai/tanu1007/python-practice-assignment'"
      ]
     },
     "execution_count": 18,
     "metadata": {
      "tags": []
     },
     "output_type": "execute_result"
    }
   ],
   "source": [
    "jovian.commit(project=project_name,environment=None)"
   ]
  },
  {
   "cell_type": "markdown",
   "metadata": {
    "id": "deDc-uEEI1wp"
   },
   "source": [
    "## Problem 2 - Working with Lists\n",
    "\n",
    "**Q: Create a list containing the following 3 elements:**\n",
    "\n",
    "* your favorite color\n",
    "* the number of pets you have\n",
    "* a boolean value describing whether you have previous programming experience\n"
   ]
  },
  {
   "cell_type": "code",
   "execution_count": 19,
   "metadata": {
    "executionInfo": {
     "elapsed": 1258,
     "status": "ok",
     "timestamp": 1607360939280,
     "user": {
      "displayName": "Tanvi Patel",
      "photoUrl": "https://lh3.googleusercontent.com/a-/AOh14GhEzOH8u0twqYzmOWwhgOGzrnWvaw78WUL_P8mx=s64",
      "userId": "05270161629470731830"
     },
     "user_tz": -330
    },
    "id": "lZR31EV4I1wp"
   },
   "outputs": [],
   "source": [
    "my_list = [\"red\",2,True]"
   ]
  },
  {
   "cell_type": "markdown",
   "metadata": {
    "id": "bV2tHA8CI1wp"
   },
   "source": [
    "Let's see what the list looks like:"
   ]
  },
  {
   "cell_type": "code",
   "execution_count": 20,
   "metadata": {
    "colab": {
     "base_uri": "https://localhost:8080/"
    },
    "executionInfo": {
     "elapsed": 1391,
     "status": "ok",
     "timestamp": 1607360942185,
     "user": {
      "displayName": "Tanvi Patel",
      "photoUrl": "https://lh3.googleusercontent.com/a-/AOh14GhEzOH8u0twqYzmOWwhgOGzrnWvaw78WUL_P8mx=s64",
      "userId": "05270161629470731830"
     },
     "user_tz": -330
    },
    "id": "xLsmMNXcI1wp",
    "outputId": "adfe06bd-7942-4e05-e343-28712ca70118"
   },
   "outputs": [
    {
     "data": {
      "text/plain": [
       "['red', 2, True]"
      ]
     },
     "execution_count": 20,
     "metadata": {
      "tags": []
     },
     "output_type": "execute_result"
    }
   ],
   "source": [
    "my_list"
   ]
  },
  {
   "cell_type": "markdown",
   "metadata": {
    "id": "LkaD5ixZI1wp"
   },
   "source": [
    "**Q: Complete the following `print` and `if` statements by accessing the appropriate elements from `my_list`.**\n",
    "\n",
    "*Hint*: Use the list indexing notation `[]`."
   ]
  },
  {
   "cell_type": "code",
   "execution_count": 21,
   "metadata": {
    "colab": {
     "base_uri": "https://localhost:8080/"
    },
    "executionInfo": {
     "elapsed": 1404,
     "status": "ok",
     "timestamp": 1607360971345,
     "user": {
      "displayName": "Tanvi Patel",
      "photoUrl": "https://lh3.googleusercontent.com/a-/AOh14GhEzOH8u0twqYzmOWwhgOGzrnWvaw78WUL_P8mx=s64",
      "userId": "05270161629470731830"
     },
     "user_tz": -330
    },
    "id": "AkT5ohNwI1wp",
    "outputId": "800f73e9-aba5-4a69-ebaf-ef36e4b13d17"
   },
   "outputs": [
    {
     "name": "stdout",
     "output_type": "stream",
     "text": [
      "My favorite color is red\n"
     ]
    }
   ],
   "source": [
    "print('My favorite color is', my_list[0])"
   ]
  },
  {
   "cell_type": "code",
   "execution_count": 22,
   "metadata": {
    "colab": {
     "base_uri": "https://localhost:8080/"
    },
    "executionInfo": {
     "elapsed": 1588,
     "status": "ok",
     "timestamp": 1607360992887,
     "user": {
      "displayName": "Tanvi Patel",
      "photoUrl": "https://lh3.googleusercontent.com/a-/AOh14GhEzOH8u0twqYzmOWwhgOGzrnWvaw78WUL_P8mx=s64",
      "userId": "05270161629470731830"
     },
     "user_tz": -330
    },
    "id": "HdfTHb0SI1wp",
    "outputId": "46222173-dd24-48c7-e24c-1c8d95a5b23e"
   },
   "outputs": [
    {
     "name": "stdout",
     "output_type": "stream",
     "text": [
      "I have 2 pet(s).\n"
     ]
    }
   ],
   "source": [
    "print('I have {} pet(s).'.format(my_list[1]))"
   ]
  },
  {
   "cell_type": "code",
   "execution_count": 23,
   "metadata": {
    "colab": {
     "base_uri": "https://localhost:8080/"
    },
    "executionInfo": {
     "elapsed": 1408,
     "status": "ok",
     "timestamp": 1607361014034,
     "user": {
      "displayName": "Tanvi Patel",
      "photoUrl": "https://lh3.googleusercontent.com/a-/AOh14GhEzOH8u0twqYzmOWwhgOGzrnWvaw78WUL_P8mx=s64",
      "userId": "05270161629470731830"
     },
     "user_tz": -330
    },
    "id": "BgwNYcs6I1wp",
    "outputId": "5a00eea8-fd02-4436-91fb-cf5a76824b82"
   },
   "outputs": [
    {
     "name": "stdout",
     "output_type": "stream",
     "text": [
      "I have previous programming experience\n"
     ]
    }
   ],
   "source": [
    "if my_list[2]:\n",
    "    print(\"I have previous programming experience\")\n",
    "else:\n",
    "    print(\"I do not have previous programming experience\")"
   ]
  },
  {
   "cell_type": "markdown",
   "metadata": {
    "id": "F7BmLNeYI1wp"
   },
   "source": [
    "**Q: Add your favorite single digit number to the end of the list using the appropriate list method.**"
   ]
  },
  {
   "cell_type": "code",
   "execution_count": 24,
   "metadata": {
    "executionInfo": {
     "elapsed": 2417,
     "status": "ok",
     "timestamp": 1607361044942,
     "user": {
      "displayName": "Tanvi Patel",
      "photoUrl": "https://lh3.googleusercontent.com/a-/AOh14GhEzOH8u0twqYzmOWwhgOGzrnWvaw78WUL_P8mx=s64",
      "userId": "05270161629470731830"
     },
     "user_tz": -330
    },
    "id": "Zg_jUhYBI1wp"
   },
   "outputs": [],
   "source": [
    "my_list.append(69)"
   ]
  },
  {
   "cell_type": "markdown",
   "metadata": {
    "id": "wy-JTpBSI1wp"
   },
   "source": [
    "Let's see if the number shows up in the list."
   ]
  },
  {
   "cell_type": "code",
   "execution_count": 25,
   "metadata": {
    "colab": {
     "base_uri": "https://localhost:8080/"
    },
    "executionInfo": {
     "elapsed": 3370,
     "status": "ok",
     "timestamp": 1607361050010,
     "user": {
      "displayName": "Tanvi Patel",
      "photoUrl": "https://lh3.googleusercontent.com/a-/AOh14GhEzOH8u0twqYzmOWwhgOGzrnWvaw78WUL_P8mx=s64",
      "userId": "05270161629470731830"
     },
     "user_tz": -330
    },
    "id": "DTmobZGxI1wp",
    "outputId": "ebdd71cf-366a-4a1f-de59-964dab51c467"
   },
   "outputs": [
    {
     "data": {
      "text/plain": [
       "['red', 2, True, 69]"
      ]
     },
     "execution_count": 25,
     "metadata": {
      "tags": []
     },
     "output_type": "execute_result"
    }
   ],
   "source": [
    "my_list"
   ]
  },
  {
   "cell_type": "markdown",
   "metadata": {
    "id": "wS-1wkXtI1wp"
   },
   "source": [
    "**Q: Remove the first element of the list, using the appropriate list method.**\n",
    "\n",
    "*Hint*: Check out methods of list here: https://www.w3schools.com/python/python_ref_list.asp"
   ]
  },
  {
   "cell_type": "code",
   "execution_count": 28,
   "metadata": {
    "colab": {
     "base_uri": "https://localhost:8080/",
     "height": 35
    },
    "executionInfo": {
     "elapsed": 1309,
     "status": "ok",
     "timestamp": 1607361134066,
     "user": {
      "displayName": "Tanvi Patel",
      "photoUrl": "https://lh3.googleusercontent.com/a-/AOh14GhEzOH8u0twqYzmOWwhgOGzrnWvaw78WUL_P8mx=s64",
      "userId": "05270161629470731830"
     },
     "user_tz": -330
    },
    "id": "_mno0KGvI1wp",
    "outputId": "850ca608-ce59-4403-9267-53c47782a4d5"
   },
   "outputs": [
    {
     "data": {
      "application/vnd.google.colaboratory.intrinsic+json": {
       "type": "string"
      },
      "text/plain": [
       "'red'"
      ]
     },
     "execution_count": 28,
     "metadata": {
      "tags": []
     },
     "output_type": "execute_result"
    }
   ],
   "source": [
    "my_list.pop(0)"
   ]
  },
  {
   "cell_type": "code",
   "execution_count": 29,
   "metadata": {
    "colab": {
     "base_uri": "https://localhost:8080/"
    },
    "executionInfo": {
     "elapsed": 1457,
     "status": "ok",
     "timestamp": 1607361137882,
     "user": {
      "displayName": "Tanvi Patel",
      "photoUrl": "https://lh3.googleusercontent.com/a-/AOh14GhEzOH8u0twqYzmOWwhgOGzrnWvaw78WUL_P8mx=s64",
      "userId": "05270161629470731830"
     },
     "user_tz": -330
    },
    "id": "QjoI7oJhI1wp",
    "outputId": "595a2cf6-30fe-4f15-8af4-cc29bb1f6fd0"
   },
   "outputs": [
    {
     "data": {
      "text/plain": [
       "[2, True, 69]"
      ]
     },
     "execution_count": 29,
     "metadata": {
      "tags": []
     },
     "output_type": "execute_result"
    }
   ],
   "source": [
    "my_list"
   ]
  },
  {
   "cell_type": "markdown",
   "metadata": {
    "id": "uQ46n27eI1wp"
   },
   "source": [
    "**Q: Complete the `print` statement below to display the number of elements in `my_list`.**"
   ]
  },
  {
   "cell_type": "code",
   "execution_count": 31,
   "metadata": {
    "colab": {
     "base_uri": "https://localhost:8080/"
    },
    "executionInfo": {
     "elapsed": 1297,
     "status": "ok",
     "timestamp": 1607361229327,
     "user": {
      "displayName": "Tanvi Patel",
      "photoUrl": "https://lh3.googleusercontent.com/a-/AOh14GhEzOH8u0twqYzmOWwhgOGzrnWvaw78WUL_P8mx=s64",
      "userId": "05270161629470731830"
     },
     "user_tz": -330
    },
    "id": "lI5-zUNJMSVW",
    "outputId": "a5286125-8de8-4ff9-b231-73b35ac45f97"
   },
   "outputs": [
    {
     "data": {
      "text/plain": [
       "3"
      ]
     },
     "execution_count": 31,
     "metadata": {
      "tags": []
     },
     "output_type": "execute_result"
    }
   ],
   "source": [
    "len(my_list)"
   ]
  },
  {
   "cell_type": "code",
   "execution_count": 32,
   "metadata": {
    "colab": {
     "base_uri": "https://localhost:8080/"
    },
    "executionInfo": {
     "elapsed": 1428,
     "status": "ok",
     "timestamp": 1607361246213,
     "user": {
      "displayName": "Tanvi Patel",
      "photoUrl": "https://lh3.googleusercontent.com/a-/AOh14GhEzOH8u0twqYzmOWwhgOGzrnWvaw78WUL_P8mx=s64",
      "userId": "05270161629470731830"
     },
     "user_tz": -330
    },
    "id": "RpQmN2ObI1wp",
    "outputId": "7e7018aa-8f82-42ed-b294-e11580ac6296"
   },
   "outputs": [
    {
     "name": "stdout",
     "output_type": "stream",
     "text": [
      "The list has 3 elements.\n"
     ]
    }
   ],
   "source": [
    "print(\"The list has {} elements.\".format(len(my_list)))"
   ]
  },
  {
   "cell_type": "markdown",
   "metadata": {
    "id": "HV9LaJExI1wp"
   },
   "source": [
    "Well done, you're making good progress! Save your work before continuing"
   ]
  },
  {
   "cell_type": "code",
   "execution_count": 33,
   "metadata": {
    "colab": {
     "base_uri": "https://localhost:8080/",
     "height": 86
    },
    "executionInfo": {
     "elapsed": 4357,
     "status": "ok",
     "timestamp": 1607361283896,
     "user": {
      "displayName": "Tanvi Patel",
      "photoUrl": "https://lh3.googleusercontent.com/a-/AOh14GhEzOH8u0twqYzmOWwhgOGzrnWvaw78WUL_P8mx=s64",
      "userId": "05270161629470731830"
     },
     "user_tz": -330
    },
    "id": "8vo0bo1yI1wp",
    "outputId": "1fb406f5-1c7e-43b3-f9f7-ff6feccc6f11"
   },
   "outputs": [
    {
     "name": "stdout",
     "output_type": "stream",
     "text": [
      "[jovian] Detected Colab notebook...\u001b[0m\n",
      "[jovian] Uploading colab notebook to Jovian...\u001b[0m\n",
      "[jovian] Committed successfully! https://jovian.ai/tanu1007/python-practice-assignment\u001b[0m\n"
     ]
    },
    {
     "data": {
      "application/vnd.google.colaboratory.intrinsic+json": {
       "type": "string"
      },
      "text/plain": [
       "'https://jovian.ai/tanu1007/python-practice-assignment'"
      ]
     },
     "execution_count": 33,
     "metadata": {
      "tags": []
     },
     "output_type": "execute_result"
    }
   ],
   "source": [
    "jovian.commit(project=project_name,environment=None)"
   ]
  },
  {
   "cell_type": "markdown",
   "metadata": {
    "id": "wLD57zCgI1wp"
   },
   "source": [
    "## Problem 3 - Conditions and loops\n",
    "\n",
    "**Q: Calculate and display the sum of all the numbers divisible by 7 between 18 and 534 i.e. `21+28+35+...+525+532`**.\n",
    "\n",
    "*Hint*: One way to do this is to loop over a `range` using `for` and use an `if` statement inside it."
   ]
  },
  {
   "cell_type": "code",
   "execution_count": 34,
   "metadata": {
    "colab": {
     "base_uri": "https://localhost:8080/"
    },
    "executionInfo": {
     "elapsed": 1594,
     "status": "ok",
     "timestamp": 1607361394382,
     "user": {
      "displayName": "Tanvi Patel",
      "photoUrl": "https://lh3.googleusercontent.com/a-/AOh14GhEzOH8u0twqYzmOWwhgOGzrnWvaw78WUL_P8mx=s64",
      "userId": "05270161629470731830"
     },
     "user_tz": -330
    },
    "id": "QNF_dUUrI1wp",
    "outputId": "18bd003b-9714-47f5-bb14-aff8e72da155"
   },
   "outputs": [
    {
     "data": {
      "text/plain": [
       "20461"
      ]
     },
     "execution_count": 34,
     "metadata": {
      "tags": []
     },
     "output_type": "execute_result"
    }
   ],
   "source": [
    "# store the final answer in this variable\n",
    "sum_of_numbers = 0\n",
    "\n",
    "# perform the calculation here\n",
    "for n in range(18,535):\n",
    "  if (n%7==0):\n",
    "    sum_of_numbers+=n\n",
    "\n",
    "sum_of_numbers"
   ]
  },
  {
   "cell_type": "code",
   "execution_count": 35,
   "metadata": {
    "colab": {
     "base_uri": "https://localhost:8080/"
    },
    "executionInfo": {
     "elapsed": 1901,
     "status": "ok",
     "timestamp": 1607361400128,
     "user": {
      "displayName": "Tanvi Patel",
      "photoUrl": "https://lh3.googleusercontent.com/a-/AOh14GhEzOH8u0twqYzmOWwhgOGzrnWvaw78WUL_P8mx=s64",
      "userId": "05270161629470731830"
     },
     "user_tz": -330
    },
    "id": "u0Kq1bDFI1wp",
    "outputId": "6e880c4e-122b-4369-e932-64f2beca2669"
   },
   "outputs": [
    {
     "name": "stdout",
     "output_type": "stream",
     "text": [
      "The sum of all the numbers divisible by 7 between 18 and 534 is 20461\n"
     ]
    }
   ],
   "source": [
    "print('The sum of all the numbers divisible by 7 between 18 and 534 is', sum_of_numbers)"
   ]
  },
  {
   "cell_type": "markdown",
   "metadata": {
    "id": "nHj6NVZpI1wq"
   },
   "source": [
    "If you are not able to figure out the solution to this problem, you can ask for hints on the community forum: https://jovian.ml/forum/t/assignment-1-python-practice/7761 . Remember to save your work before moving forward."
   ]
  },
  {
   "cell_type": "code",
   "execution_count": 36,
   "metadata": {
    "colab": {
     "base_uri": "https://localhost:8080/",
     "height": 86
    },
    "executionInfo": {
     "elapsed": 4514,
     "status": "ok",
     "timestamp": 1607361409948,
     "user": {
      "displayName": "Tanvi Patel",
      "photoUrl": "https://lh3.googleusercontent.com/a-/AOh14GhEzOH8u0twqYzmOWwhgOGzrnWvaw78WUL_P8mx=s64",
      "userId": "05270161629470731830"
     },
     "user_tz": -330
    },
    "id": "63egGHKrI1wq",
    "outputId": "8673727b-3b77-4ae2-e191-b65cb40a4323"
   },
   "outputs": [
    {
     "name": "stdout",
     "output_type": "stream",
     "text": [
      "[jovian] Detected Colab notebook...\u001b[0m\n",
      "[jovian] Uploading colab notebook to Jovian...\u001b[0m\n",
      "[jovian] Committed successfully! https://jovian.ai/tanu1007/python-practice-assignment\u001b[0m\n"
     ]
    },
    {
     "data": {
      "application/vnd.google.colaboratory.intrinsic+json": {
       "type": "string"
      },
      "text/plain": [
       "'https://jovian.ai/tanu1007/python-practice-assignment'"
      ]
     },
     "execution_count": 36,
     "metadata": {
      "tags": []
     },
     "output_type": "execute_result"
    }
   ],
   "source": [
    "jovian.commit(project=project_name,environment=None)"
   ]
  },
  {
   "cell_type": "markdown",
   "metadata": {
    "id": "e3bEB3veI1wq"
   },
   "source": [
    "## Problem 4 - Flying to the Bahamas\n",
    "\n",
    "**Q: A travel company wants to fly a plane to the Bahamas. Flying the plane costs 5000 dollars. So far, 29 people have signed up for the trip. If the company charges 200 dollars per ticket, what is the profit made by the company?**\n",
    "\n",
    "Fill in values or arithmetic expressions for the variables below."
   ]
  },
  {
   "cell_type": "code",
   "execution_count": 37,
   "metadata": {
    "executionInfo": {
     "elapsed": 1342,
     "status": "ok",
     "timestamp": 1607361481242,
     "user": {
      "displayName": "Tanvi Patel",
      "photoUrl": "https://lh3.googleusercontent.com/a-/AOh14GhEzOH8u0twqYzmOWwhgOGzrnWvaw78WUL_P8mx=s64",
      "userId": "05270161629470731830"
     },
     "user_tz": -330
    },
    "id": "1QIrjC_JI1wq"
   },
   "outputs": [],
   "source": [
    "cost_of_flying_plane = 5000"
   ]
  },
  {
   "cell_type": "code",
   "execution_count": 38,
   "metadata": {
    "executionInfo": {
     "elapsed": 1160,
     "status": "ok",
     "timestamp": 1607361483442,
     "user": {
      "displayName": "Tanvi Patel",
      "photoUrl": "https://lh3.googleusercontent.com/a-/AOh14GhEzOH8u0twqYzmOWwhgOGzrnWvaw78WUL_P8mx=s64",
      "userId": "05270161629470731830"
     },
     "user_tz": -330
    },
    "id": "VN8L__Y2I1wq"
   },
   "outputs": [],
   "source": [
    "number_of_passengers = 29"
   ]
  },
  {
   "cell_type": "code",
   "execution_count": 41,
   "metadata": {
    "executionInfo": {
     "elapsed": 1482,
     "status": "ok",
     "timestamp": 1607361494847,
     "user": {
      "displayName": "Tanvi Patel",
      "photoUrl": "https://lh3.googleusercontent.com/a-/AOh14GhEzOH8u0twqYzmOWwhgOGzrnWvaw78WUL_P8mx=s64",
      "userId": "05270161629470731830"
     },
     "user_tz": -330
    },
    "id": "3edVFHFQI1wq"
   },
   "outputs": [],
   "source": [
    "price_of_ticket = 200"
   ]
  },
  {
   "cell_type": "code",
   "execution_count": 42,
   "metadata": {
    "executionInfo": {
     "elapsed": 1311,
     "status": "ok",
     "timestamp": 1607361558284,
     "user": {
      "displayName": "Tanvi Patel",
      "photoUrl": "https://lh3.googleusercontent.com/a-/AOh14GhEzOH8u0twqYzmOWwhgOGzrnWvaw78WUL_P8mx=s64",
      "userId": "05270161629470731830"
     },
     "user_tz": -330
    },
    "id": "bdlDKbGdI1wq"
   },
   "outputs": [],
   "source": [
    "profit = price_of_ticket*number_of_passengers - cost_of_flying_plane"
   ]
  },
  {
   "cell_type": "code",
   "execution_count": 43,
   "metadata": {
    "colab": {
     "base_uri": "https://localhost:8080/"
    },
    "executionInfo": {
     "elapsed": 1327,
     "status": "ok",
     "timestamp": 1607361561232,
     "user": {
      "displayName": "Tanvi Patel",
      "photoUrl": "https://lh3.googleusercontent.com/a-/AOh14GhEzOH8u0twqYzmOWwhgOGzrnWvaw78WUL_P8mx=s64",
      "userId": "05270161629470731830"
     },
     "user_tz": -330
    },
    "id": "dmCA7G1PI1wq",
    "outputId": "acbd2a34-32c4-497c-a9de-68dc22202689"
   },
   "outputs": [
    {
     "name": "stdout",
     "output_type": "stream",
     "text": [
      "The company makes of a profit of 800 dollars\n"
     ]
    }
   ],
   "source": [
    "print('The company makes of a profit of {} dollars'.format(profit))"
   ]
  },
  {
   "cell_type": "markdown",
   "metadata": {
    "id": "-CCRyHV8I1wq"
   },
   "source": [
    "**Q (Optional): Out of the 29 people who took the flight, only 12 buy tickets to return from the Bahamas on the same plane. If the flying the plane back also costs 5000 dollars, and does the company make an overall profit or loss? The company charges the same fee of 200 dollars per ticket for the return flight.**\n",
    "\n",
    "Use an `if` statement to display the result."
   ]
  },
  {
   "cell_type": "code",
   "execution_count": 44,
   "metadata": {
    "colab": {
     "base_uri": "https://localhost:8080/"
    },
    "executionInfo": {
     "elapsed": 1302,
     "status": "ok",
     "timestamp": 1607361722585,
     "user": {
      "displayName": "Tanvi Patel",
      "photoUrl": "https://lh3.googleusercontent.com/a-/AOh14GhEzOH8u0twqYzmOWwhgOGzrnWvaw78WUL_P8mx=s64",
      "userId": "05270161629470731830"
     },
     "user_tz": -330
    },
    "id": "ZScAGzBwI1wq",
    "outputId": "e098a8c4-f100-4272-bfbe-19e231be917b"
   },
   "outputs": [
    {
     "data": {
      "text/plain": [
       "-1800"
      ]
     },
     "execution_count": 44,
     "metadata": {
      "tags": []
     },
     "output_type": "execute_result"
    }
   ],
   "source": [
    "# this is optional\n",
    "returnp = 12\n",
    "profit = (price_of_ticket*number_of_passengers + price_of_ticket*returnp)- (2*cost_of_flying_plane)\n",
    "profit"
   ]
  },
  {
   "cell_type": "code",
   "execution_count": 46,
   "metadata": {
    "colab": {
     "base_uri": "https://localhost:8080/"
    },
    "executionInfo": {
     "elapsed": 1252,
     "status": "ok",
     "timestamp": 1607361814468,
     "user": {
      "displayName": "Tanvi Patel",
      "photoUrl": "https://lh3.googleusercontent.com/a-/AOh14GhEzOH8u0twqYzmOWwhgOGzrnWvaw78WUL_P8mx=s64",
      "userId": "05270161629470731830"
     },
     "user_tz": -330
    },
    "id": "_v9pSVR_I1wq",
    "outputId": "dd6dc63e-fd41-44e4-8b7b-078a8aec2591"
   },
   "outputs": [
    {
     "name": "stdout",
     "output_type": "stream",
     "text": [
      "The company makes an overall loss of 1800 dollars\n"
     ]
    }
   ],
   "source": [
    "# this is optional\n",
    "if profit>0:\n",
    "    print(\"The company makes an overall profit of {} dollars\".format(profit))\n",
    "else:\n",
    "    print(\"The company makes an overall loss of {} dollars\".format(abs(profit)))"
   ]
  },
  {
   "cell_type": "markdown",
   "metadata": {
    "id": "ZIST7MexI1wq"
   },
   "source": [
    "Great work so far! Want to take a break? Remember to save and upload your notebook to record your progress."
   ]
  },
  {
   "cell_type": "code",
   "execution_count": 47,
   "metadata": {
    "colab": {
     "base_uri": "https://localhost:8080/",
     "height": 86
    },
    "executionInfo": {
     "elapsed": 7712,
     "status": "ok",
     "timestamp": 1607361827354,
     "user": {
      "displayName": "Tanvi Patel",
      "photoUrl": "https://lh3.googleusercontent.com/a-/AOh14GhEzOH8u0twqYzmOWwhgOGzrnWvaw78WUL_P8mx=s64",
      "userId": "05270161629470731830"
     },
     "user_tz": -330
    },
    "id": "NnDyWVVUI1wq",
    "outputId": "fb8f69ff-725b-4ae7-c7da-640320d30a5c"
   },
   "outputs": [
    {
     "name": "stdout",
     "output_type": "stream",
     "text": [
      "[jovian] Detected Colab notebook...\u001b[0m\n",
      "[jovian] Uploading colab notebook to Jovian...\u001b[0m\n",
      "[jovian] Committed successfully! https://jovian.ai/tanu1007/python-practice-assignment\u001b[0m\n"
     ]
    },
    {
     "data": {
      "application/vnd.google.colaboratory.intrinsic+json": {
       "type": "string"
      },
      "text/plain": [
       "'https://jovian.ai/tanu1007/python-practice-assignment'"
      ]
     },
     "execution_count": 47,
     "metadata": {
      "tags": []
     },
     "output_type": "execute_result"
    }
   ],
   "source": [
    "jovian.commit(project=project_name,environment=None)"
   ]
  },
  {
   "cell_type": "markdown",
   "metadata": {
    "id": "2VNR1CEnI1wq"
   },
   "source": [
    "## Problem 5 - Twitter Sentiment Analysis\n",
    "\n",
    "Are your ready to perform some *Data Analysis with Python*? In this problem, we'll analyze some fictional tweets and find out whether the overall sentiment of Twitter users is happy or sad. This is a simplified version of an important real world problem called *sentiment analysis*.\n",
    "\n",
    "Before we begin, we need a list of tweets to analyze. We're picking a small number of tweets here, but the exact same analysis can also be done for thousands, or even millions of tweets. The collection of data that we perform analysis on is often called a *dataset*."
   ]
  },
  {
   "cell_type": "code",
   "execution_count": 48,
   "metadata": {
    "executionInfo": {
     "elapsed": 1301,
     "status": "ok",
     "timestamp": 1607361856209,
     "user": {
      "displayName": "Tanvi Patel",
      "photoUrl": "https://lh3.googleusercontent.com/a-/AOh14GhEzOH8u0twqYzmOWwhgOGzrnWvaw78WUL_P8mx=s64",
      "userId": "05270161629470731830"
     },
     "user_tz": -330
    },
    "id": "eeNxnqFSI1wq"
   },
   "outputs": [],
   "source": [
    "tweets = [\n",
    "    \"Wow, what a great day today!! #sunshine\",\n",
    "    \"I feel sad about the things going on around us. #covid19\",\n",
    "    \"I'm really excited to learn Python with @JovianML #zerotopandas\",\n",
    "    \"This is a really nice song. #linkinpark\",\n",
    "    \"The python programming language is useful for data science\",\n",
    "    \"Why do bad things happen to me?\",\n",
    "    \"Apple announces the release of the new iPhone 12. Fans are excited.\",\n",
    "    \"Spent my day with family!! #happy\",\n",
    "    \"Check out my blog post on common string operations in Python. #zerotopandas\",\n",
    "    \"Freecodecamp has great coding tutorials. #skillup\"\n",
    "]"
   ]
  },
  {
   "cell_type": "markdown",
   "metadata": {
    "id": "RjKsNCC1I1wq"
   },
   "source": [
    "Let's begin by answering a very simple but important question about our dataset.\n",
    "\n",
    "**Q: How many tweets does the dataset contain?**"
   ]
  },
  {
   "cell_type": "code",
   "execution_count": 49,
   "metadata": {
    "executionInfo": {
     "elapsed": 1379,
     "status": "ok",
     "timestamp": 1607361859811,
     "user": {
      "displayName": "Tanvi Patel",
      "photoUrl": "https://lh3.googleusercontent.com/a-/AOh14GhEzOH8u0twqYzmOWwhgOGzrnWvaw78WUL_P8mx=s64",
      "userId": "05270161629470731830"
     },
     "user_tz": -330
    },
    "id": "ZFuaCdAxI1wq"
   },
   "outputs": [],
   "source": [
    "number_of_tweets = len(tweets)"
   ]
  },
  {
   "cell_type": "markdown",
   "metadata": {
    "id": "ibXy-tGPI1wq"
   },
   "source": [
    "Let's create two lists of words: `happy_words` and `sad_words`. We will use these to check if a tweet is happy or sad."
   ]
  },
  {
   "cell_type": "code",
   "execution_count": 50,
   "metadata": {
    "executionInfo": {
     "elapsed": 1707,
     "status": "ok",
     "timestamp": 1607361866043,
     "user": {
      "displayName": "Tanvi Patel",
      "photoUrl": "https://lh3.googleusercontent.com/a-/AOh14GhEzOH8u0twqYzmOWwhgOGzrnWvaw78WUL_P8mx=s64",
      "userId": "05270161629470731830"
     },
     "user_tz": -330
    },
    "id": "EHIYYkCfI1wq"
   },
   "outputs": [],
   "source": [
    "happy_words = ['great', 'excited', 'happy', 'nice', 'wonderful', 'amazing', 'good', 'best']"
   ]
  },
  {
   "cell_type": "code",
   "execution_count": 51,
   "metadata": {
    "executionInfo": {
     "elapsed": 1824,
     "status": "ok",
     "timestamp": 1607361868705,
     "user": {
      "displayName": "Tanvi Patel",
      "photoUrl": "https://lh3.googleusercontent.com/a-/AOh14GhEzOH8u0twqYzmOWwhgOGzrnWvaw78WUL_P8mx=s64",
      "userId": "05270161629470731830"
     },
     "user_tz": -330
    },
    "id": "Sulip0d-I1wq"
   },
   "outputs": [],
   "source": [
    "sad_words = ['sad', 'bad', 'tragic', 'unhappy', 'worst']"
   ]
  },
  {
   "cell_type": "markdown",
   "metadata": {
    "id": "r26AxCDwI1wq"
   },
   "source": [
    "To identify whether a tweet is happy, we can simply check if contains any of the words from `happy_words`. Here's an example:"
   ]
  },
  {
   "cell_type": "code",
   "execution_count": 52,
   "metadata": {
    "executionInfo": {
     "elapsed": 1268,
     "status": "ok",
     "timestamp": 1607361888226,
     "user": {
      "displayName": "Tanvi Patel",
      "photoUrl": "https://lh3.googleusercontent.com/a-/AOh14GhEzOH8u0twqYzmOWwhgOGzrnWvaw78WUL_P8mx=s64",
      "userId": "05270161629470731830"
     },
     "user_tz": -330
    },
    "id": "Yjh2CDQnI1wq"
   },
   "outputs": [],
   "source": [
    "sample_tweet = tweets[0]"
   ]
  },
  {
   "cell_type": "code",
   "execution_count": 53,
   "metadata": {
    "colab": {
     "base_uri": "https://localhost:8080/",
     "height": 35
    },
    "executionInfo": {
     "elapsed": 1589,
     "status": "ok",
     "timestamp": 1607361890293,
     "user": {
      "displayName": "Tanvi Patel",
      "photoUrl": "https://lh3.googleusercontent.com/a-/AOh14GhEzOH8u0twqYzmOWwhgOGzrnWvaw78WUL_P8mx=s64",
      "userId": "05270161629470731830"
     },
     "user_tz": -330
    },
    "id": "Ihv7eqdJI1wq",
    "outputId": "70c376ab-de9c-402b-fdb9-23d5fb87d005"
   },
   "outputs": [
    {
     "data": {
      "application/vnd.google.colaboratory.intrinsic+json": {
       "type": "string"
      },
      "text/plain": [
       "'Wow, what a great day today!! #sunshine'"
      ]
     },
     "execution_count": 53,
     "metadata": {
      "tags": []
     },
     "output_type": "execute_result"
    }
   ],
   "source": [
    "sample_tweet"
   ]
  },
  {
   "cell_type": "code",
   "execution_count": 54,
   "metadata": {
    "executionInfo": {
     "elapsed": 1314,
     "status": "ok",
     "timestamp": 1607361911641,
     "user": {
      "displayName": "Tanvi Patel",
      "photoUrl": "https://lh3.googleusercontent.com/a-/AOh14GhEzOH8u0twqYzmOWwhgOGzrnWvaw78WUL_P8mx=s64",
      "userId": "05270161629470731830"
     },
     "user_tz": -330
    },
    "id": "q6GzSHMbI1wq"
   },
   "outputs": [],
   "source": [
    "is_tweet_happy = False\n",
    "\n",
    "# Get a word from happy_words\n",
    "for word in happy_words:\n",
    "    # Check if the tweet contains the word\n",
    "    if word in sample_tweet:\n",
    "        # Word found! Mark the tweet as happy\n",
    "        is_tweet_happy = True"
   ]
  },
  {
   "cell_type": "markdown",
   "metadata": {
    "id": "tAl1feXvI1wq"
   },
   "source": [
    "Do you understand what we're doing above? \n",
    "\n",
    "> For each word in the list of happy words, we check if is a part of the selected tweet. If the word is indded a part of the tweet, we set the variable `is_tweet_happy` to `True`. "
   ]
  },
  {
   "cell_type": "code",
   "execution_count": 55,
   "metadata": {
    "colab": {
     "base_uri": "https://localhost:8080/"
    },
    "executionInfo": {
     "elapsed": 1287,
     "status": "ok",
     "timestamp": 1607361918629,
     "user": {
      "displayName": "Tanvi Patel",
      "photoUrl": "https://lh3.googleusercontent.com/a-/AOh14GhEzOH8u0twqYzmOWwhgOGzrnWvaw78WUL_P8mx=s64",
      "userId": "05270161629470731830"
     },
     "user_tz": -330
    },
    "id": "sybiFapUI1wq",
    "outputId": "803d99f7-2812-4206-b19e-cbb7ad4eb43c"
   },
   "outputs": [
    {
     "data": {
      "text/plain": [
       "True"
      ]
     },
     "execution_count": 55,
     "metadata": {
      "tags": []
     },
     "output_type": "execute_result"
    }
   ],
   "source": [
    "is_tweet_happy"
   ]
  },
  {
   "cell_type": "markdown",
   "metadata": {
    "id": "zNP0YGVlI1wq"
   },
   "source": [
    "**Q: Determine the number of tweets in the dataset that can be classified as happy.**\n",
    "\n",
    "*Hint*: You'll need to use a loop inside another loop to do this. Use the code from the example shown above."
   ]
  },
  {
   "cell_type": "code",
   "execution_count": 58,
   "metadata": {
    "colab": {
     "base_uri": "https://localhost:8080/"
    },
    "executionInfo": {
     "elapsed": 1249,
     "status": "ok",
     "timestamp": 1607362076488,
     "user": {
      "displayName": "Tanvi Patel",
      "photoUrl": "https://lh3.googleusercontent.com/a-/AOh14GhEzOH8u0twqYzmOWwhgOGzrnWvaw78WUL_P8mx=s64",
      "userId": "05270161629470731830"
     },
     "user_tz": -330
    },
    "id": "MlxK876NI1wq",
    "outputId": "616819ae-dbf0-4863-a952-4c99b51ca564"
   },
   "outputs": [
    {
     "name": "stdout",
     "output_type": "stream",
     "text": [
      "Wow, what a great day today!! #sunshine\n",
      "I'm really excited to learn Python with @JovianML #zerotopandas\n",
      "This is a really nice song. #linkinpark\n",
      "Apple announces the release of the new iPhone 12. Fans are excited.\n",
      "Spent my day with family!! #happy\n",
      "Freecodecamp has great coding tutorials. #skillup\n"
     ]
    }
   ],
   "source": [
    "# store the final answer in this variable\n",
    "number_of_happy_tweets = 0\n",
    "\n",
    "# perform the calculations here\n",
    "for t in tweets:\n",
    "  for word in happy_words:\n",
    "    # Check if the tweet contains the word\n",
    "    if word in t:\n",
    "        # Word found! Mark the tweet as happy\n",
    "        #print (t)\n",
    "        number_of_happy_tweets +=1"
   ]
  },
  {
   "cell_type": "code",
   "execution_count": 57,
   "metadata": {
    "colab": {
     "base_uri": "https://localhost:8080/"
    },
    "executionInfo": {
     "elapsed": 1595,
     "status": "ok",
     "timestamp": 1607361996609,
     "user": {
      "displayName": "Tanvi Patel",
      "photoUrl": "https://lh3.googleusercontent.com/a-/AOh14GhEzOH8u0twqYzmOWwhgOGzrnWvaw78WUL_P8mx=s64",
      "userId": "05270161629470731830"
     },
     "user_tz": -330
    },
    "id": "DgMWusTII1wq",
    "outputId": "1d315fe4-09f1-4d1c-ff24-52409b4f0dba"
   },
   "outputs": [
    {
     "name": "stdout",
     "output_type": "stream",
     "text": [
      "Number of happy tweets: 6\n"
     ]
    }
   ],
   "source": [
    "print(\"Number of happy tweets:\", number_of_happy_tweets)"
   ]
  },
  {
   "cell_type": "markdown",
   "metadata": {
    "id": "P6bCeb7hI1wq"
   },
   "source": [
    "If you are not able to figure out the solution to this problem, you can ask for hints on the community forum: https://jovian.ml/forum/t/assignment-1-python-practice/7761 . Also try adding `print` statements inside your loops to inspect variables and make sure your logic is correct."
   ]
  },
  {
   "cell_type": "markdown",
   "metadata": {
    "id": "Rk6NQffhI1wq"
   },
   "source": [
    "**Q: What fraction of the total number of tweets are happy?**\n",
    "\n",
    "For example, if 2 out of 10 tweets are happy, then the answer is `2/10` i.e. `0.2`."
   ]
  },
  {
   "cell_type": "code",
   "execution_count": 59,
   "metadata": {
    "executionInfo": {
     "elapsed": 1451,
     "status": "ok",
     "timestamp": 1607362132957,
     "user": {
      "displayName": "Tanvi Patel",
      "photoUrl": "https://lh3.googleusercontent.com/a-/AOh14GhEzOH8u0twqYzmOWwhgOGzrnWvaw78WUL_P8mx=s64",
      "userId": "05270161629470731830"
     },
     "user_tz": -330
    },
    "id": "ti1JsL0AI1wq"
   },
   "outputs": [],
   "source": [
    "happy_fraction = number_of_happy_tweets/number_of_tweets"
   ]
  },
  {
   "cell_type": "code",
   "execution_count": 60,
   "metadata": {
    "colab": {
     "base_uri": "https://localhost:8080/"
    },
    "executionInfo": {
     "elapsed": 1310,
     "status": "ok",
     "timestamp": 1607362135466,
     "user": {
      "displayName": "Tanvi Patel",
      "photoUrl": "https://lh3.googleusercontent.com/a-/AOh14GhEzOH8u0twqYzmOWwhgOGzrnWvaw78WUL_P8mx=s64",
      "userId": "05270161629470731830"
     },
     "user_tz": -330
    },
    "id": "u5F-fX38I1wq",
    "outputId": "a62ee65e-7d93-4c75-cc0b-6a126ff357f5"
   },
   "outputs": [
    {
     "name": "stdout",
     "output_type": "stream",
     "text": [
      "The fraction of happy tweets is: 0.6\n"
     ]
    }
   ],
   "source": [
    "print(\"The fraction of happy tweets is:\", happy_fraction)"
   ]
  },
  {
   "cell_type": "markdown",
   "metadata": {
    "id": "kI8eFTFaI1wq"
   },
   "source": [
    "To identify whether a tweet is sad, we can simply check if contains any of the words from `sad_words`.\n",
    "\n",
    "**Q: Determine the number of tweets in the dataset that can be classified as sad.**"
   ]
  },
  {
   "cell_type": "code",
   "execution_count": 61,
   "metadata": {
    "executionInfo": {
     "elapsed": 1330,
     "status": "ok",
     "timestamp": 1607362183043,
     "user": {
      "displayName": "Tanvi Patel",
      "photoUrl": "https://lh3.googleusercontent.com/a-/AOh14GhEzOH8u0twqYzmOWwhgOGzrnWvaw78WUL_P8mx=s64",
      "userId": "05270161629470731830"
     },
     "user_tz": -330
    },
    "id": "UXLHZSQ8I1wq"
   },
   "outputs": [],
   "source": [
    "# store the final answer in this variable\n",
    "number_of_sad_tweets = 0\n",
    "\n",
    "# perform the calculations here\n",
    "for t in tweets:\n",
    "  for word in sad_words:\n",
    "    # Check if the tweet contains the word\n",
    "    if word in t:\n",
    "        # Word found! Mark the tweet as happy\n",
    "        #print (t)\n",
    "        number_of_sad_tweets +=1"
   ]
  },
  {
   "cell_type": "code",
   "execution_count": 62,
   "metadata": {
    "colab": {
     "base_uri": "https://localhost:8080/"
    },
    "executionInfo": {
     "elapsed": 1442,
     "status": "ok",
     "timestamp": 1607362185656,
     "user": {
      "displayName": "Tanvi Patel",
      "photoUrl": "https://lh3.googleusercontent.com/a-/AOh14GhEzOH8u0twqYzmOWwhgOGzrnWvaw78WUL_P8mx=s64",
      "userId": "05270161629470731830"
     },
     "user_tz": -330
    },
    "id": "HLopMW7qI1wq",
    "outputId": "daf0bf56-76e1-4697-e8be-6388125aaddb"
   },
   "outputs": [
    {
     "name": "stdout",
     "output_type": "stream",
     "text": [
      "Number of sad tweets: 2\n"
     ]
    }
   ],
   "source": [
    "print(\"Number of sad tweets:\", number_of_sad_tweets)"
   ]
  },
  {
   "cell_type": "markdown",
   "metadata": {
    "id": "I9funcRcI1wq"
   },
   "source": [
    "**Q: What fraction of the total number of tweets are sad?**"
   ]
  },
  {
   "cell_type": "code",
   "execution_count": 63,
   "metadata": {
    "executionInfo": {
     "elapsed": 1313,
     "status": "ok",
     "timestamp": 1607362207261,
     "user": {
      "displayName": "Tanvi Patel",
      "photoUrl": "https://lh3.googleusercontent.com/a-/AOh14GhEzOH8u0twqYzmOWwhgOGzrnWvaw78WUL_P8mx=s64",
      "userId": "05270161629470731830"
     },
     "user_tz": -330
    },
    "id": "5ujlkXlZI1wq"
   },
   "outputs": [],
   "source": [
    "sad_fraction = number_of_sad_tweets/number_of_tweets"
   ]
  },
  {
   "cell_type": "code",
   "execution_count": 64,
   "metadata": {
    "colab": {
     "base_uri": "https://localhost:8080/"
    },
    "executionInfo": {
     "elapsed": 1604,
     "status": "ok",
     "timestamp": 1607362209641,
     "user": {
      "displayName": "Tanvi Patel",
      "photoUrl": "https://lh3.googleusercontent.com/a-/AOh14GhEzOH8u0twqYzmOWwhgOGzrnWvaw78WUL_P8mx=s64",
      "userId": "05270161629470731830"
     },
     "user_tz": -330
    },
    "id": "-JweWc-yI1wq",
    "outputId": "17d9004e-6d01-4ae3-b22d-7fede73dbd1c"
   },
   "outputs": [
    {
     "name": "stdout",
     "output_type": "stream",
     "text": [
      "The fraction of sad tweets is: 0.2\n"
     ]
    }
   ],
   "source": [
    "print(\"The fraction of sad tweets is:\", sad_fraction)"
   ]
  },
  {
   "cell_type": "markdown",
   "metadata": {
    "id": "EB6CfDrMI1wq"
   },
   "source": [
    "The rest of this problem is optional. Let's save your work before continuing."
   ]
  },
  {
   "cell_type": "code",
   "execution_count": 65,
   "metadata": {
    "colab": {
     "base_uri": "https://localhost:8080/",
     "height": 86
    },
    "executionInfo": {
     "elapsed": 5429,
     "status": "ok",
     "timestamp": 1607362217379,
     "user": {
      "displayName": "Tanvi Patel",
      "photoUrl": "https://lh3.googleusercontent.com/a-/AOh14GhEzOH8u0twqYzmOWwhgOGzrnWvaw78WUL_P8mx=s64",
      "userId": "05270161629470731830"
     },
     "user_tz": -330
    },
    "id": "A0Vq_0pII1wq",
    "outputId": "d5266da7-1726-4626-f422-b00768056674"
   },
   "outputs": [
    {
     "name": "stdout",
     "output_type": "stream",
     "text": [
      "[jovian] Detected Colab notebook...\u001b[0m\n",
      "[jovian] Uploading colab notebook to Jovian...\u001b[0m\n",
      "[jovian] Committed successfully! https://jovian.ai/tanu1007/python-practice-assignment\u001b[0m\n"
     ]
    },
    {
     "data": {
      "application/vnd.google.colaboratory.intrinsic+json": {
       "type": "string"
      },
      "text/plain": [
       "'https://jovian.ai/tanu1007/python-practice-assignment'"
      ]
     },
     "execution_count": 65,
     "metadata": {
      "tags": []
     },
     "output_type": "execute_result"
    }
   ],
   "source": [
    "jovian.commit(project=project_name,environment=None)"
   ]
  },
  {
   "cell_type": "markdown",
   "metadata": {
    "id": "IrksGFIKI1wq"
   },
   "source": [
    "Great work, even with some basic analysis, we already know a lot about the sentiment of the tweets given to us. Let us now define a metric called \"sentiment score\", to summarize the overall sentiment of the tweets.\n",
    "\n",
    "**Q (Optional): Calculate the sentiment score, which is defined as the difference betweek the fraction of happy tweets and the fraction of sad tweets.**"
   ]
  },
  {
   "cell_type": "code",
   "execution_count": 66,
   "metadata": {
    "executionInfo": {
     "elapsed": 1701,
     "status": "ok",
     "timestamp": 1607362262737,
     "user": {
      "displayName": "Tanvi Patel",
      "photoUrl": "https://lh3.googleusercontent.com/a-/AOh14GhEzOH8u0twqYzmOWwhgOGzrnWvaw78WUL_P8mx=s64",
      "userId": "05270161629470731830"
     },
     "user_tz": -330
    },
    "id": "wN5RTIKzI1wq"
   },
   "outputs": [],
   "source": [
    "sentiment_score = happy_fraction-sad_fraction"
   ]
  },
  {
   "cell_type": "code",
   "execution_count": 67,
   "metadata": {
    "colab": {
     "base_uri": "https://localhost:8080/"
    },
    "executionInfo": {
     "elapsed": 1502,
     "status": "ok",
     "timestamp": 1607362266221,
     "user": {
      "displayName": "Tanvi Patel",
      "photoUrl": "https://lh3.googleusercontent.com/a-/AOh14GhEzOH8u0twqYzmOWwhgOGzrnWvaw78WUL_P8mx=s64",
      "userId": "05270161629470731830"
     },
     "user_tz": -330
    },
    "id": "bzG4jmBPI1wq",
    "outputId": "2a82aaa8-b38e-4539-b1d4-945ff77e4c83"
   },
   "outputs": [
    {
     "name": "stdout",
     "output_type": "stream",
     "text": [
      "The sentiment score for the given tweets is 0.39999999999999997\n"
     ]
    }
   ],
   "source": [
    "print(\"The sentiment score for the given tweets is\", sentiment_score)"
   ]
  },
  {
   "cell_type": "markdown",
   "metadata": {
    "id": "fUb9w10eI1wq"
   },
   "source": [
    "In a real world scenario, we could calculate & record the sentiment score for all the tweets sent out every day. This information can be used to plot a graph and study the trends in the changing sentiment of the world. The following graph was creating using the Python data visualization library `matplotlib`, which we'll cover later in the course.\n",
    "\n",
    "<img src=\"https://i.imgur.com/6CCIwCb.png\" style=\"width:400px\">\n",
    "\n",
    "What does the sentiment score represent? Based on the value of the sentiment score, can you identify if the overall sentiment of the dataset is happy or sad?\n",
    "\n",
    "**Q (Optional): Display whether the overall sentiment of the given dataset of tweets is happy or sad, using the sentiment score.**"
   ]
  },
  {
   "cell_type": "code",
   "execution_count": 68,
   "metadata": {
    "colab": {
     "base_uri": "https://localhost:8080/"
    },
    "executionInfo": {
     "elapsed": 1652,
     "status": "ok",
     "timestamp": 1607362327129,
     "user": {
      "displayName": "Tanvi Patel",
      "photoUrl": "https://lh3.googleusercontent.com/a-/AOh14GhEzOH8u0twqYzmOWwhgOGzrnWvaw78WUL_P8mx=s64",
      "userId": "05270161629470731830"
     },
     "user_tz": -330
    },
    "id": "yzI4zWLvI1wq",
    "outputId": "1191e8da-7bf3-4b00-a981-8c3e8a9ddc5e"
   },
   "outputs": [
    {
     "name": "stdout",
     "output_type": "stream",
     "text": [
      "The overall sentiment is happy\n"
     ]
    }
   ],
   "source": [
    "if sentiment_score>0:\n",
    "    print(\"The overall sentiment is happy\")\n",
    "else:\n",
    "    print(\"The overall sentiment is sad\")"
   ]
  },
  {
   "cell_type": "markdown",
   "metadata": {
    "id": "OB3xsjyxI1wq"
   },
   "source": [
    "Finally, it's also important to track how many tweets are neutral i.e. neither happy nor sad. If a large fraction of tweets are marked neutral, maybe we need to improve our lists of happy and sad words. \n",
    "\n",
    "**Q (Optional): What is the fraction of tweets that are neutral i.e. neither happy nor sad.**"
   ]
  },
  {
   "cell_type": "code",
   "execution_count": 69,
   "metadata": {
    "executionInfo": {
     "elapsed": 1295,
     "status": "ok",
     "timestamp": 1607362493441,
     "user": {
      "displayName": "Tanvi Patel",
      "photoUrl": "https://lh3.googleusercontent.com/a-/AOh14GhEzOH8u0twqYzmOWwhgOGzrnWvaw78WUL_P8mx=s64",
      "userId": "05270161629470731830"
     },
     "user_tz": -330
    },
    "id": "9DLOqyX9I1wq"
   },
   "outputs": [],
   "source": [
    "# store the final answer in this variable\n",
    "number_of_neutral_tweets = 0\n",
    "\n",
    "# perform the calculation here\n",
    "number_of_neutral_tweets = number_of_tweets - number_of_sad_tweets - number_of_happy_tweets"
   ]
  },
  {
   "cell_type": "code",
   "execution_count": 70,
   "metadata": {
    "executionInfo": {
     "elapsed": 1282,
     "status": "ok",
     "timestamp": 1607362495403,
     "user": {
      "displayName": "Tanvi Patel",
      "photoUrl": "https://lh3.googleusercontent.com/a-/AOh14GhEzOH8u0twqYzmOWwhgOGzrnWvaw78WUL_P8mx=s64",
      "userId": "05270161629470731830"
     },
     "user_tz": -330
    },
    "id": "Kj0pShqdI1wq"
   },
   "outputs": [],
   "source": [
    "neutral_fraction = number_of_neutral_tweets/number_of_tweets"
   ]
  },
  {
   "cell_type": "code",
   "execution_count": 71,
   "metadata": {
    "colab": {
     "base_uri": "https://localhost:8080/"
    },
    "executionInfo": {
     "elapsed": 1264,
     "status": "ok",
     "timestamp": 1607362497626,
     "user": {
      "displayName": "Tanvi Patel",
      "photoUrl": "https://lh3.googleusercontent.com/a-/AOh14GhEzOH8u0twqYzmOWwhgOGzrnWvaw78WUL_P8mx=s64",
      "userId": "05270161629470731830"
     },
     "user_tz": -330
    },
    "id": "Dr0MY1yhI1wq",
    "outputId": "6c589af2-643a-4534-e035-c2c0902d24fb"
   },
   "outputs": [
    {
     "name": "stdout",
     "output_type": "stream",
     "text": [
      "The fraction of neutral tweets is 0.2\n"
     ]
    }
   ],
   "source": [
    "print('The fraction of neutral tweets is', neutral_fraction)"
   ]
  },
  {
   "cell_type": "markdown",
   "metadata": {
    "id": "sHdAFIu5I1wq"
   },
   "source": [
    "Ponder upon these questions and try some experiments to hone your skills further:\n",
    "\n",
    "* What are the limitations of our approach? When will it go wrong or give incorrect results?\n",
    "* How can we improve our approach to address the limitations?\n",
    "* What are some other questions you would like to ask, given a list of tweets?\n",
    "* Try collecting some real tweets from your Twitter timeline and repeat this analysis. Do the results make sense?\n",
    "\n",
    "**IMPORTANT NOTE**: If you want to try out these experiments, please create a new notebook using the \"New Notebook\" button on your Jovian.ml profile, to avoid making unintended changes to your assignment submission notebook."
   ]
  },
  {
   "cell_type": "markdown",
   "metadata": {
    "id": "LT_Z15DnI1wq"
   },
   "source": [
    "## Submission \n",
    "\n",
    "Congratulations on making it this far! You've reached the end of this assignment, and you just completed your first data analysis problem. It's time to record one final version of your notebook for submission.\n",
    "\n",
    "Make a submission here by filling the submission form: https://jovian.ml/learn/data-analysis-with-python-zero-to-pandas/assignment/assignment-1-python-basics-practice"
   ]
  },
  {
   "cell_type": "code",
   "execution_count": null,
   "metadata": {
    "id": "87jNjZFyI1wq",
    "scrolled": false
   },
   "outputs": [],
   "source": [
    "jovian.commit(project=project_name,environment=None)"
   ]
  }
 ],
 "metadata": {
  "colab": {
   "name": "python-practice-assignment.ipynb",
   "provenance": []
  },
  "language_info": {
   "codemirror_mode": {
    "name": "ipython",
    "version": 3
   },
   "file_extension": ".py",
   "mimetype": "text/x-python",
   "name": "python",
   "nbconvert_exporter": "python",
   "pygments_lexer": "ipython3",
   "version": "3.8.5"
  }
 },
 "nbformat": 4,
 "nbformat_minor": 0
}