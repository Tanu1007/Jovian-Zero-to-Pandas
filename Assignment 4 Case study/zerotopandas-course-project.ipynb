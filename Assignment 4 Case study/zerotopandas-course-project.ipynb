{
 "cells": [
  {
   "cell_type": "markdown",
   "metadata": {
    "id": "47FjYiJ_dx6y"
   },
   "source": [
    "## Data Analysis with Python: Zero to Pandas - Course Project Guidelines\n",
    "#### (remove this cell before submission)\n",
    "\n",
    "Important links:\n",
    "- Make submissions here: https://jovian.ml/learn/data-analysis-with-python-zero-to-pandas/assignment/course-project\n",
    "- Ask questions here: https://jovian.ml/forum/t/course-project-on-exploratory-data-analysis-discuss-and-share-your-work/11684\n",
    "- Find interesting datasets here: https://jovian.ml/forum/t/recommended-datasets-for-course-project/11711\n",
    "\n",
    "\n",
    "This is the starter notebook for the course project for [Data Analysis with Python: Zero to Pandas](https://jovian.ml/learn/data-analysis-with-python-zero-to-pandas). You will pick a real-world dataset of your choice and apply the concepts learned in this course to perform exploratory data analysis. Use this starter notebook as an outline for your project . Focus on documentation and presentation - this Jupyter notebook will also serve as a project report, so make sure to include detailed explanations wherever possible using Markdown cells.\n",
    "\n",
    "### Evaluation Criteria\n",
    "\n",
    "Your submission will be evaluated using the following criteria:\n",
    "\n",
    "* Dataset must contain at least 3 columns and 150 rows of data\n",
    "* You must ask and answer at least 4 questions about the dataset\n",
    "* Your submission must include at least 4 visualizations (graphs)\n",
    "* Your submission must include explanations using markdown cells, apart from the code.\n",
    "* Your work must not be plagiarized i.e. copy-pasted for somewhere else.\n",
    "\n",
    "\n",
    "Follow this step-by-step guide to work on your project.\n",
    "\n",
    "\n",
    "### Step 1: Select a real-world dataset \n",
    "\n",
    "- Find an interesting dataset on this page: https://www.kaggle.com/datasets?fileType=csv\n",
    "- The data should be in CSV format, and should contain at least 3 columns and 150 rows\n",
    "- Download the dataset using the [`opendatasets` Python library](https://github.com/JovianML/opendatasets#opendatasets)\n",
    "\n",
    "Here's some sample code for downloading the [US Elections Dataset](https://www.kaggle.com/tunguz/us-elections-dataset):\n",
    "\n",
    "```\n",
    "import opendatasets as od\n",
    "dataset_url = 'https://www.kaggle.com/tunguz/us-elections-dataset'\n",
    "od.download('https://www.kaggle.com/tunguz/us-elections-dataset')\n",
    "```\n",
    "\n",
    "You can find a list of recommended datasets here: https://jovian.ml/forum/t/recommended-datasets-for-course-project/11711\n",
    "\n",
    "### Step 2: Perform data preparation & cleaning\n",
    "\n",
    "- Load the dataset into a data frame using Pandas\n",
    "- Explore the number of rows & columns, ranges of values etc.\n",
    "- Handle missing, incorrect and invalid data\n",
    "- Perform any additional steps (parsing dates, creating additional columns, merging multiple dataset etc.)\n",
    "\n",
    "\n",
    "### Step 3: Perform exploratory analysis & visualization\n",
    "\n",
    "- Compute the mean, sum, range and other interesting statistics for numeric columns\n",
    "- Explore distributions of numeric columns using histograms etc.\n",
    "- Explore relationship between columns using scatter plots, bar charts etc.\n",
    "- Make a note of interesting insights from the exploratory analysis\n",
    "\n",
    "### Step 4: Ask & answer questions about the data\n",
    "\n",
    "- Ask at least 4 interesting questions about your dataset\n",
    "- Answer the questions either by computing the results using Numpy/Pandas or by plotting graphs using Matplotlib/Seaborn\n",
    "- Create new columns, merge multiple dataset and perform grouping/aggregation wherever necessary\n",
    "- Wherever you're using a library function from Pandas/Numpy/Matplotlib etc. explain briefly what it does\n",
    "\n",
    "\n",
    "### Step 5: Summarize your inferences & write a conclusion\n",
    "\n",
    "- Write a summary of what you've learned from the analysis\n",
    "- Include interesting insights and graphs from previous sections\n",
    "- Share ideas for future work on the same topic using other relevant datasets\n",
    "- Share links to resources you found useful during your analysis\n",
    "\n",
    "\n",
    "### Step 6: Make a submission & share your work\n",
    "\n",
    "- Upload your notebook to your Jovian.ml profile using `jovian.commit`.\n",
    "- **Make a submission here**: https://jovian.ml/learn/data-analysis-with-python-zero-to-pandas/assignment/course-project\n",
    "- Share your work on the forum: https://jovian.ml/forum/t/course-project-on-exploratory-data-analysis-discuss-and-share-your-work/11684\n",
    "- Browse through projects shared by other participants and give feedback\n",
    "\n",
    "\n",
    "### (Optional) Step 7: Write a blog post\n",
    "\n",
    "- A blog post is a great way to present and showcase your work.  \n",
    "- Sign up on [Medium.com](https://medium.com) to write a blog post for your project.\n",
    "- Copy over the explanations from your Jupyter notebook into your blog post, and [embed code cells & outputs](https://medium.com/jovianml/share-and-embed-jupyter-notebooks-online-with-jovian-ml-df709a03064e)\n",
    "- Check out the Jovian.ml Medium publication for inspiration: https://medium.com/jovianml\n",
    "\n",
    "\n",
    "\n",
    "\n",
    "\n",
    "### Example Projects\n",
    "\n",
    "Refer to these projects for inspiration:\n",
    "\n",
    "* [Analyzing StackOverflow Developer Survey Results](https://jovian.ml/aakashns/python-eda-stackoverflow-survey)\n",
    "\n",
    "* [Analyzing Covid-19 data using Pandas](https://jovian.ml/aakashns/python-pandas-data-analysis) \n",
    "\n",
    "* [Analyzing your browser history using Pandas & Seaborn](https://medium.com/free-code-camp/understanding-my-browsing-pattern-using-pandas-and-seaborn-162b97e33e51) by Kartik Godawat\n",
    "\n",
    "* [WhatsApp Chat Data Analysis](https://jovian.ml/PrajwalPrashanth/whatsapp-chat-data-analysis) by Prajwal Prashanth\n",
    "\n",
    "* [Understanding the Gender Divide in Data Science Roles](https://medium.com/datadriveninvestor/exploratory-data-analysis-eda-understanding-the-gender-divide-in-data-science-roles-9faa5da44f5b) by Aakanksha N S\n",
    "\n",
    "* [2019 State of Javscript Survey Results](https://2019.stateofjs.com/demographics/)\n",
    "\n",
    "* [2020 Stack Overflow Developer Survey Results](https://insights.stackoverflow.com/survey/2020)\n",
    "\n",
    "\n",
    "\n",
    "**NOTE**: Remove this cell containing the instructions before making your submission. You can do using the \"Edit > Delete Cells\" menu option."
   ]
  },
  {
   "cell_type": "markdown",
   "metadata": {
    "id": "rvOGhkbPdx60"
   },
   "source": [
    "# Project Title - change this\n",
    "\n",
    "TODO - Write some introduction about your project here: describe the dataset, where you got it from, what you're trying to do with it, and which tools & techniques you're using. You can also mention about the course [Data Analysis with Python: Zero to Pandas](zerotopandas.com), and what you've learned from it."
   ]
  },
  {
   "cell_type": "markdown",
   "metadata": {
    "id": "-2nKyWCbdx60"
   },
   "source": [
    "### How to run the code\n",
    "\n",
    "This is an executable [*Jupyter notebook*](https://jupyter.org) hosted on [Jovian.ml](https://www.jovian.ml), a platform for sharing data science projects. You can run and experiment with the code in a couple of ways: *using free online resources* (recommended) or *on your own computer*.\n",
    "\n",
    "#### Option 1: Running using free online resources (1-click, recommended)\n",
    "\n",
    "The easiest way to start executing this notebook is to click the \"Run\" button at the top of this page, and select \"Run on Binder\". This will run the notebook on [mybinder.org](https://mybinder.org), a free online service for running Jupyter notebooks. You can also select \"Run on Colab\" or \"Run on Kaggle\".\n",
    "\n",
    "\n",
    "#### Option 2: Running on your computer locally\n",
    "\n",
    "1. Install Conda by [following these instructions](https://conda.io/projects/conda/en/latest/user-guide/install/index.html). Add Conda binaries to your system `PATH`, so you can use the `conda` command on your terminal.\n",
    "\n",
    "2. Create a Conda environment and install the required libraries by running these commands on the terminal:\n",
    "\n",
    "```\n",
    "conda create -n zerotopandas -y python=3.8 \n",
    "conda activate zerotopandas\n",
    "pip install jovian jupyter numpy pandas matplotlib seaborn opendatasets --upgrade\n",
    "```\n",
    "\n",
    "3. Press the \"Clone\" button above to copy the command for downloading the notebook, and run it on the terminal. This will create a new directory and download the notebook. The command will look something like this:\n",
    "\n",
    "```\n",
    "jovian clone notebook-owner/notebook-id\n",
    "```\n",
    "\n",
    "\n",
    "\n",
    "4. Enter the newly created directory using `cd directory-name` and start the Jupyter notebook.\n",
    "\n",
    "```\n",
    "jupyter notebook\n",
    "```\n",
    "\n",
    "You can now access Jupyter's web interface by clicking the link that shows up on the terminal or by visiting http://localhost:8888 on your browser. Click on the notebook file (it has a `.ipynb` extension) to open it.\n"
   ]
  },
  {
   "cell_type": "markdown",
   "metadata": {
    "id": "K0Ve8VmTdx61"
   },
   "source": [
    "## Downloading the Dataset\n",
    "\n",
    "**TODO** - Here we are downloading the Dataset of Best selling books from amazon for data analysis."
   ]
  },
  {
   "cell_type": "code",
   "execution_count": null,
   "metadata": {
    "id": "wXCCzrmHdx61"
   },
   "outputs": [],
   "source": [
    "!pip install jovian opendatasets --upgrade --quiet"
   ]
  },
  {
   "cell_type": "markdown",
   "metadata": {
    "id": "-m2StOp8dx62"
   },
   "source": [
    "Let's begin by downloading the data, and listing the files within the dataset."
   ]
  },
  {
   "cell_type": "code",
   "execution_count": 85,
   "metadata": {
    "executionInfo": {
     "elapsed": 1754,
     "status": "ok",
     "timestamp": 1607759794345,
     "user": {
      "displayName": "Tanvi Patel",
      "photoUrl": "https://lh3.googleusercontent.com/a-/AOh14GhEzOH8u0twqYzmOWwhgOGzrnWvaw78WUL_P8mx=s64",
      "userId": "05270161629470731830"
     },
     "user_tz": -330
    },
    "id": "6R8Lt7Rudx62"
   },
   "outputs": [],
   "source": [
    "# Change this\n",
    "dataset_url = 'https://www.kaggle.com/sootersaalu/amazon-top-50-bestselling-books-2009-2019'"
   ]
  },
  {
   "cell_type": "code",
   "execution_count": 86,
   "metadata": {
    "colab": {
     "base_uri": "https://localhost:8080/"
    },
    "executionInfo": {
     "elapsed": 13946,
     "status": "ok",
     "timestamp": 1607759810680,
     "user": {
      "displayName": "Tanvi Patel",
      "photoUrl": "https://lh3.googleusercontent.com/a-/AOh14GhEzOH8u0twqYzmOWwhgOGzrnWvaw78WUL_P8mx=s64",
      "userId": "05270161629470731830"
     },
     "user_tz": -330
    },
    "id": "JKKVeHsBdx62",
    "outputId": "3c3a7028-0298-4fe4-d6b1-781af8d44138"
   },
   "outputs": [
    {
     "name": "stdout",
     "output_type": "stream",
     "text": [
      "Please provide your Kaggle credentials to download this dataset. Learn more: http://bit.ly/kaggle-creds\n",
      "Your Kaggle username: tanu1007\n",
      "Your Kaggle Key: ··········\n"
     ]
    },
    {
     "name": "stderr",
     "output_type": "stream",
     "text": [
      "100%|██████████| 14.5k/14.5k [00:00<00:00, 3.06MB/s]"
     ]
    },
    {
     "name": "stdout",
     "output_type": "stream",
     "text": [
      "Downloading amazon-top-50-bestselling-books-2009-2019.zip to ./amazon-top-50-bestselling-books-2009-2019\n",
      "\n"
     ]
    },
    {
     "name": "stderr",
     "output_type": "stream",
     "text": [
      "\n"
     ]
    }
   ],
   "source": [
    "import opendatasets as od\n",
    "od.download(dataset_url)"
   ]
  },
  {
   "cell_type": "markdown",
   "metadata": {
    "id": "2Iw7smHXdx64"
   },
   "source": [
    "The dataset has been downloaded and extracted."
   ]
  },
  {
   "cell_type": "code",
   "execution_count": 88,
   "metadata": {
    "executionInfo": {
     "elapsed": 1529,
     "status": "ok",
     "timestamp": 1607759856283,
     "user": {
      "displayName": "Tanvi Patel",
      "photoUrl": "https://lh3.googleusercontent.com/a-/AOh14GhEzOH8u0twqYzmOWwhgOGzrnWvaw78WUL_P8mx=s64",
      "userId": "05270161629470731830"
     },
     "user_tz": -330
    },
    "id": "tZaMf34Mdx64"
   },
   "outputs": [],
   "source": [
    "# Change this\n",
    "data_dir = '/content/amazon-top-50-bestselling-books-2009-2019'"
   ]
  },
  {
   "cell_type": "code",
   "execution_count": 89,
   "metadata": {
    "colab": {
     "base_uri": "https://localhost:8080/"
    },
    "executionInfo": {
     "elapsed": 1768,
     "status": "ok",
     "timestamp": 1607759863149,
     "user": {
      "displayName": "Tanvi Patel",
      "photoUrl": "https://lh3.googleusercontent.com/a-/AOh14GhEzOH8u0twqYzmOWwhgOGzrnWvaw78WUL_P8mx=s64",
      "userId": "05270161629470731830"
     },
     "user_tz": -330
    },
    "id": "kjKcJbOxdx64",
    "outputId": "9c30de42-4384-4c68-a583-9bc2d94114d4"
   },
   "outputs": [
    {
     "data": {
      "text/plain": [
       "['bestsellers with categories.csv']"
      ]
     },
     "execution_count": 89,
     "metadata": {
      "tags": []
     },
     "output_type": "execute_result"
    }
   ],
   "source": [
    "import os\n",
    "os.listdir(data_dir)"
   ]
  },
  {
   "cell_type": "markdown",
   "metadata": {
    "id": "_RXZfKGndx64"
   },
   "source": [
    "Let us save and upload our work to Jovian before continuing."
   ]
  },
  {
   "cell_type": "code",
   "execution_count": 90,
   "metadata": {
    "executionInfo": {
     "elapsed": 826,
     "status": "ok",
     "timestamp": 1607759874852,
     "user": {
      "displayName": "Tanvi Patel",
      "photoUrl": "https://lh3.googleusercontent.com/a-/AOh14GhEzOH8u0twqYzmOWwhgOGzrnWvaw78WUL_P8mx=s64",
      "userId": "05270161629470731830"
     },
     "user_tz": -330
    },
    "id": "DaB-NTDPdx64"
   },
   "outputs": [],
   "source": [
    "project_name = \"zerotopandas-course-project-starter\" # change this (use lowercase letters and hyphens only)"
   ]
  },
  {
   "cell_type": "code",
   "execution_count": 91,
   "metadata": {
    "executionInfo": {
     "elapsed": 4340,
     "status": "ok",
     "timestamp": 1607759879785,
     "user": {
      "displayName": "Tanvi Patel",
      "photoUrl": "https://lh3.googleusercontent.com/a-/AOh14GhEzOH8u0twqYzmOWwhgOGzrnWvaw78WUL_P8mx=s64",
      "userId": "05270161629470731830"
     },
     "user_tz": -330
    },
    "id": "wtz2VBpGdx65"
   },
   "outputs": [],
   "source": [
    "!pip install jovian --upgrade -q"
   ]
  },
  {
   "cell_type": "code",
   "execution_count": 92,
   "metadata": {
    "executionInfo": {
     "elapsed": 1018,
     "status": "ok",
     "timestamp": 1607759881384,
     "user": {
      "displayName": "Tanvi Patel",
      "photoUrl": "https://lh3.googleusercontent.com/a-/AOh14GhEzOH8u0twqYzmOWwhgOGzrnWvaw78WUL_P8mx=s64",
      "userId": "05270161629470731830"
     },
     "user_tz": -330
    },
    "id": "cOn08wOXdx65"
   },
   "outputs": [],
   "source": [
    "import jovian"
   ]
  },
  {
   "cell_type": "code",
   "execution_count": 93,
   "metadata": {
    "colab": {
     "base_uri": "https://localhost:8080/",
     "height": 107
    },
    "executionInfo": {
     "elapsed": 5658,
     "status": "ok",
     "timestamp": 1607759887790,
     "user": {
      "displayName": "Tanvi Patel",
      "photoUrl": "https://lh3.googleusercontent.com/a-/AOh14GhEzOH8u0twqYzmOWwhgOGzrnWvaw78WUL_P8mx=s64",
      "userId": "05270161629470731830"
     },
     "user_tz": -330
    },
    "id": "fF7V3wIndx65",
    "outputId": "79ce7fbf-9e67-48c5-8b49-bfa1b185d716"
   },
   "outputs": [
    {
     "name": "stdout",
     "output_type": "stream",
     "text": [
      "[jovian] Detected Colab notebook...\u001b[0m\n",
      "[jovian] Uploading colab notebook to Jovian...\u001b[0m\n",
      "[jovian] Capturing environment..\u001b[0m\n",
      "[jovian] Committed successfully! https://jovian.ai/tanu1007/zerotopandas-course-project-starter\u001b[0m\n"
     ]
    },
    {
     "data": {
      "application/vnd.google.colaboratory.intrinsic+json": {
       "type": "string"
      },
      "text/plain": [
       "'https://jovian.ai/tanu1007/zerotopandas-course-project-starter'"
      ]
     },
     "execution_count": 93,
     "metadata": {
      "tags": []
     },
     "output_type": "execute_result"
    }
   ],
   "source": [
    "jovian.commit(project=project_name)"
   ]
  },
  {
   "cell_type": "markdown",
   "metadata": {
    "id": "fXyAkX0idx65"
   },
   "source": [
    "## Data Preparation and Cleaning\n",
    "\n",
    "**TODO** - We need to get only important data in our final DF from raw DF\n",
    "\n",
    "We have deleted duplicated data using drop_duplicates method for better analysis.\n"
   ]
  },
  {
   "cell_type": "code",
   "execution_count": 94,
   "metadata": {
    "executionInfo": {
     "elapsed": 1752,
     "status": "ok",
     "timestamp": 1607759892828,
     "user": {
      "displayName": "Tanvi Patel",
      "photoUrl": "https://lh3.googleusercontent.com/a-/AOh14GhEzOH8u0twqYzmOWwhgOGzrnWvaw78WUL_P8mx=s64",
      "userId": "05270161629470731830"
     },
     "user_tz": -330
    },
    "id": "P4FPA0gJdx66"
   },
   "outputs": [],
   "source": [
    "import pandas as pd"
   ]
  },
  {
   "cell_type": "code",
   "execution_count": 96,
   "metadata": {
    "executionInfo": {
     "elapsed": 1672,
     "status": "ok",
     "timestamp": 1607759935427,
     "user": {
      "displayName": "Tanvi Patel",
      "photoUrl": "https://lh3.googleusercontent.com/a-/AOh14GhEzOH8u0twqYzmOWwhgOGzrnWvaw78WUL_P8mx=s64",
      "userId": "05270161629470731830"
     },
     "user_tz": -330
    },
    "id": "v5SE4QfBdx66"
   },
   "outputs": [],
   "source": [
    "bestsellers_df = pd.read_csv(data_dir + '/bestsellers with categories.csv')"
   ]
  },
  {
   "cell_type": "code",
   "execution_count": 97,
   "metadata": {
    "colab": {
     "base_uri": "https://localhost:8080/",
     "height": 399
    },
    "executionInfo": {
     "elapsed": 1609,
     "status": "ok",
     "timestamp": 1607759944110,
     "user": {
      "displayName": "Tanvi Patel",
      "photoUrl": "https://lh3.googleusercontent.com/a-/AOh14GhEzOH8u0twqYzmOWwhgOGzrnWvaw78WUL_P8mx=s64",
      "userId": "05270161629470731830"
     },
     "user_tz": -330
    },
    "id": "PDgasKLcdx66",
    "outputId": "670a1933-416b-41f1-9e9c-0c3c7328a90f"
   },
   "outputs": [
    {
     "data": {
      "text/html": [
       "<div>\n",
       "<style scoped>\n",
       "    .dataframe tbody tr th:only-of-type {\n",
       "        vertical-align: middle;\n",
       "    }\n",
       "\n",
       "    .dataframe tbody tr th {\n",
       "        vertical-align: top;\n",
       "    }\n",
       "\n",
       "    .dataframe thead th {\n",
       "        text-align: right;\n",
       "    }\n",
       "</style>\n",
       "<table border=\"1\" class=\"dataframe\">\n",
       "  <thead>\n",
       "    <tr style=\"text-align: right;\">\n",
       "      <th></th>\n",
       "      <th>Name</th>\n",
       "      <th>Author</th>\n",
       "      <th>User Rating</th>\n",
       "      <th>Reviews</th>\n",
       "      <th>Price</th>\n",
       "      <th>Year</th>\n",
       "      <th>Genre</th>\n",
       "    </tr>\n",
       "  </thead>\n",
       "  <tbody>\n",
       "    <tr>\n",
       "      <th>0</th>\n",
       "      <td>10-Day Green Smoothie Cleanse</td>\n",
       "      <td>JJ Smith</td>\n",
       "      <td>4.7</td>\n",
       "      <td>17350</td>\n",
       "      <td>8</td>\n",
       "      <td>2016</td>\n",
       "      <td>Non Fiction</td>\n",
       "    </tr>\n",
       "    <tr>\n",
       "      <th>1</th>\n",
       "      <td>11/22/63: A Novel</td>\n",
       "      <td>Stephen King</td>\n",
       "      <td>4.6</td>\n",
       "      <td>2052</td>\n",
       "      <td>22</td>\n",
       "      <td>2011</td>\n",
       "      <td>Fiction</td>\n",
       "    </tr>\n",
       "    <tr>\n",
       "      <th>2</th>\n",
       "      <td>12 Rules for Life: An Antidote to Chaos</td>\n",
       "      <td>Jordan B. Peterson</td>\n",
       "      <td>4.7</td>\n",
       "      <td>18979</td>\n",
       "      <td>15</td>\n",
       "      <td>2018</td>\n",
       "      <td>Non Fiction</td>\n",
       "    </tr>\n",
       "    <tr>\n",
       "      <th>3</th>\n",
       "      <td>1984 (Signet Classics)</td>\n",
       "      <td>George Orwell</td>\n",
       "      <td>4.7</td>\n",
       "      <td>21424</td>\n",
       "      <td>6</td>\n",
       "      <td>2017</td>\n",
       "      <td>Fiction</td>\n",
       "    </tr>\n",
       "    <tr>\n",
       "      <th>4</th>\n",
       "      <td>5,000 Awesome Facts (About Everything!) (Natio...</td>\n",
       "      <td>National Geographic Kids</td>\n",
       "      <td>4.8</td>\n",
       "      <td>7665</td>\n",
       "      <td>12</td>\n",
       "      <td>2019</td>\n",
       "      <td>Non Fiction</td>\n",
       "    </tr>\n",
       "    <tr>\n",
       "      <th>...</th>\n",
       "      <td>...</td>\n",
       "      <td>...</td>\n",
       "      <td>...</td>\n",
       "      <td>...</td>\n",
       "      <td>...</td>\n",
       "      <td>...</td>\n",
       "      <td>...</td>\n",
       "    </tr>\n",
       "    <tr>\n",
       "      <th>545</th>\n",
       "      <td>Wrecking Ball (Diary of a Wimpy Kid Book 14)</td>\n",
       "      <td>Jeff Kinney</td>\n",
       "      <td>4.9</td>\n",
       "      <td>9413</td>\n",
       "      <td>8</td>\n",
       "      <td>2019</td>\n",
       "      <td>Fiction</td>\n",
       "    </tr>\n",
       "    <tr>\n",
       "      <th>546</th>\n",
       "      <td>You Are a Badass: How to Stop Doubting Your Gr...</td>\n",
       "      <td>Jen Sincero</td>\n",
       "      <td>4.7</td>\n",
       "      <td>14331</td>\n",
       "      <td>8</td>\n",
       "      <td>2016</td>\n",
       "      <td>Non Fiction</td>\n",
       "    </tr>\n",
       "    <tr>\n",
       "      <th>547</th>\n",
       "      <td>You Are a Badass: How to Stop Doubting Your Gr...</td>\n",
       "      <td>Jen Sincero</td>\n",
       "      <td>4.7</td>\n",
       "      <td>14331</td>\n",
       "      <td>8</td>\n",
       "      <td>2017</td>\n",
       "      <td>Non Fiction</td>\n",
       "    </tr>\n",
       "    <tr>\n",
       "      <th>548</th>\n",
       "      <td>You Are a Badass: How to Stop Doubting Your Gr...</td>\n",
       "      <td>Jen Sincero</td>\n",
       "      <td>4.7</td>\n",
       "      <td>14331</td>\n",
       "      <td>8</td>\n",
       "      <td>2018</td>\n",
       "      <td>Non Fiction</td>\n",
       "    </tr>\n",
       "    <tr>\n",
       "      <th>549</th>\n",
       "      <td>You Are a Badass: How to Stop Doubting Your Gr...</td>\n",
       "      <td>Jen Sincero</td>\n",
       "      <td>4.7</td>\n",
       "      <td>14331</td>\n",
       "      <td>8</td>\n",
       "      <td>2019</td>\n",
       "      <td>Non Fiction</td>\n",
       "    </tr>\n",
       "  </tbody>\n",
       "</table>\n",
       "<p>550 rows × 7 columns</p>\n",
       "</div>"
      ],
      "text/plain": [
       "                                                  Name  ...        Genre\n",
       "0                        10-Day Green Smoothie Cleanse  ...  Non Fiction\n",
       "1                                    11/22/63: A Novel  ...      Fiction\n",
       "2              12 Rules for Life: An Antidote to Chaos  ...  Non Fiction\n",
       "3                               1984 (Signet Classics)  ...      Fiction\n",
       "4    5,000 Awesome Facts (About Everything!) (Natio...  ...  Non Fiction\n",
       "..                                                 ...  ...          ...\n",
       "545       Wrecking Ball (Diary of a Wimpy Kid Book 14)  ...      Fiction\n",
       "546  You Are a Badass: How to Stop Doubting Your Gr...  ...  Non Fiction\n",
       "547  You Are a Badass: How to Stop Doubting Your Gr...  ...  Non Fiction\n",
       "548  You Are a Badass: How to Stop Doubting Your Gr...  ...  Non Fiction\n",
       "549  You Are a Badass: How to Stop Doubting Your Gr...  ...  Non Fiction\n",
       "\n",
       "[550 rows x 7 columns]"
      ]
     },
     "execution_count": 97,
     "metadata": {
      "tags": []
     },
     "output_type": "execute_result"
    }
   ],
   "source": [
    "bestsellers_df"
   ]
  },
  {
   "cell_type": "code",
   "execution_count": 99,
   "metadata": {
    "colab": {
     "base_uri": "https://localhost:8080/",
     "height": 282
    },
    "executionInfo": {
     "elapsed": 1700,
     "status": "ok",
     "timestamp": 1607759987091,
     "user": {
      "displayName": "Tanvi Patel",
      "photoUrl": "https://lh3.googleusercontent.com/a-/AOh14GhEzOH8u0twqYzmOWwhgOGzrnWvaw78WUL_P8mx=s64",
      "userId": "05270161629470731830"
     },
     "user_tz": -330
    },
    "id": "INEP-la4dx66",
    "outputId": "b3d1cc42-5a43-4407-f64e-c7e8623d9a6d"
   },
   "outputs": [
    {
     "data": {
      "text/html": [
       "<div>\n",
       "<style scoped>\n",
       "    .dataframe tbody tr th:only-of-type {\n",
       "        vertical-align: middle;\n",
       "    }\n",
       "\n",
       "    .dataframe tbody tr th {\n",
       "        vertical-align: top;\n",
       "    }\n",
       "\n",
       "    .dataframe thead th {\n",
       "        text-align: right;\n",
       "    }\n",
       "</style>\n",
       "<table border=\"1\" class=\"dataframe\">\n",
       "  <thead>\n",
       "    <tr style=\"text-align: right;\">\n",
       "      <th></th>\n",
       "      <th>User Rating</th>\n",
       "      <th>Reviews</th>\n",
       "      <th>Price</th>\n",
       "      <th>Year</th>\n",
       "    </tr>\n",
       "  </thead>\n",
       "  <tbody>\n",
       "    <tr>\n",
       "      <th>count</th>\n",
       "      <td>550.000000</td>\n",
       "      <td>550.000000</td>\n",
       "      <td>550.000000</td>\n",
       "      <td>550.000000</td>\n",
       "    </tr>\n",
       "    <tr>\n",
       "      <th>mean</th>\n",
       "      <td>4.618364</td>\n",
       "      <td>11953.281818</td>\n",
       "      <td>13.100000</td>\n",
       "      <td>2014.000000</td>\n",
       "    </tr>\n",
       "    <tr>\n",
       "      <th>std</th>\n",
       "      <td>0.226980</td>\n",
       "      <td>11731.132017</td>\n",
       "      <td>10.842262</td>\n",
       "      <td>3.165156</td>\n",
       "    </tr>\n",
       "    <tr>\n",
       "      <th>min</th>\n",
       "      <td>3.300000</td>\n",
       "      <td>37.000000</td>\n",
       "      <td>0.000000</td>\n",
       "      <td>2009.000000</td>\n",
       "    </tr>\n",
       "    <tr>\n",
       "      <th>25%</th>\n",
       "      <td>4.500000</td>\n",
       "      <td>4058.000000</td>\n",
       "      <td>7.000000</td>\n",
       "      <td>2011.000000</td>\n",
       "    </tr>\n",
       "    <tr>\n",
       "      <th>50%</th>\n",
       "      <td>4.700000</td>\n",
       "      <td>8580.000000</td>\n",
       "      <td>11.000000</td>\n",
       "      <td>2014.000000</td>\n",
       "    </tr>\n",
       "    <tr>\n",
       "      <th>75%</th>\n",
       "      <td>4.800000</td>\n",
       "      <td>17253.250000</td>\n",
       "      <td>16.000000</td>\n",
       "      <td>2017.000000</td>\n",
       "    </tr>\n",
       "    <tr>\n",
       "      <th>max</th>\n",
       "      <td>4.900000</td>\n",
       "      <td>87841.000000</td>\n",
       "      <td>105.000000</td>\n",
       "      <td>2019.000000</td>\n",
       "    </tr>\n",
       "  </tbody>\n",
       "</table>\n",
       "</div>"
      ],
      "text/plain": [
       "       User Rating       Reviews       Price         Year\n",
       "count   550.000000    550.000000  550.000000   550.000000\n",
       "mean      4.618364  11953.281818   13.100000  2014.000000\n",
       "std       0.226980  11731.132017   10.842262     3.165156\n",
       "min       3.300000     37.000000    0.000000  2009.000000\n",
       "25%       4.500000   4058.000000    7.000000  2011.000000\n",
       "50%       4.700000   8580.000000   11.000000  2014.000000\n",
       "75%       4.800000  17253.250000   16.000000  2017.000000\n",
       "max       4.900000  87841.000000  105.000000  2019.000000"
      ]
     },
     "execution_count": 99,
     "metadata": {
      "tags": []
     },
     "output_type": "execute_result"
    }
   ],
   "source": [
    "bestsellers_df.describe()"
   ]
  },
  {
   "cell_type": "code",
   "execution_count": 100,
   "metadata": {
    "colab": {
     "base_uri": "https://localhost:8080/"
    },
    "executionInfo": {
     "elapsed": 1683,
     "status": "ok",
     "timestamp": 1607759996904,
     "user": {
      "displayName": "Tanvi Patel",
      "photoUrl": "https://lh3.googleusercontent.com/a-/AOh14GhEzOH8u0twqYzmOWwhgOGzrnWvaw78WUL_P8mx=s64",
      "userId": "05270161629470731830"
     },
     "user_tz": -330
    },
    "id": "KWZ4YYe7dx66",
    "outputId": "9dc826ec-cdb5-4a53-d80f-1a68494324ad"
   },
   "outputs": [
    {
     "name": "stdout",
     "output_type": "stream",
     "text": [
      "<class 'pandas.core.frame.DataFrame'>\n",
      "RangeIndex: 550 entries, 0 to 549\n",
      "Data columns (total 7 columns):\n",
      " #   Column       Non-Null Count  Dtype  \n",
      "---  ------       --------------  -----  \n",
      " 0   Name         550 non-null    object \n",
      " 1   Author       550 non-null    object \n",
      " 2   User Rating  550 non-null    float64\n",
      " 3   Reviews      550 non-null    int64  \n",
      " 4   Price        550 non-null    int64  \n",
      " 5   Year         550 non-null    int64  \n",
      " 6   Genre        550 non-null    object \n",
      "dtypes: float64(1), int64(3), object(3)\n",
      "memory usage: 30.2+ KB\n"
     ]
    }
   ],
   "source": [
    "bestsellers_df.info()"
   ]
  },
  {
   "cell_type": "code",
   "execution_count": 101,
   "metadata": {
    "colab": {
     "base_uri": "https://localhost:8080/"
    },
    "executionInfo": {
     "elapsed": 1576,
     "status": "ok",
     "timestamp": 1607760035302,
     "user": {
      "displayName": "Tanvi Patel",
      "photoUrl": "https://lh3.googleusercontent.com/a-/AOh14GhEzOH8u0twqYzmOWwhgOGzrnWvaw78WUL_P8mx=s64",
      "userId": "05270161629470731830"
     },
     "user_tz": -330
    },
    "id": "VMD9iaswdx66",
    "outputId": "4ba1f9bf-7710-4f6b-b7ea-e16c606a23f1"
   },
   "outputs": [
    {
     "data": {
      "text/plain": [
       "Name           0\n",
       "Author         0\n",
       "User Rating    0\n",
       "Reviews        0\n",
       "Price          0\n",
       "Year           0\n",
       "Genre          0\n",
       "dtype: int64"
      ]
     },
     "execution_count": 101,
     "metadata": {
      "tags": []
     },
     "output_type": "execute_result"
    }
   ],
   "source": [
    "bestsellers_missing = bestsellers_df.isna().sum()\r\n",
    "bestsellers_missing"
   ]
  },
  {
   "cell_type": "markdown",
   "metadata": {
    "id": "pzm3hk1LAEA2"
   },
   "source": [
    "Let's remove duplicates"
   ]
  },
  {
   "cell_type": "code",
   "execution_count": 201,
   "metadata": {
    "colab": {
     "base_uri": "https://localhost:8080/",
     "height": 399
    },
    "executionInfo": {
     "elapsed": 1598,
     "status": "ok",
     "timestamp": 1607766870761,
     "user": {
      "displayName": "Tanvi Patel",
      "photoUrl": "https://lh3.googleusercontent.com/a-/AOh14GhEzOH8u0twqYzmOWwhgOGzrnWvaw78WUL_P8mx=s64",
      "userId": "05270161629470731830"
     },
     "user_tz": -330
    },
    "id": "avMM8cNP_Dw_",
    "outputId": "64162def-fece-4e18-b102-37747642ce0f"
   },
   "outputs": [
    {
     "data": {
      "text/html": [
       "<div>\n",
       "<style scoped>\n",
       "    .dataframe tbody tr th:only-of-type {\n",
       "        vertical-align: middle;\n",
       "    }\n",
       "\n",
       "    .dataframe tbody tr th {\n",
       "        vertical-align: top;\n",
       "    }\n",
       "\n",
       "    .dataframe thead th {\n",
       "        text-align: right;\n",
       "    }\n",
       "</style>\n",
       "<table border=\"1\" class=\"dataframe\">\n",
       "  <thead>\n",
       "    <tr style=\"text-align: right;\">\n",
       "      <th></th>\n",
       "      <th>Name</th>\n",
       "      <th>Author</th>\n",
       "      <th>User Rating</th>\n",
       "      <th>Reviews</th>\n",
       "      <th>Price</th>\n",
       "      <th>Year</th>\n",
       "      <th>Genre</th>\n",
       "    </tr>\n",
       "  </thead>\n",
       "  <tbody>\n",
       "    <tr>\n",
       "      <th>0</th>\n",
       "      <td>10-Day Green Smoothie Cleanse</td>\n",
       "      <td>JJ Smith</td>\n",
       "      <td>4.7</td>\n",
       "      <td>17350</td>\n",
       "      <td>8</td>\n",
       "      <td>2016</td>\n",
       "      <td>Non Fiction</td>\n",
       "    </tr>\n",
       "    <tr>\n",
       "      <th>1</th>\n",
       "      <td>11/22/63: A Novel</td>\n",
       "      <td>Stephen King</td>\n",
       "      <td>4.6</td>\n",
       "      <td>2052</td>\n",
       "      <td>22</td>\n",
       "      <td>2011</td>\n",
       "      <td>Fiction</td>\n",
       "    </tr>\n",
       "    <tr>\n",
       "      <th>2</th>\n",
       "      <td>12 Rules for Life: An Antidote to Chaos</td>\n",
       "      <td>Jordan B. Peterson</td>\n",
       "      <td>4.7</td>\n",
       "      <td>18979</td>\n",
       "      <td>15</td>\n",
       "      <td>2018</td>\n",
       "      <td>Non Fiction</td>\n",
       "    </tr>\n",
       "    <tr>\n",
       "      <th>3</th>\n",
       "      <td>1984 (Signet Classics)</td>\n",
       "      <td>George Orwell</td>\n",
       "      <td>4.7</td>\n",
       "      <td>21424</td>\n",
       "      <td>6</td>\n",
       "      <td>2017</td>\n",
       "      <td>Fiction</td>\n",
       "    </tr>\n",
       "    <tr>\n",
       "      <th>4</th>\n",
       "      <td>5,000 Awesome Facts (About Everything!) (Natio...</td>\n",
       "      <td>National Geographic Kids</td>\n",
       "      <td>4.8</td>\n",
       "      <td>7665</td>\n",
       "      <td>12</td>\n",
       "      <td>2019</td>\n",
       "      <td>Non Fiction</td>\n",
       "    </tr>\n",
       "    <tr>\n",
       "      <th>...</th>\n",
       "      <td>...</td>\n",
       "      <td>...</td>\n",
       "      <td>...</td>\n",
       "      <td>...</td>\n",
       "      <td>...</td>\n",
       "      <td>...</td>\n",
       "      <td>...</td>\n",
       "    </tr>\n",
       "    <tr>\n",
       "      <th>250</th>\n",
       "      <td>Whose Boat Is This Boat?: Comments That Don't ...</td>\n",
       "      <td>The Staff of The Late Show with</td>\n",
       "      <td>4.6</td>\n",
       "      <td>6669</td>\n",
       "      <td>12</td>\n",
       "      <td>2018</td>\n",
       "      <td>Non Fiction</td>\n",
       "    </tr>\n",
       "    <tr>\n",
       "      <th>251</th>\n",
       "      <td>Wild: From Lost to Found on the Pacific Crest ...</td>\n",
       "      <td>Cheryl Strayed</td>\n",
       "      <td>4.4</td>\n",
       "      <td>17044</td>\n",
       "      <td>18</td>\n",
       "      <td>2012</td>\n",
       "      <td>Non Fiction</td>\n",
       "    </tr>\n",
       "    <tr>\n",
       "      <th>252</th>\n",
       "      <td>Winter of the World: Book Two of the Century T...</td>\n",
       "      <td>Ken Follett</td>\n",
       "      <td>4.5</td>\n",
       "      <td>10760</td>\n",
       "      <td>15</td>\n",
       "      <td>2012</td>\n",
       "      <td>Fiction</td>\n",
       "    </tr>\n",
       "    <tr>\n",
       "      <th>253</th>\n",
       "      <td>Women Food and God: An Unexpected Path to Almo...</td>\n",
       "      <td>Geneen Roth</td>\n",
       "      <td>4.2</td>\n",
       "      <td>1302</td>\n",
       "      <td>11</td>\n",
       "      <td>2010</td>\n",
       "      <td>Non Fiction</td>\n",
       "    </tr>\n",
       "    <tr>\n",
       "      <th>254</th>\n",
       "      <td>Wrecking Ball (Diary of a Wimpy Kid Book 14)</td>\n",
       "      <td>Jeff Kinney</td>\n",
       "      <td>4.9</td>\n",
       "      <td>9413</td>\n",
       "      <td>8</td>\n",
       "      <td>2019</td>\n",
       "      <td>Fiction</td>\n",
       "    </tr>\n",
       "  </tbody>\n",
       "</table>\n",
       "<p>255 rows × 7 columns</p>\n",
       "</div>"
      ],
      "text/plain": [
       "                                                  Name  ...        Genre\n",
       "0                        10-Day Green Smoothie Cleanse  ...  Non Fiction\n",
       "1                                    11/22/63: A Novel  ...      Fiction\n",
       "2              12 Rules for Life: An Antidote to Chaos  ...  Non Fiction\n",
       "3                               1984 (Signet Classics)  ...      Fiction\n",
       "4    5,000 Awesome Facts (About Everything!) (Natio...  ...  Non Fiction\n",
       "..                                                 ...  ...          ...\n",
       "250  Whose Boat Is This Boat?: Comments That Don't ...  ...  Non Fiction\n",
       "251  Wild: From Lost to Found on the Pacific Crest ...  ...  Non Fiction\n",
       "252  Winter of the World: Book Two of the Century T...  ...      Fiction\n",
       "253  Women Food and God: An Unexpected Path to Almo...  ...  Non Fiction\n",
       "254       Wrecking Ball (Diary of a Wimpy Kid Book 14)  ...      Fiction\n",
       "\n",
       "[255 rows x 7 columns]"
      ]
     },
     "execution_count": 201,
     "metadata": {
      "tags": []
     },
     "output_type": "execute_result"
    }
   ],
   "source": [
    "bestsellers_df.drop_duplicates(subset='Name', keep='first',inplace = True)\r\n",
    "bestsellers_df"
   ]
  },
  {
   "cell_type": "code",
   "execution_count": 202,
   "metadata": {
    "executionInfo": {
     "elapsed": 1660,
     "status": "ok",
     "timestamp": 1607766878114,
     "user": {
      "displayName": "Tanvi Patel",
      "photoUrl": "https://lh3.googleusercontent.com/a-/AOh14GhEzOH8u0twqYzmOWwhgOGzrnWvaw78WUL_P8mx=s64",
      "userId": "05270161629470731830"
     },
     "user_tz": -330
    },
    "id": "OxlWtJpwdx67"
   },
   "outputs": [],
   "source": [
    "import jovian"
   ]
  },
  {
   "cell_type": "code",
   "execution_count": 203,
   "metadata": {
    "colab": {
     "base_uri": "https://localhost:8080/",
     "height": 107
    },
    "executionInfo": {
     "elapsed": 5326,
     "status": "ok",
     "timestamp": 1607766884198,
     "user": {
      "displayName": "Tanvi Patel",
      "photoUrl": "https://lh3.googleusercontent.com/a-/AOh14GhEzOH8u0twqYzmOWwhgOGzrnWvaw78WUL_P8mx=s64",
      "userId": "05270161629470731830"
     },
     "user_tz": -330
    },
    "id": "VUDoj4qGdx67",
    "outputId": "c8ac5975-8081-446b-d915-4177ab75942c"
   },
   "outputs": [
    {
     "name": "stdout",
     "output_type": "stream",
     "text": [
      "[jovian] Detected Colab notebook...\u001b[0m\n",
      "[jovian] Uploading colab notebook to Jovian...\u001b[0m\n",
      "[jovian] Capturing environment..\u001b[0m\n",
      "[jovian] Committed successfully! https://jovian.ai/tanu1007/zerotopandas-course-project-starter\u001b[0m\n"
     ]
    },
    {
     "data": {
      "application/vnd.google.colaboratory.intrinsic+json": {
       "type": "string"
      },
      "text/plain": [
       "'https://jovian.ai/tanu1007/zerotopandas-course-project-starter'"
      ]
     },
     "execution_count": 203,
     "metadata": {
      "tags": []
     },
     "output_type": "execute_result"
    }
   ],
   "source": [
    "jovian.commit(project=project_name)"
   ]
  },
  {
   "cell_type": "markdown",
   "metadata": {
    "id": "Dj-tFVt-dx67"
   },
   "source": [
    "## Exploratory Analysis and Visualization\n",
    "\n",
    "**TODO** - We'll visualize the data in form of pie chart and bar graphs\n",
    "\n",
    " -  Top Best Authors on the basis of their bestseller books\n",
    " -  View Top 15 Best reviwed books\n",
    " -  Genre Division\n",
    " -  Year vs User Ratings\n",
    "\n"
   ]
  },
  {
   "cell_type": "markdown",
   "metadata": {
    "id": "st5JAV2adx67"
   },
   "source": [
    "Let's begin by importing`matplotlib.pyplot` and `seaborn`."
   ]
  },
  {
   "cell_type": "code",
   "execution_count": 104,
   "metadata": {
    "executionInfo": {
     "elapsed": 1450,
     "status": "ok",
     "timestamp": 1607760069155,
     "user": {
      "displayName": "Tanvi Patel",
      "photoUrl": "https://lh3.googleusercontent.com/a-/AOh14GhEzOH8u0twqYzmOWwhgOGzrnWvaw78WUL_P8mx=s64",
      "userId": "05270161629470731830"
     },
     "user_tz": -330
    },
    "id": "cTwlL1jSdx68"
   },
   "outputs": [],
   "source": [
    "import seaborn as sns\n",
    "import matplotlib\n",
    "import matplotlib.pyplot as plt\n",
    "%matplotlib inline\n",
    "\n",
    "sns.set_style('darkgrid')\n",
    "matplotlib.rcParams['font.size'] = 14\n",
    "matplotlib.rcParams['figure.figsize'] = (9, 5)\n",
    "matplotlib.rcParams['figure.facecolor'] = '#00000000'"
   ]
  },
  {
   "cell_type": "markdown",
   "metadata": {
    "id": "NBm-GbEidx68"
   },
   "source": [
    "**TODO** - The graph shows the top Best Authors on the basis of their bestseller books\r\n",
    "\r\n",
    "According to the Data, Jeff Kinney is the best followed by Rick Riordan and Stephenie Meyer"
   ]
  },
  {
   "cell_type": "code",
   "execution_count": 127,
   "metadata": {
    "executionInfo": {
     "elapsed": 1571,
     "status": "ok",
     "timestamp": 1607761312092,
     "user": {
      "displayName": "Tanvi Patel",
      "photoUrl": "https://lh3.googleusercontent.com/a-/AOh14GhEzOH8u0twqYzmOWwhgOGzrnWvaw78WUL_P8mx=s64",
      "userId": "05270161629470731830"
     },
     "user_tz": -330
    },
    "id": "fTt6et3ldx68"
   },
   "outputs": [],
   "source": [
    "bestsellers_df = bestsellers_df.reset_index(drop=True)"
   ]
  },
  {
   "cell_type": "code",
   "execution_count": 122,
   "metadata": {
    "colab": {
     "base_uri": "https://localhost:8080/"
    },
    "executionInfo": {
     "elapsed": 1557,
     "status": "ok",
     "timestamp": 1607760904678,
     "user": {
      "displayName": "Tanvi Patel",
      "photoUrl": "https://lh3.googleusercontent.com/a-/AOh14GhEzOH8u0twqYzmOWwhgOGzrnWvaw78WUL_P8mx=s64",
      "userId": "05270161629470731830"
     },
     "user_tz": -330
    },
    "id": "znNbZr-IooiU",
    "outputId": "e7f04a04-cc69-4d87-9c69-db592f6582c4"
   },
   "outputs": [
    {
     "data": {
      "text/plain": [
       "175"
      ]
     },
     "execution_count": 122,
     "metadata": {
      "tags": []
     },
     "output_type": "execute_result"
    }
   ],
   "source": [
    "num_authors = bestsellers_df['Author'].unique().tolist()\r\n",
    "len(num_authors)"
   ]
  },
  {
   "cell_type": "code",
   "execution_count": 129,
   "metadata": {
    "colab": {
     "base_uri": "https://localhost:8080/",
     "height": 399
    },
    "executionInfo": {
     "elapsed": 1700,
     "status": "ok",
     "timestamp": 1607761328448,
     "user": {
      "displayName": "Tanvi Patel",
      "photoUrl": "https://lh3.googleusercontent.com/a-/AOh14GhEzOH8u0twqYzmOWwhgOGzrnWvaw78WUL_P8mx=s64",
      "userId": "05270161629470731830"
     },
     "user_tz": -330
    },
    "id": "t6TmNU0PBVcz",
    "outputId": "77b47af6-1b71-4a8f-883a-f7301d2a9cf9"
   },
   "outputs": [
    {
     "data": {
      "text/html": [
       "<div>\n",
       "<style scoped>\n",
       "    .dataframe tbody tr th:only-of-type {\n",
       "        vertical-align: middle;\n",
       "    }\n",
       "\n",
       "    .dataframe tbody tr th {\n",
       "        vertical-align: top;\n",
       "    }\n",
       "\n",
       "    .dataframe thead th {\n",
       "        text-align: right;\n",
       "    }\n",
       "</style>\n",
       "<table border=\"1\" class=\"dataframe\">\n",
       "  <thead>\n",
       "    <tr style=\"text-align: right;\">\n",
       "      <th></th>\n",
       "      <th>Author</th>\n",
       "      <th>Reviews</th>\n",
       "    </tr>\n",
       "  </thead>\n",
       "  <tbody>\n",
       "    <tr>\n",
       "      <th>0</th>\n",
       "      <td>JJ Smith</td>\n",
       "      <td>17350</td>\n",
       "    </tr>\n",
       "    <tr>\n",
       "      <th>1</th>\n",
       "      <td>Stephen King</td>\n",
       "      <td>2052</td>\n",
       "    </tr>\n",
       "    <tr>\n",
       "      <th>2</th>\n",
       "      <td>Jordan B. Peterson</td>\n",
       "      <td>18979</td>\n",
       "    </tr>\n",
       "    <tr>\n",
       "      <th>3</th>\n",
       "      <td>George Orwell</td>\n",
       "      <td>21424</td>\n",
       "    </tr>\n",
       "    <tr>\n",
       "      <th>4</th>\n",
       "      <td>National Geographic Kids</td>\n",
       "      <td>7665</td>\n",
       "    </tr>\n",
       "    <tr>\n",
       "      <th>...</th>\n",
       "      <td>...</td>\n",
       "      <td>...</td>\n",
       "    </tr>\n",
       "    <tr>\n",
       "      <th>250</th>\n",
       "      <td>The Staff of The Late Show with</td>\n",
       "      <td>6669</td>\n",
       "    </tr>\n",
       "    <tr>\n",
       "      <th>251</th>\n",
       "      <td>Cheryl Strayed</td>\n",
       "      <td>17044</td>\n",
       "    </tr>\n",
       "    <tr>\n",
       "      <th>252</th>\n",
       "      <td>Ken Follett</td>\n",
       "      <td>10760</td>\n",
       "    </tr>\n",
       "    <tr>\n",
       "      <th>253</th>\n",
       "      <td>Geneen Roth</td>\n",
       "      <td>1302</td>\n",
       "    </tr>\n",
       "    <tr>\n",
       "      <th>254</th>\n",
       "      <td>Jeff Kinney</td>\n",
       "      <td>9413</td>\n",
       "    </tr>\n",
       "  </tbody>\n",
       "</table>\n",
       "<p>255 rows × 2 columns</p>\n",
       "</div>"
      ],
      "text/plain": [
       "                               Author  Reviews\n",
       "0                            JJ Smith    17350\n",
       "1                        Stephen King     2052\n",
       "2                  Jordan B. Peterson    18979\n",
       "3                       George Orwell    21424\n",
       "4            National Geographic Kids     7665\n",
       "..                                ...      ...\n",
       "250  The Staff of The Late Show with\n",
       "     6669\n",
       "251                    Cheryl Strayed    17044\n",
       "252                       Ken Follett    10760\n",
       "253                       Geneen Roth     1302\n",
       "254                       Jeff Kinney     9413\n",
       "\n",
       "[255 rows x 2 columns]"
      ]
     },
     "execution_count": 129,
     "metadata": {
      "tags": []
     },
     "output_type": "execute_result"
    }
   ],
   "source": [
    "selected_columns = ['Author','Reviews']\r\n",
    "Highest_reviewed_author_df = bestsellers_df[selected_columns].copy()\r\n",
    "Highest_reviewed_author_df"
   ]
  },
  {
   "cell_type": "code",
   "execution_count": 130,
   "metadata": {
    "colab": {
     "base_uri": "https://localhost:8080/"
    },
    "executionInfo": {
     "elapsed": 1592,
     "status": "ok",
     "timestamp": 1607761751445,
     "user": {
      "displayName": "Tanvi Patel",
      "photoUrl": "https://lh3.googleusercontent.com/a-/AOh14GhEzOH8u0twqYzmOWwhgOGzrnWvaw78WUL_P8mx=s64",
      "userId": "05270161629470731830"
     },
     "user_tz": -330
    },
    "id": "S2RSgV3KEIII",
    "outputId": "a7b82428-ab45-4561-d09f-f5ef06c8f150"
   },
   "outputs": [
    {
     "data": {
      "text/plain": [
       "Jeff Kinney         12\n",
       "Rick Riordan         9\n",
       "Stephenie Meyer      7\n",
       "J.K. Rowling         6\n",
       "Dav Pilkey           5\n",
       "Bill O'Reilly        5\n",
       "John Grisham         5\n",
       "Stephen King         4\n",
       "Charlaine Harris     4\n",
       "E L James            4\n",
       "Dan Brown            3\n",
       "Ree Drummond         3\n",
       "Glenn Beck           3\n",
       "Ina Garten           3\n",
       "RH Disney            2\n",
       "Name: Author, dtype: int64"
      ]
     },
     "execution_count": 130,
     "metadata": {
      "tags": []
     },
     "output_type": "execute_result"
    }
   ],
   "source": [
    "top_authors = bestsellers_df['Author'].value_counts().head(15)\r\n",
    "top_authors"
   ]
  },
  {
   "cell_type": "code",
   "execution_count": 131,
   "metadata": {
    "colab": {
     "base_uri": "https://localhost:8080/",
     "height": 448
    },
    "executionInfo": {
     "elapsed": 2614,
     "status": "ok",
     "timestamp": 1607761819223,
     "user": {
      "displayName": "Tanvi Patel",
      "photoUrl": "https://lh3.googleusercontent.com/a-/AOh14GhEzOH8u0twqYzmOWwhgOGzrnWvaw78WUL_P8mx=s64",
      "userId": "05270161629470731830"
     },
     "user_tz": -330
    },
    "id": "TtuvPd4QEdP8",
    "outputId": "94088888-4f1e-4ac9-995d-f26ee1f5613a"
   },
   "outputs": [
    {
     "data": {
      "image/png": "[encoded data removed]",
      "text/plain": [
       "<Figure size 648x360 with 1 Axes>"
      ]
     },
     "metadata": {
      "needs_background": "light",
      "tags": []
     },
     "output_type": "display_data"
    }
   ],
   "source": [
    "plt.xticks(rotation=75)\r\n",
    "plt.title(\"Top Authors\")\r\n",
    "sns.barplot(x=top_authors.index, y=top_authors);"
   ]
  },
  {
   "cell_type": "markdown",
   "metadata": {
    "id": "tNYufxqfdx68"
   },
   "source": [
    "**TODO** - To View Top 15 Best reviwed books"
   ]
  },
  {
   "cell_type": "code",
   "execution_count": 140,
   "metadata": {
    "colab": {
     "base_uri": "https://localhost:8080/",
     "height": 399
    },
    "executionInfo": {
     "elapsed": 1767,
     "status": "ok",
     "timestamp": 1607762406914,
     "user": {
      "displayName": "Tanvi Patel",
      "photoUrl": "https://lh3.googleusercontent.com/a-/AOh14GhEzOH8u0twqYzmOWwhgOGzrnWvaw78WUL_P8mx=s64",
      "userId": "05270161629470731830"
     },
     "user_tz": -330
    },
    "id": "i8JwB07Edx68",
    "outputId": "9ee95f84-f903-44d0-9886-f8aab7cac852"
   },
   "outputs": [
    {
     "data": {
      "text/html": [
       "<div>\n",
       "<style scoped>\n",
       "    .dataframe tbody tr th:only-of-type {\n",
       "        vertical-align: middle;\n",
       "    }\n",
       "\n",
       "    .dataframe tbody tr th {\n",
       "        vertical-align: top;\n",
       "    }\n",
       "\n",
       "    .dataframe thead th {\n",
       "        text-align: right;\n",
       "    }\n",
       "</style>\n",
       "<table border=\"1\" class=\"dataframe\">\n",
       "  <thead>\n",
       "    <tr style=\"text-align: right;\">\n",
       "      <th></th>\n",
       "      <th>Name</th>\n",
       "      <th>Reviews</th>\n",
       "    </tr>\n",
       "  </thead>\n",
       "  <tbody>\n",
       "    <tr>\n",
       "      <th>248</th>\n",
       "      <td>Where the Crawdads Sing</td>\n",
       "      <td>87841</td>\n",
       "    </tr>\n",
       "    <tr>\n",
       "      <th>197</th>\n",
       "      <td>The Martian</td>\n",
       "      <td>39459</td>\n",
       "    </tr>\n",
       "    <tr>\n",
       "      <th>164</th>\n",
       "      <td>The Alchemist</td>\n",
       "      <td>35799</td>\n",
       "    </tr>\n",
       "    <tr>\n",
       "      <th>188</th>\n",
       "      <td>The Hunger Games</td>\n",
       "      <td>32122</td>\n",
       "    </tr>\n",
       "    <tr>\n",
       "      <th>106</th>\n",
       "      <td>Inferno</td>\n",
       "      <td>29651</td>\n",
       "    </tr>\n",
       "    <tr>\n",
       "      <th>...</th>\n",
       "      <td>...</td>\n",
       "      <td>...</td>\n",
       "    </tr>\n",
       "    <tr>\n",
       "      <th>175</th>\n",
       "      <td>The Daily Show with Jon Stewart Presents Earth...</td>\n",
       "      <td>440</td>\n",
       "    </tr>\n",
       "    <tr>\n",
       "      <th>233</th>\n",
       "      <td>True Compass: A Memoir</td>\n",
       "      <td>438</td>\n",
       "    </tr>\n",
       "    <tr>\n",
       "      <th>77</th>\n",
       "      <td>George Washington's Sacred Fire</td>\n",
       "      <td>408</td>\n",
       "    </tr>\n",
       "    <tr>\n",
       "      <th>156</th>\n",
       "      <td>Soul Healing Miracles: Ancient and New Sacred ...</td>\n",
       "      <td>220</td>\n",
       "    </tr>\n",
       "    <tr>\n",
       "      <th>52</th>\n",
       "      <td>Divine Soul Mind Body Healing and Transmission...</td>\n",
       "      <td>37</td>\n",
       "    </tr>\n",
       "  </tbody>\n",
       "</table>\n",
       "<p>255 rows × 2 columns</p>\n",
       "</div>"
      ],
      "text/plain": [
       "                                                  Name  Reviews\n",
       "248                            Where the Crawdads Sing    87841\n",
       "197                                        The Martian    39459\n",
       "164                                      The Alchemist    35799\n",
       "188                                   The Hunger Games    32122\n",
       "106                                            Inferno    29651\n",
       "..                                                 ...      ...\n",
       "175  The Daily Show with Jon Stewart Presents Earth...      440\n",
       "233                             True Compass: A Memoir      438\n",
       "77                     George Washington's Sacred Fire      408\n",
       "156  Soul Healing Miracles: Ancient and New Sacred ...      220\n",
       "52   Divine Soul Mind Body Healing and Transmission...       37\n",
       "\n",
       "[255 rows x 2 columns]"
      ]
     },
     "execution_count": 140,
     "metadata": {
      "tags": []
     },
     "output_type": "execute_result"
    }
   ],
   "source": [
    "selected_columns = ['Name','Reviews']\r\n",
    "Highest_reviewed_book_df = bestsellers_df[selected_columns].copy()\r\n",
    "Highest_reviewed_book_df = Highest_reviewed_book_df.sort_values(by='Reviews',ascending=False)\r\n",
    "Highest_reviewed_book_df"
   ]
  },
  {
   "cell_type": "code",
   "execution_count": 145,
   "metadata": {
    "colab": {
     "base_uri": "https://localhost:8080/"
    },
    "executionInfo": {
     "elapsed": 2909,
     "status": "ok",
     "timestamp": 1607762949213,
     "user": {
      "displayName": "Tanvi Patel",
      "photoUrl": "https://lh3.googleusercontent.com/a-/AOh14GhEzOH8u0twqYzmOWwhgOGzrnWvaw78WUL_P8mx=s64",
      "userId": "05270161629470731830"
     },
     "user_tz": -330
    },
    "id": "Re-Y66bMdx68",
    "outputId": "2fe2ae29-cfc5-4272-c452-f18ee8137dae"
   },
   "outputs": [
    {
     "name": "stdout",
     "output_type": "stream",
     "text": [
      "248                              Where the Crawdads Sing\n",
      "197                                          The Martian\n",
      "164                                        The Alchemist\n",
      "188                                     The Hunger Games\n",
      "106                                              Inferno\n",
      "184                                  The Handmaid's Tale\n",
      "215                                   The Silent Patient\n",
      "126                              Little Fires Everywhere\n",
      "86     Grey: Fifty Shades of Grey as Told by Christia...\n",
      "91     Harry Potter and the Cursed Child, Parts 1 & 2...\n",
      "70                                   Fifty Shades Darker\n",
      "160                         Sycamore Row (Jake Brigance)\n",
      "144                                         Orphan Train\n",
      "3                                 1984 (Signet Classics)\n",
      "71     Fifty Shades Freed: Book Three of the Fifty Sh...\n",
      "Name: Name, dtype: object\n",
      "248    87841\n",
      "197    39459\n",
      "164    35799\n",
      "188    32122\n",
      "106    29651\n",
      "184    29442\n",
      "215    27536\n",
      "126    25706\n",
      "86     25624\n",
      "91     23973\n",
      "70     23631\n",
      "160    23114\n",
      "144    21930\n",
      "3      21424\n",
      "71     20262\n",
      "Name: Reviews, dtype: int64\n"
     ]
    }
   ],
   "source": [
    "top_books = Highest_reviewed_book_df['Name'].head(15)\r\n",
    "top_reviews = Highest_reviewed_book_df['Reviews'].head(15)\r\n",
    "print(top_books)\r\n",
    "print(top_reviews)"
   ]
  },
  {
   "cell_type": "code",
   "execution_count": 147,
   "metadata": {
    "colab": {
     "base_uri": "https://localhost:8080/",
     "height": 394
    },
    "executionInfo": {
     "elapsed": 2413,
     "status": "ok",
     "timestamp": 1607763041080,
     "user": {
      "displayName": "Tanvi Patel",
      "photoUrl": "https://lh3.googleusercontent.com/a-/AOh14GhEzOH8u0twqYzmOWwhgOGzrnWvaw78WUL_P8mx=s64",
      "userId": "05270161629470731830"
     },
     "user_tz": -330
    },
    "id": "lV2B9d7AHAz1",
    "outputId": "b02ecf58-69a0-416f-b6e3-41b46d9bdf8f"
   },
   "outputs": [
    {
     "data": {
      "image/png": "[encoded data removed]",
      "text/plain": [
       "<Figure size 648x360 with 1 Axes>"
      ]
     },
     "metadata": {
      "needs_background": "light",
      "tags": []
     },
     "output_type": "display_data"
    }
   ],
   "source": [
    "plt.title(\"Top 15 reviwed Books\")\r\n",
    "plt.xticks(rotation=75)\r\n",
    "sns.barplot(x=top_reviews, y=top_books);"
   ]
  },
  {
   "cell_type": "markdown",
   "metadata": {
    "id": "kNE3TUj0dx69"
   },
   "source": [
    "**TODO** - We visualized the percentage of favorite geners among readers\r\n",
    "\r\n",
    "Turns out Non-fiction is liked by maximum readers"
   ]
  },
  {
   "cell_type": "code",
   "execution_count": 148,
   "metadata": {
    "colab": {
     "base_uri": "https://localhost:8080/"
    },
    "executionInfo": {
     "elapsed": 1800,
     "status": "ok",
     "timestamp": 1607763237832,
     "user": {
      "displayName": "Tanvi Patel",
      "photoUrl": "https://lh3.googleusercontent.com/a-/AOh14GhEzOH8u0twqYzmOWwhgOGzrnWvaw78WUL_P8mx=s64",
      "userId": "05270161629470731830"
     },
     "user_tz": -330
    },
    "id": "w0sJVehrdx69",
    "outputId": "dc38bc00-6c33-4a96-eab8-139a1834a423"
   },
   "outputs": [
    {
     "data": {
      "text/plain": [
       "Non Fiction    139\n",
       "Fiction        116\n",
       "Name: Genre, dtype: int64"
      ]
     },
     "execution_count": 148,
     "metadata": {
      "tags": []
     },
     "output_type": "execute_result"
    }
   ],
   "source": [
    "genre_counts = bestsellers_df['Genre'].value_counts()\r\n",
    "genre_counts"
   ]
  },
  {
   "cell_type": "code",
   "execution_count": 149,
   "metadata": {
    "colab": {
     "base_uri": "https://localhost:8080/",
     "height": 323
    },
    "executionInfo": {
     "elapsed": 1704,
     "status": "ok",
     "timestamp": 1607763299946,
     "user": {
      "displayName": "Tanvi Patel",
      "photoUrl": "https://lh3.googleusercontent.com/a-/AOh14GhEzOH8u0twqYzmOWwhgOGzrnWvaw78WUL_P8mx=s64",
      "userId": "05270161629470731830"
     },
     "user_tz": -330
    },
    "id": "rkuQb-p6dx69",
    "outputId": "c3258760-086a-432c-db1f-b0eed8838fd9"
   },
   "outputs": [
    {
     "data": {
      "image/png": "[encoded data removed]",
      "text/plain": [
       "<Figure size 648x360 with 1 Axes>"
      ]
     },
     "metadata": {
      "tags": []
     },
     "output_type": "display_data"
    }
   ],
   "source": [
    "plt.title(\"Genre Division\")\r\n",
    "plt.pie(genre_counts, labels=genre_counts.index, autopct='%1.1f%%', startangle=180);"
   ]
  },
  {
   "cell_type": "markdown",
   "metadata": {
    "id": "jssssxH9dx69"
   },
   "source": [
    "\r\n",
    "\r\n",
    "**TODO** - We interpreted that the books published in year 2016 and 2018 have highest user rating"
   ]
  },
  {
   "cell_type": "code",
   "execution_count": 150,
   "metadata": {
    "colab": {
     "base_uri": "https://localhost:8080/",
     "height": 360
    },
    "executionInfo": {
     "elapsed": 1904,
     "status": "ok",
     "timestamp": 1607763545942,
     "user": {
      "displayName": "Tanvi Patel",
      "photoUrl": "https://lh3.googleusercontent.com/a-/AOh14GhEzOH8u0twqYzmOWwhgOGzrnWvaw78WUL_P8mx=s64",
      "userId": "05270161629470731830"
     },
     "user_tz": -330
    },
    "id": "sA604xf8dx69",
    "outputId": "8110f359-d3d9-44c2-a9dc-ef9b348b055d"
   },
   "outputs": [
    {
     "data": {
      "text/plain": [
       "<matplotlib.axes._subplots.AxesSubplot at 0x7fb17520e390>"
      ]
     },
     "execution_count": 150,
     "metadata": {
      "tags": []
     },
     "output_type": "execute_result"
    },
    {
     "data": {
      "image/png": "[encoded data removed]",
      "text/plain": [
       "<Figure size 648x360 with 1 Axes>"
      ]
     },
     "metadata": {
      "needs_background": "light",
      "tags": []
     },
     "output_type": "display_data"
    }
   ],
   "source": [
    "sns.lineplot(data=bestsellers_df, x=\"Year\", y=\"User Rating\")"
   ]
  },
  {
   "cell_type": "markdown",
   "metadata": {
    "id": "kUMegkOCdx6-"
   },
   "source": [
    "Let us save and upload our work to Jovian before continuing"
   ]
  },
  {
   "cell_type": "code",
   "execution_count": 151,
   "metadata": {
    "executionInfo": {
     "elapsed": 1654,
     "status": "ok",
     "timestamp": 1607763763585,
     "user": {
      "displayName": "Tanvi Patel",
      "photoUrl": "https://lh3.googleusercontent.com/a-/AOh14GhEzOH8u0twqYzmOWwhgOGzrnWvaw78WUL_P8mx=s64",
      "userId": "05270161629470731830"
     },
     "user_tz": -330
    },
    "id": "3EOjwyIndx6-"
   },
   "outputs": [],
   "source": [
    "import jovian"
   ]
  },
  {
   "cell_type": "code",
   "execution_count": 152,
   "metadata": {
    "colab": {
     "base_uri": "https://localhost:8080/",
     "height": 107
    },
    "executionInfo": {
     "elapsed": 5483,
     "status": "ok",
     "timestamp": 1607763770659,
     "user": {
      "displayName": "Tanvi Patel",
      "photoUrl": "https://lh3.googleusercontent.com/a-/AOh14GhEzOH8u0twqYzmOWwhgOGzrnWvaw78WUL_P8mx=s64",
      "userId": "05270161629470731830"
     },
     "user_tz": -330
    },
    "id": "UHuP-hRpdx6-",
    "outputId": "b6ff01bf-584b-4054-bddd-698b84c1e440"
   },
   "outputs": [
    {
     "name": "stdout",
     "output_type": "stream",
     "text": [
      "[jovian] Detected Colab notebook...\u001b[0m\n",
      "[jovian] Uploading colab notebook to Jovian...\u001b[0m\n",
      "[jovian] Capturing environment..\u001b[0m\n",
      "[jovian] Committed successfully! https://jovian.ai/tanu1007/zerotopandas-course-project-starter\u001b[0m\n"
     ]
    },
    {
     "data": {
      "application/vnd.google.colaboratory.intrinsic+json": {
       "type": "string"
      },
      "text/plain": [
       "'https://jovian.ai/tanu1007/zerotopandas-course-project-starter'"
      ]
     },
     "execution_count": 152,
     "metadata": {
      "tags": []
     },
     "output_type": "execute_result"
    }
   ],
   "source": [
    "jovian.commit(project=project_name)"
   ]
  },
  {
   "cell_type": "markdown",
   "metadata": {
    "id": "20IlvzdUdx6-"
   },
   "source": [
    "## Asking and Answering Questions\n",
    "\n",
    "TODO - Questions\n",
    "\n",
    "-  Top 5 fiction books\n",
    "-  Top 5 non-fiction books\n",
    "-  Top 5 fiction Authors\n",
    "-  Top 5 non-fiction Authors\n",
    "\n"
   ]
  },
  {
   "cell_type": "markdown",
   "metadata": {
    "id": "C924QxAAdx6_"
   },
   "source": [
    "#### Q1: Top 5 fiction books based on Reviews"
   ]
  },
  {
   "cell_type": "code",
   "execution_count": 153,
   "metadata": {
    "colab": {
     "base_uri": "https://localhost:8080/",
     "height": 399
    },
    "executionInfo": {
     "elapsed": 1558,
     "status": "ok",
     "timestamp": 1607764046789,
     "user": {
      "displayName": "Tanvi Patel",
      "photoUrl": "https://lh3.googleusercontent.com/a-/AOh14GhEzOH8u0twqYzmOWwhgOGzrnWvaw78WUL_P8mx=s64",
      "userId": "05270161629470731830"
     },
     "user_tz": -330
    },
    "id": "NVEofDeBdx6_",
    "outputId": "8b7e3783-1987-4cfe-df2a-a9156f5da606"
   },
   "outputs": [
    {
     "data": {
      "text/html": [
       "<div>\n",
       "<style scoped>\n",
       "    .dataframe tbody tr th:only-of-type {\n",
       "        vertical-align: middle;\n",
       "    }\n",
       "\n",
       "    .dataframe tbody tr th {\n",
       "        vertical-align: top;\n",
       "    }\n",
       "\n",
       "    .dataframe thead th {\n",
       "        text-align: right;\n",
       "    }\n",
       "</style>\n",
       "<table border=\"1\" class=\"dataframe\">\n",
       "  <thead>\n",
       "    <tr style=\"text-align: right;\">\n",
       "      <th></th>\n",
       "      <th>Name</th>\n",
       "      <th>Author</th>\n",
       "      <th>User Rating</th>\n",
       "      <th>Reviews</th>\n",
       "      <th>Price</th>\n",
       "      <th>Year</th>\n",
       "      <th>Genre</th>\n",
       "    </tr>\n",
       "  </thead>\n",
       "  <tbody>\n",
       "    <tr>\n",
       "      <th>0</th>\n",
       "      <td>10-Day Green Smoothie Cleanse</td>\n",
       "      <td>JJ Smith</td>\n",
       "      <td>4.7</td>\n",
       "      <td>17350</td>\n",
       "      <td>8</td>\n",
       "      <td>2016</td>\n",
       "      <td>Non Fiction</td>\n",
       "    </tr>\n",
       "    <tr>\n",
       "      <th>1</th>\n",
       "      <td>11/22/63: A Novel</td>\n",
       "      <td>Stephen King</td>\n",
       "      <td>4.6</td>\n",
       "      <td>2052</td>\n",
       "      <td>22</td>\n",
       "      <td>2011</td>\n",
       "      <td>Fiction</td>\n",
       "    </tr>\n",
       "    <tr>\n",
       "      <th>2</th>\n",
       "      <td>12 Rules for Life: An Antidote to Chaos</td>\n",
       "      <td>Jordan B. Peterson</td>\n",
       "      <td>4.7</td>\n",
       "      <td>18979</td>\n",
       "      <td>15</td>\n",
       "      <td>2018</td>\n",
       "      <td>Non Fiction</td>\n",
       "    </tr>\n",
       "    <tr>\n",
       "      <th>3</th>\n",
       "      <td>1984 (Signet Classics)</td>\n",
       "      <td>George Orwell</td>\n",
       "      <td>4.7</td>\n",
       "      <td>21424</td>\n",
       "      <td>6</td>\n",
       "      <td>2017</td>\n",
       "      <td>Fiction</td>\n",
       "    </tr>\n",
       "    <tr>\n",
       "      <th>4</th>\n",
       "      <td>5,000 Awesome Facts (About Everything!) (Natio...</td>\n",
       "      <td>National Geographic Kids</td>\n",
       "      <td>4.8</td>\n",
       "      <td>7665</td>\n",
       "      <td>12</td>\n",
       "      <td>2019</td>\n",
       "      <td>Non Fiction</td>\n",
       "    </tr>\n",
       "    <tr>\n",
       "      <th>...</th>\n",
       "      <td>...</td>\n",
       "      <td>...</td>\n",
       "      <td>...</td>\n",
       "      <td>...</td>\n",
       "      <td>...</td>\n",
       "      <td>...</td>\n",
       "      <td>...</td>\n",
       "    </tr>\n",
       "    <tr>\n",
       "      <th>250</th>\n",
       "      <td>Whose Boat Is This Boat?: Comments That Don't ...</td>\n",
       "      <td>The Staff of The Late Show with</td>\n",
       "      <td>4.6</td>\n",
       "      <td>6669</td>\n",
       "      <td>12</td>\n",
       "      <td>2018</td>\n",
       "      <td>Non Fiction</td>\n",
       "    </tr>\n",
       "    <tr>\n",
       "      <th>251</th>\n",
       "      <td>Wild: From Lost to Found on the Pacific Crest ...</td>\n",
       "      <td>Cheryl Strayed</td>\n",
       "      <td>4.4</td>\n",
       "      <td>17044</td>\n",
       "      <td>18</td>\n",
       "      <td>2012</td>\n",
       "      <td>Non Fiction</td>\n",
       "    </tr>\n",
       "    <tr>\n",
       "      <th>252</th>\n",
       "      <td>Winter of the World: Book Two of the Century T...</td>\n",
       "      <td>Ken Follett</td>\n",
       "      <td>4.5</td>\n",
       "      <td>10760</td>\n",
       "      <td>15</td>\n",
       "      <td>2012</td>\n",
       "      <td>Fiction</td>\n",
       "    </tr>\n",
       "    <tr>\n",
       "      <th>253</th>\n",
       "      <td>Women Food and God: An Unexpected Path to Almo...</td>\n",
       "      <td>Geneen Roth</td>\n",
       "      <td>4.2</td>\n",
       "      <td>1302</td>\n",
       "      <td>11</td>\n",
       "      <td>2010</td>\n",
       "      <td>Non Fiction</td>\n",
       "    </tr>\n",
       "    <tr>\n",
       "      <th>254</th>\n",
       "      <td>Wrecking Ball (Diary of a Wimpy Kid Book 14)</td>\n",
       "      <td>Jeff Kinney</td>\n",
       "      <td>4.9</td>\n",
       "      <td>9413</td>\n",
       "      <td>8</td>\n",
       "      <td>2019</td>\n",
       "      <td>Fiction</td>\n",
       "    </tr>\n",
       "  </tbody>\n",
       "</table>\n",
       "<p>255 rows × 7 columns</p>\n",
       "</div>"
      ],
      "text/plain": [
       "                                                  Name  ...        Genre\n",
       "0                        10-Day Green Smoothie Cleanse  ...  Non Fiction\n",
       "1                                    11/22/63: A Novel  ...      Fiction\n",
       "2              12 Rules for Life: An Antidote to Chaos  ...  Non Fiction\n",
       "3                               1984 (Signet Classics)  ...      Fiction\n",
       "4    5,000 Awesome Facts (About Everything!) (Natio...  ...  Non Fiction\n",
       "..                                                 ...  ...          ...\n",
       "250  Whose Boat Is This Boat?: Comments That Don't ...  ...  Non Fiction\n",
       "251  Wild: From Lost to Found on the Pacific Crest ...  ...  Non Fiction\n",
       "252  Winter of the World: Book Two of the Century T...  ...      Fiction\n",
       "253  Women Food and God: An Unexpected Path to Almo...  ...  Non Fiction\n",
       "254       Wrecking Ball (Diary of a Wimpy Kid Book 14)  ...      Fiction\n",
       "\n",
       "[255 rows x 7 columns]"
      ]
     },
     "execution_count": 153,
     "metadata": {
      "tags": []
     },
     "output_type": "execute_result"
    }
   ],
   "source": [
    "bestsellers_df"
   ]
  },
  {
   "cell_type": "code",
   "execution_count": 194,
   "metadata": {
    "colab": {
     "base_uri": "https://localhost:8080/",
     "height": 399
    },
    "executionInfo": {
     "elapsed": 1631,
     "status": "ok",
     "timestamp": 1607766275388,
     "user": {
      "displayName": "Tanvi Patel",
      "photoUrl": "https://lh3.googleusercontent.com/a-/AOh14GhEzOH8u0twqYzmOWwhgOGzrnWvaw78WUL_P8mx=s64",
      "userId": "05270161629470731830"
     },
     "user_tz": -330
    },
    "id": "LrtSlRfedx6_",
    "outputId": "d86519c3-8766-454e-afb8-1cea279ccceb"
   },
   "outputs": [
    {
     "data": {
      "text/html": [
       "<div>\n",
       "<style scoped>\n",
       "    .dataframe tbody tr th:only-of-type {\n",
       "        vertical-align: middle;\n",
       "    }\n",
       "\n",
       "    .dataframe tbody tr th {\n",
       "        vertical-align: top;\n",
       "    }\n",
       "\n",
       "    .dataframe thead th {\n",
       "        text-align: right;\n",
       "    }\n",
       "</style>\n",
       "<table border=\"1\" class=\"dataframe\">\n",
       "  <thead>\n",
       "    <tr style=\"text-align: right;\">\n",
       "      <th></th>\n",
       "      <th>Name</th>\n",
       "      <th>Genre</th>\n",
       "      <th>Reviews</th>\n",
       "    </tr>\n",
       "  </thead>\n",
       "  <tbody>\n",
       "    <tr>\n",
       "      <th>0</th>\n",
       "      <td>Where the Crawdads Sing</td>\n",
       "      <td>Fiction</td>\n",
       "      <td>87841</td>\n",
       "    </tr>\n",
       "    <tr>\n",
       "      <th>1</th>\n",
       "      <td>The Martian</td>\n",
       "      <td>Fiction</td>\n",
       "      <td>39459</td>\n",
       "    </tr>\n",
       "    <tr>\n",
       "      <th>2</th>\n",
       "      <td>The Alchemist</td>\n",
       "      <td>Fiction</td>\n",
       "      <td>35799</td>\n",
       "    </tr>\n",
       "    <tr>\n",
       "      <th>3</th>\n",
       "      <td>The Hunger Games</td>\n",
       "      <td>Fiction</td>\n",
       "      <td>32122</td>\n",
       "    </tr>\n",
       "    <tr>\n",
       "      <th>4</th>\n",
       "      <td>Inferno</td>\n",
       "      <td>Fiction</td>\n",
       "      <td>29651</td>\n",
       "    </tr>\n",
       "    <tr>\n",
       "      <th>...</th>\n",
       "      <td>...</td>\n",
       "      <td>...</td>\n",
       "      <td>...</td>\n",
       "    </tr>\n",
       "    <tr>\n",
       "      <th>250</th>\n",
       "      <td>The Daily Show with Jon Stewart Presents Earth...</td>\n",
       "      <td>Non Fiction</td>\n",
       "      <td>440</td>\n",
       "    </tr>\n",
       "    <tr>\n",
       "      <th>251</th>\n",
       "      <td>True Compass: A Memoir</td>\n",
       "      <td>Non Fiction</td>\n",
       "      <td>438</td>\n",
       "    </tr>\n",
       "    <tr>\n",
       "      <th>252</th>\n",
       "      <td>George Washington's Sacred Fire</td>\n",
       "      <td>Non Fiction</td>\n",
       "      <td>408</td>\n",
       "    </tr>\n",
       "    <tr>\n",
       "      <th>253</th>\n",
       "      <td>Soul Healing Miracles: Ancient and New Sacred ...</td>\n",
       "      <td>Non Fiction</td>\n",
       "      <td>220</td>\n",
       "    </tr>\n",
       "    <tr>\n",
       "      <th>254</th>\n",
       "      <td>Divine Soul Mind Body Healing and Transmission...</td>\n",
       "      <td>Non Fiction</td>\n",
       "      <td>37</td>\n",
       "    </tr>\n",
       "  </tbody>\n",
       "</table>\n",
       "<p>255 rows × 3 columns</p>\n",
       "</div>"
      ],
      "text/plain": [
       "                                                  Name        Genre  Reviews\n",
       "0                              Where the Crawdads Sing      Fiction    87841\n",
       "1                                          The Martian      Fiction    39459\n",
       "2                                        The Alchemist      Fiction    35799\n",
       "3                                     The Hunger Games      Fiction    32122\n",
       "4                                              Inferno      Fiction    29651\n",
       "..                                                 ...          ...      ...\n",
       "250  The Daily Show with Jon Stewart Presents Earth...  Non Fiction      440\n",
       "251                             True Compass: A Memoir  Non Fiction      438\n",
       "252                    George Washington's Sacred Fire  Non Fiction      408\n",
       "253  Soul Healing Miracles: Ancient and New Sacred ...  Non Fiction      220\n",
       "254  Divine Soul Mind Body Healing and Transmission...  Non Fiction       37\n",
       "\n",
       "[255 rows x 3 columns]"
      ]
     },
     "execution_count": 194,
     "metadata": {
      "tags": []
     },
     "output_type": "execute_result"
    }
   ],
   "source": [
    "selected_c = ['Name','Genre','Reviews']\r\n",
    "top_5_df_books = bestsellers_df[selected_c].copy()\r\n",
    "top_5_df_books = top_5_df_books.sort_values(by='Reviews',ascending=False)\r\n",
    "top_5_df_books.reset_index(drop=True)"
   ]
  },
  {
   "cell_type": "code",
   "execution_count": 195,
   "metadata": {
    "colab": {
     "base_uri": "https://localhost:8080/",
     "height": 194
    },
    "executionInfo": {
     "elapsed": 1646,
     "status": "ok",
     "timestamp": 1607766328320,
     "user": {
      "displayName": "Tanvi Patel",
      "photoUrl": "https://lh3.googleusercontent.com/a-/AOh14GhEzOH8u0twqYzmOWwhgOGzrnWvaw78WUL_P8mx=s64",
      "userId": "05270161629470731830"
     },
     "user_tz": -330
    },
    "id": "cvPLS07DP6Ys",
    "outputId": "c72007ce-557e-45fe-8012-a2c86ef12011"
   },
   "outputs": [
    {
     "data": {
      "text/html": [
       "<div>\n",
       "<style scoped>\n",
       "    .dataframe tbody tr th:only-of-type {\n",
       "        vertical-align: middle;\n",
       "    }\n",
       "\n",
       "    .dataframe tbody tr th {\n",
       "        vertical-align: top;\n",
       "    }\n",
       "\n",
       "    .dataframe thead th {\n",
       "        text-align: right;\n",
       "    }\n",
       "</style>\n",
       "<table border=\"1\" class=\"dataframe\">\n",
       "  <thead>\n",
       "    <tr style=\"text-align: right;\">\n",
       "      <th></th>\n",
       "      <th>Name</th>\n",
       "      <th>Genre</th>\n",
       "      <th>Reviews</th>\n",
       "    </tr>\n",
       "  </thead>\n",
       "  <tbody>\n",
       "    <tr>\n",
       "      <th>248</th>\n",
       "      <td>Where the Crawdads Sing</td>\n",
       "      <td>Fiction</td>\n",
       "      <td>87841</td>\n",
       "    </tr>\n",
       "    <tr>\n",
       "      <th>197</th>\n",
       "      <td>The Martian</td>\n",
       "      <td>Fiction</td>\n",
       "      <td>39459</td>\n",
       "    </tr>\n",
       "    <tr>\n",
       "      <th>164</th>\n",
       "      <td>The Alchemist</td>\n",
       "      <td>Fiction</td>\n",
       "      <td>35799</td>\n",
       "    </tr>\n",
       "    <tr>\n",
       "      <th>188</th>\n",
       "      <td>The Hunger Games</td>\n",
       "      <td>Fiction</td>\n",
       "      <td>32122</td>\n",
       "    </tr>\n",
       "    <tr>\n",
       "      <th>106</th>\n",
       "      <td>Inferno</td>\n",
       "      <td>Fiction</td>\n",
       "      <td>29651</td>\n",
       "    </tr>\n",
       "  </tbody>\n",
       "</table>\n",
       "</div>"
      ],
      "text/plain": [
       "                        Name    Genre  Reviews\n",
       "248  Where the Crawdads Sing  Fiction    87841\n",
       "197              The Martian  Fiction    39459\n",
       "164            The Alchemist  Fiction    35799\n",
       "188         The Hunger Games  Fiction    32122\n",
       "106                  Inferno  Fiction    29651"
      ]
     },
     "execution_count": 195,
     "metadata": {
      "tags": []
     },
     "output_type": "execute_result"
    }
   ],
   "source": [
    "top_5_fiction_df_books = top_5_df_books.copy()\r\n",
    "#top_5_fiction_df = top_5_fiction_df.sort_values(by='Genre',ascending=True)\r\n",
    "top_5_fiction_df_books = top_5_fiction_df_books.head(5)\r\n",
    "top_5_fiction_df_books.reset_index(drop=True)"
   ]
  },
  {
   "cell_type": "markdown",
   "metadata": {
    "id": "nXkazRB0dx6_"
   },
   "source": [
    "#### Q2: TODO - Top 5 non-fiction books on Reviews\r\n",
    "\r\n",
    "\r\n"
   ]
  },
  {
   "cell_type": "code",
   "execution_count": 196,
   "metadata": {
    "colab": {
     "base_uri": "https://localhost:8080/",
     "height": 194
    },
    "executionInfo": {
     "elapsed": 1673,
     "status": "ok",
     "timestamp": 1607766379346,
     "user": {
      "displayName": "Tanvi Patel",
      "photoUrl": "https://lh3.googleusercontent.com/a-/AOh14GhEzOH8u0twqYzmOWwhgOGzrnWvaw78WUL_P8mx=s64",
      "userId": "05270161629470731830"
     },
     "user_tz": -330
    },
    "id": "1H1KSjg8dx6_",
    "outputId": "250b39f3-5369-4877-a719-84813c3b8f3d"
   },
   "outputs": [
    {
     "data": {
      "text/html": [
       "<div>\n",
       "<style scoped>\n",
       "    .dataframe tbody tr th:only-of-type {\n",
       "        vertical-align: middle;\n",
       "    }\n",
       "\n",
       "    .dataframe tbody tr th {\n",
       "        vertical-align: top;\n",
       "    }\n",
       "\n",
       "    .dataframe thead th {\n",
       "        text-align: right;\n",
       "    }\n",
       "</style>\n",
       "<table border=\"1\" class=\"dataframe\">\n",
       "  <thead>\n",
       "    <tr style=\"text-align: right;\">\n",
       "      <th></th>\n",
       "      <th>Name</th>\n",
       "      <th>Genre</th>\n",
       "      <th>Reviews</th>\n",
       "    </tr>\n",
       "  </thead>\n",
       "  <tbody>\n",
       "    <tr>\n",
       "      <th>0</th>\n",
       "      <td>Killing Reagan: The Violent Assault That Chang...</td>\n",
       "      <td>Non Fiction</td>\n",
       "      <td>5235</td>\n",
       "    </tr>\n",
       "    <tr>\n",
       "      <th>1</th>\n",
       "      <td>A Stolen Life: A Memoir</td>\n",
       "      <td>Non Fiction</td>\n",
       "      <td>4149</td>\n",
       "    </tr>\n",
       "    <tr>\n",
       "      <th>2</th>\n",
       "      <td>Happy, Happy, Happy: My Life and Legacy as the...</td>\n",
       "      <td>Non Fiction</td>\n",
       "      <td>4148</td>\n",
       "    </tr>\n",
       "    <tr>\n",
       "      <th>3</th>\n",
       "      <td>The Last Lecture</td>\n",
       "      <td>Non Fiction</td>\n",
       "      <td>4028</td>\n",
       "    </tr>\n",
       "    <tr>\n",
       "      <th>4</th>\n",
       "      <td>Harry Potter Coloring Book</td>\n",
       "      <td>Non Fiction</td>\n",
       "      <td>3564</td>\n",
       "    </tr>\n",
       "  </tbody>\n",
       "</table>\n",
       "</div>"
      ],
      "text/plain": [
       "                                                Name        Genre  Reviews\n",
       "0  Killing Reagan: The Violent Assault That Chang...  Non Fiction     5235\n",
       "1                            A Stolen Life: A Memoir  Non Fiction     4149\n",
       "2  Happy, Happy, Happy: My Life and Legacy as the...  Non Fiction     4148\n",
       "3                                   The Last Lecture  Non Fiction     4028\n",
       "4                         Harry Potter Coloring Book  Non Fiction     3564"
      ]
     },
     "execution_count": 196,
     "metadata": {
      "tags": []
     },
     "output_type": "execute_result"
    }
   ],
   "source": [
    "top_5_nonfiction_df_books = top_5_df_books.copy()\r\n",
    "top_5_nonfiction_df1 = top_5_nonfiction_df_books.sort_values(by='Genre',ascending=False).head(5)\r\n",
    "top_5_nonfiction_df2 = top_5_nonfiction_df1.sort_values(by='Reviews',ascending=False)\r\n",
    "top_5_nonfiction_df2.reset_index(drop=True)"
   ]
  },
  {
   "cell_type": "markdown",
   "metadata": {
    "id": "EiqZ8g4UQjz-"
   },
   "source": [
    "#### Q3: TODO - Top 5 fiction Authors on Reviews"
   ]
  },
  {
   "cell_type": "code",
   "execution_count": 197,
   "metadata": {
    "colab": {
     "base_uri": "https://localhost:8080/",
     "height": 399
    },
    "executionInfo": {
     "elapsed": 1481,
     "status": "ok",
     "timestamp": 1607766417406,
     "user": {
      "displayName": "Tanvi Patel",
      "photoUrl": "https://lh3.googleusercontent.com/a-/AOh14GhEzOH8u0twqYzmOWwhgOGzrnWvaw78WUL_P8mx=s64",
      "userId": "05270161629470731830"
     },
     "user_tz": -330
    },
    "id": "VqW3BTv9QuRE",
    "outputId": "301eba73-456a-4fff-b04b-6cc46e5c645a"
   },
   "outputs": [
    {
     "data": {
      "text/html": [
       "<div>\n",
       "<style scoped>\n",
       "    .dataframe tbody tr th:only-of-type {\n",
       "        vertical-align: middle;\n",
       "    }\n",
       "\n",
       "    .dataframe tbody tr th {\n",
       "        vertical-align: top;\n",
       "    }\n",
       "\n",
       "    .dataframe thead th {\n",
       "        text-align: right;\n",
       "    }\n",
       "</style>\n",
       "<table border=\"1\" class=\"dataframe\">\n",
       "  <thead>\n",
       "    <tr style=\"text-align: right;\">\n",
       "      <th></th>\n",
       "      <th>Author</th>\n",
       "      <th>Genre</th>\n",
       "      <th>Reviews</th>\n",
       "    </tr>\n",
       "  </thead>\n",
       "  <tbody>\n",
       "    <tr>\n",
       "      <th>0</th>\n",
       "      <td>Delia Owens</td>\n",
       "      <td>Fiction</td>\n",
       "      <td>87841</td>\n",
       "    </tr>\n",
       "    <tr>\n",
       "      <th>1</th>\n",
       "      <td>Andy Weir</td>\n",
       "      <td>Fiction</td>\n",
       "      <td>39459</td>\n",
       "    </tr>\n",
       "    <tr>\n",
       "      <th>2</th>\n",
       "      <td>Paulo Coelho</td>\n",
       "      <td>Fiction</td>\n",
       "      <td>35799</td>\n",
       "    </tr>\n",
       "    <tr>\n",
       "      <th>3</th>\n",
       "      <td>Suzanne Collins</td>\n",
       "      <td>Fiction</td>\n",
       "      <td>32122</td>\n",
       "    </tr>\n",
       "    <tr>\n",
       "      <th>4</th>\n",
       "      <td>Dan Brown</td>\n",
       "      <td>Fiction</td>\n",
       "      <td>29651</td>\n",
       "    </tr>\n",
       "    <tr>\n",
       "      <th>...</th>\n",
       "      <td>...</td>\n",
       "      <td>...</td>\n",
       "      <td>...</td>\n",
       "    </tr>\n",
       "    <tr>\n",
       "      <th>250</th>\n",
       "      <td>Jon Stewart</td>\n",
       "      <td>Non Fiction</td>\n",
       "      <td>440</td>\n",
       "    </tr>\n",
       "    <tr>\n",
       "      <th>251</th>\n",
       "      <td>Edward M. Kennedy</td>\n",
       "      <td>Non Fiction</td>\n",
       "      <td>438</td>\n",
       "    </tr>\n",
       "    <tr>\n",
       "      <th>252</th>\n",
       "      <td>Peter A. Lillback</td>\n",
       "      <td>Non Fiction</td>\n",
       "      <td>408</td>\n",
       "    </tr>\n",
       "    <tr>\n",
       "      <th>253</th>\n",
       "      <td>Zhi Gang Sha</td>\n",
       "      <td>Non Fiction</td>\n",
       "      <td>220</td>\n",
       "    </tr>\n",
       "    <tr>\n",
       "      <th>254</th>\n",
       "      <td>Zhi Gang Sha</td>\n",
       "      <td>Non Fiction</td>\n",
       "      <td>37</td>\n",
       "    </tr>\n",
       "  </tbody>\n",
       "</table>\n",
       "<p>255 rows × 3 columns</p>\n",
       "</div>"
      ],
      "text/plain": [
       "                Author        Genre  Reviews\n",
       "0          Delia Owens      Fiction    87841\n",
       "1            Andy Weir      Fiction    39459\n",
       "2         Paulo Coelho      Fiction    35799\n",
       "3      Suzanne Collins      Fiction    32122\n",
       "4            Dan Brown      Fiction    29651\n",
       "..                 ...          ...      ...\n",
       "250        Jon Stewart  Non Fiction      440\n",
       "251  Edward M. Kennedy  Non Fiction      438\n",
       "252  Peter A. Lillback  Non Fiction      408\n",
       "253       Zhi Gang Sha  Non Fiction      220\n",
       "254       Zhi Gang Sha  Non Fiction       37\n",
       "\n",
       "[255 rows x 3 columns]"
      ]
     },
     "execution_count": 197,
     "metadata": {
      "tags": []
     },
     "output_type": "execute_result"
    }
   ],
   "source": [
    "selected_c = ['Author','Genre','Reviews']\r\n",
    "top_5_df_authors = bestsellers_df[selected_c].copy()\r\n",
    "top_5_df_authors = top_5_df_authors.sort_values(by='Reviews',ascending=False)\r\n",
    "top_5_df_authors.reset_index(drop=True)"
   ]
  },
  {
   "cell_type": "code",
   "execution_count": 198,
   "metadata": {
    "colab": {
     "base_uri": "https://localhost:8080/",
     "height": 194
    },
    "executionInfo": {
     "elapsed": 1645,
     "status": "ok",
     "timestamp": 1607766479722,
     "user": {
      "displayName": "Tanvi Patel",
      "photoUrl": "https://lh3.googleusercontent.com/a-/AOh14GhEzOH8u0twqYzmOWwhgOGzrnWvaw78WUL_P8mx=s64",
      "userId": "05270161629470731830"
     },
     "user_tz": -330
    },
    "id": "aAAdih9nQ5ZN",
    "outputId": "5ca44d41-3209-4c99-c1e4-11b86ab5edd8"
   },
   "outputs": [
    {
     "data": {
      "text/html": [
       "<div>\n",
       "<style scoped>\n",
       "    .dataframe tbody tr th:only-of-type {\n",
       "        vertical-align: middle;\n",
       "    }\n",
       "\n",
       "    .dataframe tbody tr th {\n",
       "        vertical-align: top;\n",
       "    }\n",
       "\n",
       "    .dataframe thead th {\n",
       "        text-align: right;\n",
       "    }\n",
       "</style>\n",
       "<table border=\"1\" class=\"dataframe\">\n",
       "  <thead>\n",
       "    <tr style=\"text-align: right;\">\n",
       "      <th></th>\n",
       "      <th>Author</th>\n",
       "      <th>Genre</th>\n",
       "      <th>Reviews</th>\n",
       "    </tr>\n",
       "  </thead>\n",
       "  <tbody>\n",
       "    <tr>\n",
       "      <th>0</th>\n",
       "      <td>Delia Owens</td>\n",
       "      <td>Fiction</td>\n",
       "      <td>87841</td>\n",
       "    </tr>\n",
       "    <tr>\n",
       "      <th>1</th>\n",
       "      <td>Andy Weir</td>\n",
       "      <td>Fiction</td>\n",
       "      <td>39459</td>\n",
       "    </tr>\n",
       "    <tr>\n",
       "      <th>2</th>\n",
       "      <td>Paulo Coelho</td>\n",
       "      <td>Fiction</td>\n",
       "      <td>35799</td>\n",
       "    </tr>\n",
       "    <tr>\n",
       "      <th>3</th>\n",
       "      <td>Suzanne Collins</td>\n",
       "      <td>Fiction</td>\n",
       "      <td>32122</td>\n",
       "    </tr>\n",
       "    <tr>\n",
       "      <th>4</th>\n",
       "      <td>Margaret Atwood</td>\n",
       "      <td>Fiction</td>\n",
       "      <td>29442</td>\n",
       "    </tr>\n",
       "  </tbody>\n",
       "</table>\n",
       "</div>"
      ],
      "text/plain": [
       "            Author    Genre  Reviews\n",
       "0      Delia Owens  Fiction    87841\n",
       "1        Andy Weir  Fiction    39459\n",
       "2     Paulo Coelho  Fiction    35799\n",
       "3  Suzanne Collins  Fiction    32122\n",
       "4  Margaret Atwood  Fiction    29442"
      ]
     },
     "execution_count": 198,
     "metadata": {
      "tags": []
     },
     "output_type": "execute_result"
    }
   ],
   "source": [
    "top_5_fiction_df_authors = top_5_df_authors.copy()\r\n",
    "top_5_fiction_df_authors = top_5_fiction_df_authors.sort_values(by='Genre',ascending=True)\r\n",
    "top_5_fiction_df_authors.drop_duplicates(subset='Author', keep='first',inplace = True)\r\n",
    "top_5_fiction_df3_authors = top_5_fiction_df_authors.sort_values(by='Reviews',ascending=False).head(5)\r\n",
    "top_5_fiction_df3_authors.reset_index(drop=True)"
   ]
  },
  {
   "cell_type": "markdown",
   "metadata": {
    "id": "jFhUlCcvSh1p"
   },
   "source": [
    "#### Q4: TODO - Top 5 Non fiction Authors"
   ]
  },
  {
   "cell_type": "code",
   "execution_count": 200,
   "metadata": {
    "colab": {
     "base_uri": "https://localhost:8080/",
     "height": 194
    },
    "executionInfo": {
     "elapsed": 1541,
     "status": "ok",
     "timestamp": 1607766592361,
     "user": {
      "displayName": "Tanvi Patel",
      "photoUrl": "https://lh3.googleusercontent.com/a-/AOh14GhEzOH8u0twqYzmOWwhgOGzrnWvaw78WUL_P8mx=s64",
      "userId": "05270161629470731830"
     },
     "user_tz": -330
    },
    "id": "jywWqQcISlXt",
    "outputId": "1132947e-8251-4ed8-d454-05f76cde09e3"
   },
   "outputs": [
    {
     "data": {
      "text/html": [
       "<div>\n",
       "<style scoped>\n",
       "    .dataframe tbody tr th:only-of-type {\n",
       "        vertical-align: middle;\n",
       "    }\n",
       "\n",
       "    .dataframe tbody tr th {\n",
       "        vertical-align: top;\n",
       "    }\n",
       "\n",
       "    .dataframe thead th {\n",
       "        text-align: right;\n",
       "    }\n",
       "</style>\n",
       "<table border=\"1\" class=\"dataframe\">\n",
       "  <thead>\n",
       "    <tr style=\"text-align: right;\">\n",
       "      <th></th>\n",
       "      <th>Author</th>\n",
       "      <th>Genre</th>\n",
       "      <th>Reviews</th>\n",
       "    </tr>\n",
       "  </thead>\n",
       "  <tbody>\n",
       "    <tr>\n",
       "      <th>0</th>\n",
       "      <td>Bill O'Reilly</td>\n",
       "      <td>Non Fiction</td>\n",
       "      <td>5235</td>\n",
       "    </tr>\n",
       "    <tr>\n",
       "      <th>1</th>\n",
       "      <td>Jaycee Dugard</td>\n",
       "      <td>Non Fiction</td>\n",
       "      <td>4149</td>\n",
       "    </tr>\n",
       "    <tr>\n",
       "      <th>2</th>\n",
       "      <td>Phil Robertson</td>\n",
       "      <td>Non Fiction</td>\n",
       "      <td>4148</td>\n",
       "    </tr>\n",
       "    <tr>\n",
       "      <th>3</th>\n",
       "      <td>Randy Pausch</td>\n",
       "      <td>Non Fiction</td>\n",
       "      <td>4028</td>\n",
       "    </tr>\n",
       "    <tr>\n",
       "      <th>4</th>\n",
       "      <td>Scholastic</td>\n",
       "      <td>Non Fiction</td>\n",
       "      <td>3564</td>\n",
       "    </tr>\n",
       "  </tbody>\n",
       "</table>\n",
       "</div>"
      ],
      "text/plain": [
       "           Author        Genre  Reviews\n",
       "0   Bill O'Reilly  Non Fiction     5235\n",
       "1   Jaycee Dugard  Non Fiction     4149\n",
       "2  Phil Robertson  Non Fiction     4148\n",
       "3    Randy Pausch  Non Fiction     4028\n",
       "4      Scholastic  Non Fiction     3564"
      ]
     },
     "execution_count": 200,
     "metadata": {
      "tags": []
     },
     "output_type": "execute_result"
    }
   ],
   "source": [
    "top_5_nonfiction_df_authors = top_5_df_authors.copy()\r\n",
    "top_5_nonfiction_df_authors = top_5_nonfiction_df_authors.sort_values(by='Genre',ascending=False).head(5)\r\n",
    "top_5_nonfiction_df_authors.drop_duplicates(subset='Author', keep='first',inplace = True)\r\n",
    "top_5_nonfiction_df3_authors = top_5_nonfiction_df_authors.sort_values(by='Reviews',ascending=False)\r\n",
    "top_5_nonfiction_df3_authors.reset_index(drop=True)"
   ]
  },
  {
   "cell_type": "markdown",
   "metadata": {
    "id": "4JUC6WfNdx7C"
   },
   "source": [
    "## Inferences and Conclusion\n",
    "\n",
    "**TODO** - We have observed dataset Bestseller books of all time where we observed the top sellings authors, top selling books, top rated books, top reviewed books, and favotite genres of the readers."
   ]
  },
  {
   "cell_type": "code",
   "execution_count": 204,
   "metadata": {
    "executionInfo": {
     "elapsed": 1947,
     "status": "ok",
     "timestamp": 1607766928035,
     "user": {
      "displayName": "Tanvi Patel",
      "photoUrl": "https://lh3.googleusercontent.com/a-/AOh14GhEzOH8u0twqYzmOWwhgOGzrnWvaw78WUL_P8mx=s64",
      "userId": "05270161629470731830"
     },
     "user_tz": -330
    },
    "id": "LmAjFONxdx7C"
   },
   "outputs": [],
   "source": [
    "import jovian"
   ]
  },
  {
   "cell_type": "code",
   "execution_count": 205,
   "metadata": {
    "colab": {
     "base_uri": "https://localhost:8080/",
     "height": 107
    },
    "executionInfo": {
     "elapsed": 5525,
     "status": "ok",
     "timestamp": 1607766935626,
     "user": {
      "displayName": "Tanvi Patel",
      "photoUrl": "https://lh3.googleusercontent.com/a-/AOh14GhEzOH8u0twqYzmOWwhgOGzrnWvaw78WUL_P8mx=s64",
      "userId": "05270161629470731830"
     },
     "user_tz": -330
    },
    "id": "HQLji-WUdx7C",
    "outputId": "808576d2-1955-46a7-e40c-437f14a32a8c"
   },
   "outputs": [
    {
     "name": "stdout",
     "output_type": "stream",
     "text": [
      "[jovian] Detected Colab notebook...\u001b[0m\n",
      "[jovian] Uploading colab notebook to Jovian...\u001b[0m\n",
      "[jovian] Capturing environment..\u001b[0m\n",
      "[jovian] Committed successfully! https://jovian.ai/tanu1007/zerotopandas-course-project-starter\u001b[0m\n"
     ]
    },
    {
     "data": {
      "application/vnd.google.colaboratory.intrinsic+json": {
       "type": "string"
      },
      "text/plain": [
       "'https://jovian.ai/tanu1007/zerotopandas-course-project-starter'"
      ]
     },
     "execution_count": 205,
     "metadata": {
      "tags": []
     },
     "output_type": "execute_result"
    }
   ],
   "source": [
    "jovian.commit(project=project_name)"
   ]
  },
  {
   "cell_type": "markdown",
   "metadata": {
    "id": "T5kMMl2Ndx7C"
   },
   "source": [
    "## References and Future Work\n",
    "\n",
    "**TODO** - Write some explanation here: ideas for future projects using this dataset, and links to resources you found useful."
   ]
  },
  {
   "cell_type": "code",
   "execution_count": 206,
   "metadata": {
    "executionInfo": {
     "elapsed": 1642,
     "status": "ok",
     "timestamp": 1607766973798,
     "user": {
      "displayName": "Tanvi Patel",
      "photoUrl": "https://lh3.googleusercontent.com/a-/AOh14GhEzOH8u0twqYzmOWwhgOGzrnWvaw78WUL_P8mx=s64",
      "userId": "05270161629470731830"
     },
     "user_tz": -330
    },
    "id": "5pDudjH7dx7C"
   },
   "outputs": [],
   "source": [
    "import jovian"
   ]
  },
  {
   "cell_type": "code",
   "execution_count": 207,
   "metadata": {
    "colab": {
     "base_uri": "https://localhost:8080/",
     "height": 107
    },
    "executionInfo": {
     "elapsed": 5095,
     "status": "ok",
     "timestamp": 1607766980324,
     "user": {
      "displayName": "Tanvi Patel",
      "photoUrl": "https://lh3.googleusercontent.com/a-/AOh14GhEzOH8u0twqYzmOWwhgOGzrnWvaw78WUL_P8mx=s64",
      "userId": "05270161629470731830"
     },
     "user_tz": -330
    },
    "id": "-B0ChBBtdx7D",
    "outputId": "d103c072-12f8-456b-c578-1a216aa62b74",
    "scrolled": true
   },
   "outputs": [
    {
     "name": "stdout",
     "output_type": "stream",
     "text": [
      "[jovian] Detected Colab notebook...\u001b[0m\n",
      "[jovian] Uploading colab notebook to Jovian...\u001b[0m\n",
      "[jovian] Capturing environment..\u001b[0m\n",
      "[jovian] Committed successfully! https://jovian.ai/tanu1007/zerotopandas-course-project-starter\u001b[0m\n"
     ]
    },
    {
     "data": {
      "application/vnd.google.colaboratory.intrinsic+json": {
       "type": "string"
      },
      "text/plain": [
       "'https://jovian.ai/tanu1007/zerotopandas-course-project-starter'"
      ]
     },
     "execution_count": 207,
     "metadata": {
      "tags": []
     },
     "output_type": "execute_result"
    }
   ],
   "source": [
    "jovian.commit(project=project_name)"
   ]
  }
 ],
 "metadata": {
  "colab": {
   "collapsed_sections": [],
   "name": "zerotopandas-course-project.ipynb",
   "provenance": [],
   "toc_visible": true
  },
  "language_info": {
   "codemirror_mode": {
    "name": "ipython",
    "version": 3
   },
   "file_extension": ".py",
   "mimetype": "text/x-python",
   "name": "python",
   "nbconvert_exporter": "python",
   "pygments_lexer": "ipython3",
   "version": "3.8.5"
  }
 },
 "nbformat": 4,
 "nbformat_minor": 0
}