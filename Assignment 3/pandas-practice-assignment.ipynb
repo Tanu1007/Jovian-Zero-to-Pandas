{
 "cells": [
  {
   "cell_type": "markdown",
   "metadata": {
    "id": "GYE4hXqAWa0z"
   },
   "source": [
    "# Assignment 3 - Pandas Data Analysis Practice\n",
    "\n",
    "*This assignment is a part of the course [\"Data Analysis with Python: Zero to Pandas\"](https://jovian.ml/learn/data-analysis-with-python-zero-to-pandas)*\n",
    "\n",
    "In this assignment, you'll get to practice some of the concepts and skills covered this tutorial: https://jovian.ml/aakashns/python-pandas-data-analysis\n",
    "\n",
    "As you go through this notebook, you will find a **???** in certain places. To complete this assignment, you must replace all the **???** with appropriate values, expressions or statements to ensure that the notebook runs properly end-to-end. \n",
    "\n",
    "Some things to keep in mind:\n",
    "\n",
    "* Make sure to run all the code cells, otherwise you may get errors like `NameError` for undefined variables.\n",
    "* Do not change variable names, delete cells or disturb other existing code. It may cause problems during evaluation.\n",
    "* In some cases, you may need to add some code cells or new statements before or after the line of code containing the **???**. \n",
    "* Since you'll be using a temporary online service for code execution, save your work by running `jovian.commit` at regular intervals.\n",
    "* Questions marked **(Optional)** will not be considered for evaluation, and can be skipped. They are for your learning.\n",
    "\n",
    "You can make submissions on this page: https://jovian.ml/learn/data-analysis-with-python-zero-to-pandas/assignment/assignment-3-pandas-practice\n",
    "\n",
    "If you are stuck, you can ask for help on the community forum: https://jovian.ml/forum/t/assignment-3-pandas-practice/11225/3 . You can get help with errors or ask for hints, describe your approach in simple words, link to documentation, but **please don't ask for or share the full working answer code** on the forum.\n",
    "\n",
    "\n",
    "## How to run the code and save your work\n",
    "\n",
    "The recommended way to run this notebook is to click the \"Run\" button at the top of this page, and select \"Run on Binder\". This will run the notebook on [mybinder.org](https://mybinder.org), a free online service for running Jupyter notebooks. \n",
    "\n",
    "Before staring the assignment, let's save a snapshot of the assignment to your Jovian.ml profile, so that you can access it later, and continue your work."
   ]
  },
  {
   "cell_type": "code",
   "execution_count": 13,
   "metadata": {
    "executionInfo": {
     "elapsed": 1379,
     "status": "ok",
     "timestamp": 1607548718021,
     "user": {
      "displayName": "Tanvi Patel",
      "photoUrl": "https://lh3.googleusercontent.com/a-/AOh14GhEzOH8u0twqYzmOWwhgOGzrnWvaw78WUL_P8mx=s64",
      "userId": "05270161629470731830"
     },
     "user_tz": -330
    },
    "id": "sMrQ9Ml8Wa0z"
   },
   "outputs": [],
   "source": [
    "import jovian"
   ]
  },
  {
   "cell_type": "code",
   "execution_count": 14,
   "metadata": {
    "colab": {
     "base_uri": "https://localhost:8080/",
     "height": 106
    },
    "executionInfo": {
     "elapsed": 3831,
     "status": "ok",
     "timestamp": 1607548724116,
     "user": {
      "displayName": "Tanvi Patel",
      "photoUrl": "https://lh3.googleusercontent.com/a-/AOh14GhEzOH8u0twqYzmOWwhgOGzrnWvaw78WUL_P8mx=s64",
      "userId": "05270161629470731830"
     },
     "user_tz": -330
    },
    "id": "OGW7DiV6Wa00",
    "outputId": "ecdef08b-85e7-4294-8f7e-61484a1799e0"
   },
   "outputs": [
    {
     "name": "stdout",
     "output_type": "stream",
     "text": [
      "[jovian] Detected Colab notebook...\u001b[0m\n",
      "[jovian] Uploading colab notebook to Jovian...\u001b[0m\n",
      "[jovian] Committed successfully! https://jovian.ai/tanu1007/pandas-practice-assignment\u001b[0m\n"
     ]
    },
    {
     "data": {
      "application/vnd.google.colaboratory.intrinsic+json": {
       "type": "string"
      },
      "text/plain": [
       "'https://jovian.ai/tanu1007/pandas-practice-assignment'"
      ]
     },
     "execution_count": 14,
     "metadata": {
      "tags": []
     },
     "output_type": "execute_result"
    }
   ],
   "source": [
    "jovian.commit(project='pandas-practice-assignment', environment=None)"
   ]
  },
  {
   "cell_type": "code",
   "execution_count": 4,
   "metadata": {
    "colab": {
     "base_uri": "https://localhost:8080/",
     "height": 323
    },
    "executionInfo": {
     "elapsed": 11522,
     "status": "ok",
     "timestamp": 1607548570833,
     "user": {
      "displayName": "Tanvi Patel",
      "photoUrl": "https://lh3.googleusercontent.com/a-/AOh14GhEzOH8u0twqYzmOWwhgOGzrnWvaw78WUL_P8mx=s64",
      "userId": "05270161629470731830"
     },
     "user_tz": -330
    },
    "id": "5vuLLQ2nWa00",
    "outputId": "2172da3c-45a7-4df5-ebaa-28762b967a5f"
   },
   "outputs": [
    {
     "name": "stdout",
     "output_type": "stream",
     "text": [
      "Collecting pandas\n",
      "\u001b[?25l  Downloading https://files.pythonhosted.org/packages/c3/e2/00cacecafbab071c787019f00ad84ca3185952f6bb9bca9550ed83870d4d/pandas-1.1.5-cp36-cp36m-manylinux1_x86_64.whl (9.5MB)\n",
      "\u001b[K     |████████████████████████████████| 9.5MB 8.7MB/s \n",
      "\u001b[?25hRequirement already satisfied, skipping upgrade: python-dateutil>=2.7.3 in /usr/local/lib/python3.6/dist-packages (from pandas) (2.8.1)\n",
      "Requirement already satisfied, skipping upgrade: pytz>=2017.2 in /usr/local/lib/python3.6/dist-packages (from pandas) (2018.9)\n",
      "Requirement already satisfied, skipping upgrade: numpy>=1.15.4 in /usr/local/lib/python3.6/dist-packages (from pandas) (1.18.5)\n",
      "Requirement already satisfied, skipping upgrade: six>=1.5 in /usr/local/lib/python3.6/dist-packages (from python-dateutil>=2.7.3->pandas) (1.15.0)\n",
      "Installing collected packages: pandas\n",
      "  Found existing installation: pandas 1.1.4\n",
      "    Uninstalling pandas-1.1.4:\n",
      "      Successfully uninstalled pandas-1.1.4\n",
      "Successfully installed pandas-1.1.5\n"
     ]
    },
    {
     "data": {
      "application/vnd.colab-display-data+json": {
       "pip_warning": {
        "packages": [
         "pandas"
        ]
       }
      }
     },
     "metadata": {
      "tags": []
     },
     "output_type": "display_data"
    }
   ],
   "source": [
    "# Run the next line to install Pandas\n",
    "!pip install pandas --upgrade"
   ]
  },
  {
   "cell_type": "code",
   "execution_count": 1,
   "metadata": {
    "executionInfo": {
     "elapsed": 1194,
     "status": "ok",
     "timestamp": 1607548588446,
     "user": {
      "displayName": "Tanvi Patel",
      "photoUrl": "https://lh3.googleusercontent.com/a-/AOh14GhEzOH8u0twqYzmOWwhgOGzrnWvaw78WUL_P8mx=s64",
      "userId": "05270161629470731830"
     },
     "user_tz": -330
    },
    "id": "gDmGhmaBWa00"
   },
   "outputs": [],
   "source": [
    "import pandas as pd"
   ]
  },
  {
   "cell_type": "markdown",
   "metadata": {
    "id": "Xa_1IuEoWa00"
   },
   "source": [
    "In this assignment, we're going to analyze an operate on data from a CSV file. Let's begin by downloading the CSV file."
   ]
  },
  {
   "cell_type": "code",
   "execution_count": 2,
   "metadata": {
    "colab": {
     "base_uri": "https://localhost:8080/"
    },
    "executionInfo": {
     "elapsed": 2362,
     "status": "ok",
     "timestamp": 1607548594704,
     "user": {
      "displayName": "Tanvi Patel",
      "photoUrl": "https://lh3.googleusercontent.com/a-/AOh14GhEzOH8u0twqYzmOWwhgOGzrnWvaw78WUL_P8mx=s64",
      "userId": "05270161629470731830"
     },
     "user_tz": -330
    },
    "id": "5fbkn6pjWa01",
    "outputId": "ee79867d-b61d-40e7-93f4-dfc37085feec"
   },
   "outputs": [
    {
     "data": {
      "text/plain": [
       "('countries.csv', <http.client.HTTPMessage at 0x7fc39dda52e8>)"
      ]
     },
     "execution_count": 2,
     "metadata": {
      "tags": []
     },
     "output_type": "execute_result"
    }
   ],
   "source": [
    "from urllib.request import urlretrieve\n",
    "\n",
    "urlretrieve('https://hub.jovian.ml/wp-content/uploads/2020/09/countries.csv', \n",
    "            'countries.csv')"
   ]
  },
  {
   "cell_type": "markdown",
   "metadata": {
    "id": "M1k5hAj_Wa01"
   },
   "source": [
    "Let's load the data from the CSV file into a Pandas data frame."
   ]
  },
  {
   "cell_type": "code",
   "execution_count": 3,
   "metadata": {
    "executionInfo": {
     "elapsed": 1470,
     "status": "ok",
     "timestamp": 1607548603979,
     "user": {
      "displayName": "Tanvi Patel",
      "photoUrl": "https://lh3.googleusercontent.com/a-/AOh14GhEzOH8u0twqYzmOWwhgOGzrnWvaw78WUL_P8mx=s64",
      "userId": "05270161629470731830"
     },
     "user_tz": -330
    },
    "id": "lToxa71kWa01"
   },
   "outputs": [],
   "source": [
    "countries_df = pd.read_csv('countries.csv')"
   ]
  },
  {
   "cell_type": "code",
   "execution_count": 4,
   "metadata": {
    "colab": {
     "base_uri": "https://localhost:8080/",
     "height": 438
    },
    "executionInfo": {
     "elapsed": 1462,
     "status": "ok",
     "timestamp": 1607548608793,
     "user": {
      "displayName": "Tanvi Patel",
      "photoUrl": "https://lh3.googleusercontent.com/a-/AOh14GhEzOH8u0twqYzmOWwhgOGzrnWvaw78WUL_P8mx=s64",
      "userId": "05270161629470731830"
     },
     "user_tz": -330
    },
    "id": "QyoVA1tDWa01",
    "outputId": "6f2d976a-8166-4527-a0c4-db2619f14f93"
   },
   "outputs": [
    {
     "data": {
      "text/html": [
       "<div>\n",
       "<style scoped>\n",
       "    .dataframe tbody tr th:only-of-type {\n",
       "        vertical-align: middle;\n",
       "    }\n",
       "\n",
       "    .dataframe tbody tr th {\n",
       "        vertical-align: top;\n",
       "    }\n",
       "\n",
       "    .dataframe thead th {\n",
       "        text-align: right;\n",
       "    }\n",
       "</style>\n",
       "<table border=\"1\" class=\"dataframe\">\n",
       "  <thead>\n",
       "    <tr style=\"text-align: right;\">\n",
       "      <th></th>\n",
       "      <th>location</th>\n",
       "      <th>continent</th>\n",
       "      <th>population</th>\n",
       "      <th>life_expectancy</th>\n",
       "      <th>hospital_beds_per_thousand</th>\n",
       "      <th>gdp_per_capita</th>\n",
       "    </tr>\n",
       "  </thead>\n",
       "  <tbody>\n",
       "    <tr>\n",
       "      <th>0</th>\n",
       "      <td>Afghanistan</td>\n",
       "      <td>Asia</td>\n",
       "      <td>38928341.0</td>\n",
       "      <td>64.83</td>\n",
       "      <td>0.50</td>\n",
       "      <td>1803.987</td>\n",
       "    </tr>\n",
       "    <tr>\n",
       "      <th>1</th>\n",
       "      <td>Albania</td>\n",
       "      <td>Europe</td>\n",
       "      <td>2877800.0</td>\n",
       "      <td>78.57</td>\n",
       "      <td>2.89</td>\n",
       "      <td>11803.431</td>\n",
       "    </tr>\n",
       "    <tr>\n",
       "      <th>2</th>\n",
       "      <td>Algeria</td>\n",
       "      <td>Africa</td>\n",
       "      <td>43851043.0</td>\n",
       "      <td>76.88</td>\n",
       "      <td>1.90</td>\n",
       "      <td>13913.839</td>\n",
       "    </tr>\n",
       "    <tr>\n",
       "      <th>3</th>\n",
       "      <td>Andorra</td>\n",
       "      <td>Europe</td>\n",
       "      <td>77265.0</td>\n",
       "      <td>83.73</td>\n",
       "      <td>NaN</td>\n",
       "      <td>NaN</td>\n",
       "    </tr>\n",
       "    <tr>\n",
       "      <th>4</th>\n",
       "      <td>Angola</td>\n",
       "      <td>Africa</td>\n",
       "      <td>32866268.0</td>\n",
       "      <td>61.15</td>\n",
       "      <td>NaN</td>\n",
       "      <td>5819.495</td>\n",
       "    </tr>\n",
       "    <tr>\n",
       "      <th>...</th>\n",
       "      <td>...</td>\n",
       "      <td>...</td>\n",
       "      <td>...</td>\n",
       "      <td>...</td>\n",
       "      <td>...</td>\n",
       "      <td>...</td>\n",
       "    </tr>\n",
       "    <tr>\n",
       "      <th>205</th>\n",
       "      <td>Vietnam</td>\n",
       "      <td>Asia</td>\n",
       "      <td>97338583.0</td>\n",
       "      <td>75.40</td>\n",
       "      <td>2.60</td>\n",
       "      <td>6171.884</td>\n",
       "    </tr>\n",
       "    <tr>\n",
       "      <th>206</th>\n",
       "      <td>Western Sahara</td>\n",
       "      <td>Africa</td>\n",
       "      <td>597330.0</td>\n",
       "      <td>70.26</td>\n",
       "      <td>NaN</td>\n",
       "      <td>NaN</td>\n",
       "    </tr>\n",
       "    <tr>\n",
       "      <th>207</th>\n",
       "      <td>Yemen</td>\n",
       "      <td>Asia</td>\n",
       "      <td>29825968.0</td>\n",
       "      <td>66.12</td>\n",
       "      <td>0.70</td>\n",
       "      <td>1479.147</td>\n",
       "    </tr>\n",
       "    <tr>\n",
       "      <th>208</th>\n",
       "      <td>Zambia</td>\n",
       "      <td>Africa</td>\n",
       "      <td>18383956.0</td>\n",
       "      <td>63.89</td>\n",
       "      <td>2.00</td>\n",
       "      <td>3689.251</td>\n",
       "    </tr>\n",
       "    <tr>\n",
       "      <th>209</th>\n",
       "      <td>Zimbabwe</td>\n",
       "      <td>Africa</td>\n",
       "      <td>14862927.0</td>\n",
       "      <td>61.49</td>\n",
       "      <td>1.70</td>\n",
       "      <td>1899.775</td>\n",
       "    </tr>\n",
       "  </tbody>\n",
       "</table>\n",
       "<p>210 rows × 6 columns</p>\n",
       "</div>"
      ],
      "text/plain": [
       "           location continent  ...  hospital_beds_per_thousand  gdp_per_capita\n",
       "0       Afghanistan      Asia  ...                        0.50        1803.987\n",
       "1           Albania    Europe  ...                        2.89       11803.431\n",
       "2           Algeria    Africa  ...                        1.90       13913.839\n",
       "3           Andorra    Europe  ...                         NaN             NaN\n",
       "4            Angola    Africa  ...                         NaN        5819.495\n",
       "..              ...       ...  ...                         ...             ...\n",
       "205         Vietnam      Asia  ...                        2.60        6171.884\n",
       "206  Western Sahara    Africa  ...                         NaN             NaN\n",
       "207           Yemen      Asia  ...                        0.70        1479.147\n",
       "208          Zambia    Africa  ...                        2.00        3689.251\n",
       "209        Zimbabwe    Africa  ...                        1.70        1899.775\n",
       "\n",
       "[210 rows x 6 columns]"
      ]
     },
     "execution_count": 4,
     "metadata": {
      "tags": []
     },
     "output_type": "execute_result"
    }
   ],
   "source": [
    "countries_df"
   ]
  },
  {
   "cell_type": "markdown",
   "metadata": {
    "id": "HtbCM5-yWa01"
   },
   "source": [
    "**Q: How many countries does the dataframe contain?**\n",
    "\n",
    "Hint: Use the `.shape` method."
   ]
  },
  {
   "cell_type": "code",
   "execution_count": 7,
   "metadata": {
    "executionInfo": {
     "elapsed": 1385,
     "status": "ok",
     "timestamp": 1607548670220,
     "user": {
      "displayName": "Tanvi Patel",
      "photoUrl": "https://lh3.googleusercontent.com/a-/AOh14GhEzOH8u0twqYzmOWwhgOGzrnWvaw78WUL_P8mx=s64",
      "userId": "05270161629470731830"
     },
     "user_tz": -330
    },
    "id": "Z54Ds_wMWa02"
   },
   "outputs": [],
   "source": [
    "num_countries = countries_df.location.shape"
   ]
  },
  {
   "cell_type": "code",
   "execution_count": 8,
   "metadata": {
    "colab": {
     "base_uri": "https://localhost:8080/"
    },
    "executionInfo": {
     "elapsed": 1310,
     "status": "ok",
     "timestamp": 1607548674686,
     "user": {
      "displayName": "Tanvi Patel",
      "photoUrl": "https://lh3.googleusercontent.com/a-/AOh14GhEzOH8u0twqYzmOWwhgOGzrnWvaw78WUL_P8mx=s64",
      "userId": "05270161629470731830"
     },
     "user_tz": -330
    },
    "id": "piicJAGPWa02",
    "outputId": "6df06932-b314-43f4-f583-8e6b98744fc5"
   },
   "outputs": [
    {
     "name": "stdout",
     "output_type": "stream",
     "text": [
      "There are (210,) countries in the dataset\n"
     ]
    }
   ],
   "source": [
    "print('There are {} countries in the dataset'.format(num_countries))"
   ]
  },
  {
   "cell_type": "code",
   "execution_count": 15,
   "metadata": {
    "colab": {
     "base_uri": "https://localhost:8080/",
     "height": 106
    },
    "executionInfo": {
     "elapsed": 3989,
     "status": "ok",
     "timestamp": 1607548735640,
     "user": {
      "displayName": "Tanvi Patel",
      "photoUrl": "https://lh3.googleusercontent.com/a-/AOh14GhEzOH8u0twqYzmOWwhgOGzrnWvaw78WUL_P8mx=s64",
      "userId": "05270161629470731830"
     },
     "user_tz": -330
    },
    "id": "LkjNEydJWa02",
    "outputId": "1a96355c-0b70-4830-bdbe-56b4f0476711"
   },
   "outputs": [
    {
     "name": "stdout",
     "output_type": "stream",
     "text": [
      "[jovian] Detected Colab notebook...\u001b[0m\n",
      "[jovian] Uploading colab notebook to Jovian...\u001b[0m\n",
      "[jovian] Committed successfully! https://jovian.ai/tanu1007/pandas-practice-assignment\u001b[0m\n"
     ]
    },
    {
     "data": {
      "application/vnd.google.colaboratory.intrinsic+json": {
       "type": "string"
      },
      "text/plain": [
       "'https://jovian.ai/tanu1007/pandas-practice-assignment'"
      ]
     },
     "execution_count": 15,
     "metadata": {
      "tags": []
     },
     "output_type": "execute_result"
    }
   ],
   "source": [
    "jovian.commit(project='pandas-practice-assignment', environment=None)"
   ]
  },
  {
   "cell_type": "markdown",
   "metadata": {
    "id": "8R5luQXoWa02"
   },
   "source": [
    "**Q: Retrieve a list of continents from the dataframe?**\n",
    "\n",
    "*Hint: Use the `.unique` method of a series.*"
   ]
  },
  {
   "cell_type": "code",
   "execution_count": 16,
   "metadata": {
    "executionInfo": {
     "elapsed": 1496,
     "status": "ok",
     "timestamp": 1607548775834,
     "user": {
      "displayName": "Tanvi Patel",
      "photoUrl": "https://lh3.googleusercontent.com/a-/AOh14GhEzOH8u0twqYzmOWwhgOGzrnWvaw78WUL_P8mx=s64",
      "userId": "05270161629470731830"
     },
     "user_tz": -330
    },
    "id": "JYnPigRbWa02"
   },
   "outputs": [],
   "source": [
    "continents = countries_df.continent.unique()"
   ]
  },
  {
   "cell_type": "code",
   "execution_count": 17,
   "metadata": {
    "colab": {
     "base_uri": "https://localhost:8080/"
    },
    "executionInfo": {
     "elapsed": 1137,
     "status": "ok",
     "timestamp": 1607548778704,
     "user": {
      "displayName": "Tanvi Patel",
      "photoUrl": "https://lh3.googleusercontent.com/a-/AOh14GhEzOH8u0twqYzmOWwhgOGzrnWvaw78WUL_P8mx=s64",
      "userId": "05270161629470731830"
     },
     "user_tz": -330
    },
    "id": "iogOO9tZWa03",
    "outputId": "eb2330a6-8509-4eaa-dfa5-a804c85f7c12"
   },
   "outputs": [
    {
     "data": {
      "text/plain": [
       "array(['Asia', 'Europe', 'Africa', 'North America', 'South America',\n",
       "       'Oceania'], dtype=object)"
      ]
     },
     "execution_count": 17,
     "metadata": {
      "tags": []
     },
     "output_type": "execute_result"
    }
   ],
   "source": [
    "continents"
   ]
  },
  {
   "cell_type": "code",
   "execution_count": 18,
   "metadata": {
    "colab": {
     "base_uri": "https://localhost:8080/",
     "height": 106
    },
    "executionInfo": {
     "elapsed": 3991,
     "status": "ok",
     "timestamp": 1607548789251,
     "user": {
      "displayName": "Tanvi Patel",
      "photoUrl": "https://lh3.googleusercontent.com/a-/AOh14GhEzOH8u0twqYzmOWwhgOGzrnWvaw78WUL_P8mx=s64",
      "userId": "05270161629470731830"
     },
     "user_tz": -330
    },
    "id": "_z4L4a4YWa03",
    "outputId": "293ecef5-b413-4deb-fde3-3d82c13b7358"
   },
   "outputs": [
    {
     "name": "stdout",
     "output_type": "stream",
     "text": [
      "[jovian] Detected Colab notebook...\u001b[0m\n",
      "[jovian] Uploading colab notebook to Jovian...\u001b[0m\n",
      "[jovian] Committed successfully! https://jovian.ai/tanu1007/pandas-practice-assignment\u001b[0m\n"
     ]
    },
    {
     "data": {
      "application/vnd.google.colaboratory.intrinsic+json": {
       "type": "string"
      },
      "text/plain": [
       "'https://jovian.ai/tanu1007/pandas-practice-assignment'"
      ]
     },
     "execution_count": 18,
     "metadata": {
      "tags": []
     },
     "output_type": "execute_result"
    }
   ],
   "source": [
    "jovian.commit(project='pandas-practice-assignment', environment=None)"
   ]
  },
  {
   "cell_type": "markdown",
   "metadata": {
    "id": "QPltVetxWa03"
   },
   "source": [
    "**Q: What is the total population of all the countries listed in this dataset?**"
   ]
  },
  {
   "cell_type": "code",
   "execution_count": 19,
   "metadata": {
    "executionInfo": {
     "elapsed": 1471,
     "status": "ok",
     "timestamp": 1607548846216,
     "user": {
      "displayName": "Tanvi Patel",
      "photoUrl": "https://lh3.googleusercontent.com/a-/AOh14GhEzOH8u0twqYzmOWwhgOGzrnWvaw78WUL_P8mx=s64",
      "userId": "05270161629470731830"
     },
     "user_tz": -330
    },
    "id": "oIUl5do1Wa03"
   },
   "outputs": [],
   "source": [
    "total_population = countries_df.population.sum()"
   ]
  },
  {
   "cell_type": "code",
   "execution_count": 20,
   "metadata": {
    "colab": {
     "base_uri": "https://localhost:8080/"
    },
    "executionInfo": {
     "elapsed": 1315,
     "status": "ok",
     "timestamp": 1607548849096,
     "user": {
      "displayName": "Tanvi Patel",
      "photoUrl": "https://lh3.googleusercontent.com/a-/AOh14GhEzOH8u0twqYzmOWwhgOGzrnWvaw78WUL_P8mx=s64",
      "userId": "05270161629470731830"
     },
     "user_tz": -330
    },
    "id": "18iCky2hWa03",
    "outputId": "53833655-d586-4403-991e-31ce87b2a188"
   },
   "outputs": [
    {
     "name": "stdout",
     "output_type": "stream",
     "text": [
      "The total population is 7757980095.\n"
     ]
    }
   ],
   "source": [
    "print('The total population is {}.'.format(int(total_population)))"
   ]
  },
  {
   "cell_type": "code",
   "execution_count": 21,
   "metadata": {
    "colab": {
     "base_uri": "https://localhost:8080/",
     "height": 106
    },
    "executionInfo": {
     "elapsed": 3825,
     "status": "ok",
     "timestamp": 1607548854988,
     "user": {
      "displayName": "Tanvi Patel",
      "photoUrl": "https://lh3.googleusercontent.com/a-/AOh14GhEzOH8u0twqYzmOWwhgOGzrnWvaw78WUL_P8mx=s64",
      "userId": "05270161629470731830"
     },
     "user_tz": -330
    },
    "id": "Bx1TnxjnWa03",
    "outputId": "263cdfc4-77ec-4aea-a69f-7695c7cf9311"
   },
   "outputs": [
    {
     "name": "stdout",
     "output_type": "stream",
     "text": [
      "[jovian] Detected Colab notebook...\u001b[0m\n",
      "[jovian] Uploading colab notebook to Jovian...\u001b[0m\n",
      "[jovian] Committed successfully! https://jovian.ai/tanu1007/pandas-practice-assignment\u001b[0m\n"
     ]
    },
    {
     "data": {
      "application/vnd.google.colaboratory.intrinsic+json": {
       "type": "string"
      },
      "text/plain": [
       "'https://jovian.ai/tanu1007/pandas-practice-assignment'"
      ]
     },
     "execution_count": 21,
     "metadata": {
      "tags": []
     },
     "output_type": "execute_result"
    }
   ],
   "source": [
    "jovian.commit(project='pandas-practice-assignment', environment=None)"
   ]
  },
  {
   "cell_type": "markdown",
   "metadata": {
    "id": "M13ISFlWWa04"
   },
   "source": [
    "**Q: (Optional) What is the overall life expectancy across in the world?**\n",
    "\n",
    "*Hint: You'll need to take a weighted average of life expectancy using populations as weights.*"
   ]
  },
  {
   "cell_type": "code",
   "execution_count": 29,
   "metadata": {
    "colab": {
     "base_uri": "https://localhost:8080/"
    },
    "executionInfo": {
     "elapsed": 1165,
     "status": "ok",
     "timestamp": 1607549193069,
     "user": {
      "displayName": "Tanvi Patel",
      "photoUrl": "https://lh3.googleusercontent.com/a-/AOh14GhEzOH8u0twqYzmOWwhgOGzrnWvaw78WUL_P8mx=s64",
      "userId": "05270161629470731830"
     },
     "user_tz": -330
    },
    "id": "JJl2hq2VWa04",
    "outputId": "f671e429-3f45-43b9-edd8-14a975b86c9a"
   },
   "outputs": [
    {
     "name": "stdout",
     "output_type": "stream",
     "text": [
      "73.52985507246376\n"
     ]
    }
   ],
   "source": [
    "total_life = countries_df.life_expectancy.mean()\r\n",
    "print(total_life)\r\n"
   ]
  },
  {
   "cell_type": "code",
   "execution_count": 30,
   "metadata": {
    "colab": {
     "base_uri": "https://localhost:8080/",
     "height": 106
    },
    "executionInfo": {
     "elapsed": 3735,
     "status": "ok",
     "timestamp": 1607549208448,
     "user": {
      "displayName": "Tanvi Patel",
      "photoUrl": "https://lh3.googleusercontent.com/a-/AOh14GhEzOH8u0twqYzmOWwhgOGzrnWvaw78WUL_P8mx=s64",
      "userId": "05270161629470731830"
     },
     "user_tz": -330
    },
    "id": "_xe2K1eqWa04",
    "outputId": "9a9dce0f-15e5-4e5e-f887-769c049f81c0"
   },
   "outputs": [
    {
     "name": "stdout",
     "output_type": "stream",
     "text": [
      "[jovian] Detected Colab notebook...\u001b[0m\n",
      "[jovian] Uploading colab notebook to Jovian...\u001b[0m\n",
      "[jovian] Committed successfully! https://jovian.ai/tanu1007/pandas-practice-assignment\u001b[0m\n"
     ]
    },
    {
     "data": {
      "application/vnd.google.colaboratory.intrinsic+json": {
       "type": "string"
      },
      "text/plain": [
       "'https://jovian.ai/tanu1007/pandas-practice-assignment'"
      ]
     },
     "execution_count": 30,
     "metadata": {
      "tags": []
     },
     "output_type": "execute_result"
    }
   ],
   "source": [
    "jovian.commit(project='pandas-practice-assignment', environment=None)"
   ]
  },
  {
   "cell_type": "markdown",
   "metadata": {
    "id": "OzV7vMMdWa04"
   },
   "source": [
    "**Q: Create a dataframe containing 10 countries with the highest population.**\n",
    "\n",
    "*Hint: Chain the `sort_values` and `head` methods.*"
   ]
  },
  {
   "cell_type": "code",
   "execution_count": 31,
   "metadata": {
    "executionInfo": {
     "elapsed": 1422,
     "status": "ok",
     "timestamp": 1607549245573,
     "user": {
      "displayName": "Tanvi Patel",
      "photoUrl": "https://lh3.googleusercontent.com/a-/AOh14GhEzOH8u0twqYzmOWwhgOGzrnWvaw78WUL_P8mx=s64",
      "userId": "05270161629470731830"
     },
     "user_tz": -330
    },
    "id": "IfLdeTmZWa04"
   },
   "outputs": [],
   "source": [
    "most_populous_df = countries_df.sort_values('population', ascending=False).head(10)"
   ]
  },
  {
   "cell_type": "code",
   "execution_count": 32,
   "metadata": {
    "colab": {
     "base_uri": "https://localhost:8080/",
     "height": 414
    },
    "executionInfo": {
     "elapsed": 1188,
     "status": "ok",
     "timestamp": 1607549247690,
     "user": {
      "displayName": "Tanvi Patel",
      "photoUrl": "https://lh3.googleusercontent.com/a-/AOh14GhEzOH8u0twqYzmOWwhgOGzrnWvaw78WUL_P8mx=s64",
      "userId": "05270161629470731830"
     },
     "user_tz": -330
    },
    "id": "KqNVY01VWa04",
    "outputId": "c66cb6cd-2306-4fce-aafb-9c57fd8471b2"
   },
   "outputs": [
    {
     "data": {
      "text/html": [
       "<div>\n",
       "<style scoped>\n",
       "    .dataframe tbody tr th:only-of-type {\n",
       "        vertical-align: middle;\n",
       "    }\n",
       "\n",
       "    .dataframe tbody tr th {\n",
       "        vertical-align: top;\n",
       "    }\n",
       "\n",
       "    .dataframe thead th {\n",
       "        text-align: right;\n",
       "    }\n",
       "</style>\n",
       "<table border=\"1\" class=\"dataframe\">\n",
       "  <thead>\n",
       "    <tr style=\"text-align: right;\">\n",
       "      <th></th>\n",
       "      <th>location</th>\n",
       "      <th>continent</th>\n",
       "      <th>population</th>\n",
       "      <th>life_expectancy</th>\n",
       "      <th>hospital_beds_per_thousand</th>\n",
       "      <th>gdp_per_capita</th>\n",
       "    </tr>\n",
       "  </thead>\n",
       "  <tbody>\n",
       "    <tr>\n",
       "      <th>41</th>\n",
       "      <td>China</td>\n",
       "      <td>Asia</td>\n",
       "      <td>1.439324e+09</td>\n",
       "      <td>76.91</td>\n",
       "      <td>4.34</td>\n",
       "      <td>15308.712</td>\n",
       "    </tr>\n",
       "    <tr>\n",
       "      <th>90</th>\n",
       "      <td>India</td>\n",
       "      <td>Asia</td>\n",
       "      <td>1.380004e+09</td>\n",
       "      <td>69.66</td>\n",
       "      <td>0.53</td>\n",
       "      <td>6426.674</td>\n",
       "    </tr>\n",
       "    <tr>\n",
       "      <th>199</th>\n",
       "      <td>United States</td>\n",
       "      <td>North America</td>\n",
       "      <td>3.310026e+08</td>\n",
       "      <td>78.86</td>\n",
       "      <td>2.77</td>\n",
       "      <td>54225.446</td>\n",
       "    </tr>\n",
       "    <tr>\n",
       "      <th>91</th>\n",
       "      <td>Indonesia</td>\n",
       "      <td>Asia</td>\n",
       "      <td>2.735236e+08</td>\n",
       "      <td>71.72</td>\n",
       "      <td>1.04</td>\n",
       "      <td>11188.744</td>\n",
       "    </tr>\n",
       "    <tr>\n",
       "      <th>145</th>\n",
       "      <td>Pakistan</td>\n",
       "      <td>Asia</td>\n",
       "      <td>2.208923e+08</td>\n",
       "      <td>67.27</td>\n",
       "      <td>0.60</td>\n",
       "      <td>5034.708</td>\n",
       "    </tr>\n",
       "    <tr>\n",
       "      <th>27</th>\n",
       "      <td>Brazil</td>\n",
       "      <td>South America</td>\n",
       "      <td>2.125594e+08</td>\n",
       "      <td>75.88</td>\n",
       "      <td>2.20</td>\n",
       "      <td>14103.452</td>\n",
       "    </tr>\n",
       "    <tr>\n",
       "      <th>141</th>\n",
       "      <td>Nigeria</td>\n",
       "      <td>Africa</td>\n",
       "      <td>2.061396e+08</td>\n",
       "      <td>54.69</td>\n",
       "      <td>NaN</td>\n",
       "      <td>5338.454</td>\n",
       "    </tr>\n",
       "    <tr>\n",
       "      <th>15</th>\n",
       "      <td>Bangladesh</td>\n",
       "      <td>Asia</td>\n",
       "      <td>1.646894e+08</td>\n",
       "      <td>72.59</td>\n",
       "      <td>0.80</td>\n",
       "      <td>3523.984</td>\n",
       "    </tr>\n",
       "    <tr>\n",
       "      <th>157</th>\n",
       "      <td>Russia</td>\n",
       "      <td>Europe</td>\n",
       "      <td>1.459345e+08</td>\n",
       "      <td>72.58</td>\n",
       "      <td>8.05</td>\n",
       "      <td>24765.954</td>\n",
       "    </tr>\n",
       "    <tr>\n",
       "      <th>125</th>\n",
       "      <td>Mexico</td>\n",
       "      <td>North America</td>\n",
       "      <td>1.289328e+08</td>\n",
       "      <td>75.05</td>\n",
       "      <td>1.38</td>\n",
       "      <td>17336.469</td>\n",
       "    </tr>\n",
       "  </tbody>\n",
       "</table>\n",
       "</div>"
      ],
      "text/plain": [
       "          location      continent  ...  hospital_beds_per_thousand  gdp_per_capita\n",
       "41           China           Asia  ...                        4.34       15308.712\n",
       "90           India           Asia  ...                        0.53        6426.674\n",
       "199  United States  North America  ...                        2.77       54225.446\n",
       "91       Indonesia           Asia  ...                        1.04       11188.744\n",
       "145       Pakistan           Asia  ...                        0.60        5034.708\n",
       "27          Brazil  South America  ...                        2.20       14103.452\n",
       "141        Nigeria         Africa  ...                         NaN        5338.454\n",
       "15      Bangladesh           Asia  ...                        0.80        3523.984\n",
       "157         Russia         Europe  ...                        8.05       24765.954\n",
       "125         Mexico  North America  ...                        1.38       17336.469\n",
       "\n",
       "[10 rows x 6 columns]"
      ]
     },
     "execution_count": 32,
     "metadata": {
      "tags": []
     },
     "output_type": "execute_result"
    }
   ],
   "source": [
    "most_populous_df"
   ]
  },
  {
   "cell_type": "code",
   "execution_count": 33,
   "metadata": {
    "colab": {
     "base_uri": "https://localhost:8080/",
     "height": 106
    },
    "executionInfo": {
     "elapsed": 4074,
     "status": "ok",
     "timestamp": 1607549260625,
     "user": {
      "displayName": "Tanvi Patel",
      "photoUrl": "https://lh3.googleusercontent.com/a-/AOh14GhEzOH8u0twqYzmOWwhgOGzrnWvaw78WUL_P8mx=s64",
      "userId": "05270161629470731830"
     },
     "user_tz": -330
    },
    "id": "MrRqEYb4Wa05",
    "outputId": "bfe554d9-8ba5-48d5-caa4-9994faf0023e"
   },
   "outputs": [
    {
     "name": "stdout",
     "output_type": "stream",
     "text": [
      "[jovian] Detected Colab notebook...\u001b[0m\n",
      "[jovian] Uploading colab notebook to Jovian...\u001b[0m\n",
      "[jovian] Committed successfully! https://jovian.ai/tanu1007/pandas-practice-assignment\u001b[0m\n"
     ]
    },
    {
     "data": {
      "application/vnd.google.colaboratory.intrinsic+json": {
       "type": "string"
      },
      "text/plain": [
       "'https://jovian.ai/tanu1007/pandas-practice-assignment'"
      ]
     },
     "execution_count": 33,
     "metadata": {
      "tags": []
     },
     "output_type": "execute_result"
    }
   ],
   "source": [
    "jovian.commit(project='pandas-practice-assignment', environment=None)"
   ]
  },
  {
   "cell_type": "markdown",
   "metadata": {
    "id": "iRVNs50UWa05"
   },
   "source": [
    "**Q: Add a new column in `countries_df` to record the overall GDP per country (product of population & per capita GDP).**\n",
    "\n"
   ]
  },
  {
   "cell_type": "code",
   "execution_count": 34,
   "metadata": {
    "executionInfo": {
     "elapsed": 1749,
     "status": "ok",
     "timestamp": 1607549323977,
     "user": {
      "displayName": "Tanvi Patel",
      "photoUrl": "https://lh3.googleusercontent.com/a-/AOh14GhEzOH8u0twqYzmOWwhgOGzrnWvaw78WUL_P8mx=s64",
      "userId": "05270161629470731830"
     },
     "user_tz": -330
    },
    "id": "fP_7M8t4Wa05"
   },
   "outputs": [],
   "source": [
    "countries_df['gdp'] = countries_df.population * countries_df.gdp_per_capita"
   ]
  },
  {
   "cell_type": "code",
   "execution_count": 35,
   "metadata": {
    "colab": {
     "base_uri": "https://localhost:8080/",
     "height": 438
    },
    "executionInfo": {
     "elapsed": 1216,
     "status": "ok",
     "timestamp": 1607549327727,
     "user": {
      "displayName": "Tanvi Patel",
      "photoUrl": "https://lh3.googleusercontent.com/a-/AOh14GhEzOH8u0twqYzmOWwhgOGzrnWvaw78WUL_P8mx=s64",
      "userId": "05270161629470731830"
     },
     "user_tz": -330
    },
    "id": "uOYsl5_kWa05",
    "outputId": "0ab1d5ee-0a79-495f-ab8c-209778ee2a21"
   },
   "outputs": [
    {
     "data": {
      "text/html": [
       "<div>\n",
       "<style scoped>\n",
       "    .dataframe tbody tr th:only-of-type {\n",
       "        vertical-align: middle;\n",
       "    }\n",
       "\n",
       "    .dataframe tbody tr th {\n",
       "        vertical-align: top;\n",
       "    }\n",
       "\n",
       "    .dataframe thead th {\n",
       "        text-align: right;\n",
       "    }\n",
       "</style>\n",
       "<table border=\"1\" class=\"dataframe\">\n",
       "  <thead>\n",
       "    <tr style=\"text-align: right;\">\n",
       "      <th></th>\n",
       "      <th>location</th>\n",
       "      <th>continent</th>\n",
       "      <th>population</th>\n",
       "      <th>life_expectancy</th>\n",
       "      <th>hospital_beds_per_thousand</th>\n",
       "      <th>gdp_per_capita</th>\n",
       "      <th>gdp</th>\n",
       "    </tr>\n",
       "  </thead>\n",
       "  <tbody>\n",
       "    <tr>\n",
       "      <th>0</th>\n",
       "      <td>Afghanistan</td>\n",
       "      <td>Asia</td>\n",
       "      <td>38928341.0</td>\n",
       "      <td>64.83</td>\n",
       "      <td>0.50</td>\n",
       "      <td>1803.987</td>\n",
       "      <td>7.022622e+10</td>\n",
       "    </tr>\n",
       "    <tr>\n",
       "      <th>1</th>\n",
       "      <td>Albania</td>\n",
       "      <td>Europe</td>\n",
       "      <td>2877800.0</td>\n",
       "      <td>78.57</td>\n",
       "      <td>2.89</td>\n",
       "      <td>11803.431</td>\n",
       "      <td>3.396791e+10</td>\n",
       "    </tr>\n",
       "    <tr>\n",
       "      <th>2</th>\n",
       "      <td>Algeria</td>\n",
       "      <td>Africa</td>\n",
       "      <td>43851043.0</td>\n",
       "      <td>76.88</td>\n",
       "      <td>1.90</td>\n",
       "      <td>13913.839</td>\n",
       "      <td>6.101364e+11</td>\n",
       "    </tr>\n",
       "    <tr>\n",
       "      <th>3</th>\n",
       "      <td>Andorra</td>\n",
       "      <td>Europe</td>\n",
       "      <td>77265.0</td>\n",
       "      <td>83.73</td>\n",
       "      <td>NaN</td>\n",
       "      <td>NaN</td>\n",
       "      <td>NaN</td>\n",
       "    </tr>\n",
       "    <tr>\n",
       "      <th>4</th>\n",
       "      <td>Angola</td>\n",
       "      <td>Africa</td>\n",
       "      <td>32866268.0</td>\n",
       "      <td>61.15</td>\n",
       "      <td>NaN</td>\n",
       "      <td>5819.495</td>\n",
       "      <td>1.912651e+11</td>\n",
       "    </tr>\n",
       "    <tr>\n",
       "      <th>...</th>\n",
       "      <td>...</td>\n",
       "      <td>...</td>\n",
       "      <td>...</td>\n",
       "      <td>...</td>\n",
       "      <td>...</td>\n",
       "      <td>...</td>\n",
       "      <td>...</td>\n",
       "    </tr>\n",
       "    <tr>\n",
       "      <th>205</th>\n",
       "      <td>Vietnam</td>\n",
       "      <td>Asia</td>\n",
       "      <td>97338583.0</td>\n",
       "      <td>75.40</td>\n",
       "      <td>2.60</td>\n",
       "      <td>6171.884</td>\n",
       "      <td>6.007624e+11</td>\n",
       "    </tr>\n",
       "    <tr>\n",
       "      <th>206</th>\n",
       "      <td>Western Sahara</td>\n",
       "      <td>Africa</td>\n",
       "      <td>597330.0</td>\n",
       "      <td>70.26</td>\n",
       "      <td>NaN</td>\n",
       "      <td>NaN</td>\n",
       "      <td>NaN</td>\n",
       "    </tr>\n",
       "    <tr>\n",
       "      <th>207</th>\n",
       "      <td>Yemen</td>\n",
       "      <td>Asia</td>\n",
       "      <td>29825968.0</td>\n",
       "      <td>66.12</td>\n",
       "      <td>0.70</td>\n",
       "      <td>1479.147</td>\n",
       "      <td>4.411699e+10</td>\n",
       "    </tr>\n",
       "    <tr>\n",
       "      <th>208</th>\n",
       "      <td>Zambia</td>\n",
       "      <td>Africa</td>\n",
       "      <td>18383956.0</td>\n",
       "      <td>63.89</td>\n",
       "      <td>2.00</td>\n",
       "      <td>3689.251</td>\n",
       "      <td>6.782303e+10</td>\n",
       "    </tr>\n",
       "    <tr>\n",
       "      <th>209</th>\n",
       "      <td>Zimbabwe</td>\n",
       "      <td>Africa</td>\n",
       "      <td>14862927.0</td>\n",
       "      <td>61.49</td>\n",
       "      <td>1.70</td>\n",
       "      <td>1899.775</td>\n",
       "      <td>2.823622e+10</td>\n",
       "    </tr>\n",
       "  </tbody>\n",
       "</table>\n",
       "<p>210 rows × 7 columns</p>\n",
       "</div>"
      ],
      "text/plain": [
       "           location continent  ...  gdp_per_capita           gdp\n",
       "0       Afghanistan      Asia  ...        1803.987  7.022622e+10\n",
       "1           Albania    Europe  ...       11803.431  3.396791e+10\n",
       "2           Algeria    Africa  ...       13913.839  6.101364e+11\n",
       "3           Andorra    Europe  ...             NaN           NaN\n",
       "4            Angola    Africa  ...        5819.495  1.912651e+11\n",
       "..              ...       ...  ...             ...           ...\n",
       "205         Vietnam      Asia  ...        6171.884  6.007624e+11\n",
       "206  Western Sahara    Africa  ...             NaN           NaN\n",
       "207           Yemen      Asia  ...        1479.147  4.411699e+10\n",
       "208          Zambia    Africa  ...        3689.251  6.782303e+10\n",
       "209        Zimbabwe    Africa  ...        1899.775  2.823622e+10\n",
       "\n",
       "[210 rows x 7 columns]"
      ]
     },
     "execution_count": 35,
     "metadata": {
      "tags": []
     },
     "output_type": "execute_result"
    }
   ],
   "source": [
    "countries_df"
   ]
  },
  {
   "cell_type": "code",
   "execution_count": 36,
   "metadata": {
    "colab": {
     "base_uri": "https://localhost:8080/",
     "height": 106
    },
    "executionInfo": {
     "elapsed": 3177,
     "status": "ok",
     "timestamp": 1607549339019,
     "user": {
      "displayName": "Tanvi Patel",
      "photoUrl": "https://lh3.googleusercontent.com/a-/AOh14GhEzOH8u0twqYzmOWwhgOGzrnWvaw78WUL_P8mx=s64",
      "userId": "05270161629470731830"
     },
     "user_tz": -330
    },
    "id": "fvY9ScR0Wa05",
    "outputId": "1ba17a68-2dc7-4194-8686-f81e8c337197"
   },
   "outputs": [
    {
     "name": "stdout",
     "output_type": "stream",
     "text": [
      "[jovian] Detected Colab notebook...\u001b[0m\n",
      "[jovian] Uploading colab notebook to Jovian...\u001b[0m\n",
      "[jovian] Committed successfully! https://jovian.ai/tanu1007/pandas-practice-assignment\u001b[0m\n"
     ]
    },
    {
     "data": {
      "application/vnd.google.colaboratory.intrinsic+json": {
       "type": "string"
      },
      "text/plain": [
       "'https://jovian.ai/tanu1007/pandas-practice-assignment'"
      ]
     },
     "execution_count": 36,
     "metadata": {
      "tags": []
     },
     "output_type": "execute_result"
    }
   ],
   "source": [
    "jovian.commit(project='pandas-practice-assignment', environment=None)"
   ]
  },
  {
   "cell_type": "markdown",
   "metadata": {
    "id": "SDDp4Gi7Wa05"
   },
   "source": [
    "**Q: (Optional) Create a dataframe containing 10 countries with the lowest GDP per capita, among the counties with population greater than 100 million.**"
   ]
  },
  {
   "cell_type": "code",
   "execution_count": null,
   "metadata": {
    "id": "Rr-WAsU9Wa06"
   },
   "outputs": [],
   "source": []
  },
  {
   "cell_type": "code",
   "execution_count": null,
   "metadata": {
    "id": "1TUXb-naWa06"
   },
   "outputs": [],
   "source": []
  },
  {
   "cell_type": "code",
   "execution_count": null,
   "metadata": {
    "id": "77Lk5oiQWa06"
   },
   "outputs": [],
   "source": [
    "jovian.commit(project='pandas-practice-assignment', environment=None)"
   ]
  },
  {
   "cell_type": "markdown",
   "metadata": {
    "id": "6Ds_3QSWWa06"
   },
   "source": [
    "**Q: Create a data frame that counts the number countries in each continent?**\n",
    "\n",
    "*Hint: Use `groupby`, select the `location` column and aggregate using `count`.*"
   ]
  },
  {
   "cell_type": "code",
   "execution_count": 37,
   "metadata": {
    "executionInfo": {
     "elapsed": 1241,
     "status": "ok",
     "timestamp": 1607549398011,
     "user": {
      "displayName": "Tanvi Patel",
      "photoUrl": "https://lh3.googleusercontent.com/a-/AOh14GhEzOH8u0twqYzmOWwhgOGzrnWvaw78WUL_P8mx=s64",
      "userId": "05270161629470731830"
     },
     "user_tz": -330
    },
    "id": "PLOQrdZ8Wa06"
   },
   "outputs": [],
   "source": [
    "country_counts_df = countries_df.groupby('continent')['location'].count()"
   ]
  },
  {
   "cell_type": "code",
   "execution_count": 38,
   "metadata": {
    "colab": {
     "base_uri": "https://localhost:8080/"
    },
    "executionInfo": {
     "elapsed": 1316,
     "status": "ok",
     "timestamp": 1607549402984,
     "user": {
      "displayName": "Tanvi Patel",
      "photoUrl": "https://lh3.googleusercontent.com/a-/AOh14GhEzOH8u0twqYzmOWwhgOGzrnWvaw78WUL_P8mx=s64",
      "userId": "05270161629470731830"
     },
     "user_tz": -330
    },
    "id": "6y7i0KbKWa06",
    "outputId": "02f18ef9-d4b0-49b6-db01-6cd029111c43"
   },
   "outputs": [
    {
     "data": {
      "text/plain": [
       "continent\n",
       "Africa           55\n",
       "Asia             47\n",
       "Europe           51\n",
       "North America    36\n",
       "Oceania           8\n",
       "South America    13\n",
       "Name: location, dtype: int64"
      ]
     },
     "execution_count": 38,
     "metadata": {
      "tags": []
     },
     "output_type": "execute_result"
    }
   ],
   "source": [
    "country_counts_df"
   ]
  },
  {
   "cell_type": "code",
   "execution_count": 39,
   "metadata": {
    "colab": {
     "base_uri": "https://localhost:8080/",
     "height": 106
    },
    "executionInfo": {
     "elapsed": 3176,
     "status": "ok",
     "timestamp": 1607549428295,
     "user": {
      "displayName": "Tanvi Patel",
      "photoUrl": "https://lh3.googleusercontent.com/a-/AOh14GhEzOH8u0twqYzmOWwhgOGzrnWvaw78WUL_P8mx=s64",
      "userId": "05270161629470731830"
     },
     "user_tz": -330
    },
    "id": "ExtD_Eg3Wa06",
    "outputId": "8c372c50-4056-4b1b-e9ab-00ad390b7d97"
   },
   "outputs": [
    {
     "name": "stdout",
     "output_type": "stream",
     "text": [
      "[jovian] Detected Colab notebook...\u001b[0m\n",
      "[jovian] Uploading colab notebook to Jovian...\u001b[0m\n",
      "[jovian] Committed successfully! https://jovian.ai/tanu1007/pandas-practice-assignment\u001b[0m\n"
     ]
    },
    {
     "data": {
      "application/vnd.google.colaboratory.intrinsic+json": {
       "type": "string"
      },
      "text/plain": [
       "'https://jovian.ai/tanu1007/pandas-practice-assignment'"
      ]
     },
     "execution_count": 39,
     "metadata": {
      "tags": []
     },
     "output_type": "execute_result"
    }
   ],
   "source": [
    "jovian.commit(project='pandas-practice-assignment', environment=None)"
   ]
  },
  {
   "cell_type": "markdown",
   "metadata": {
    "id": "XD4-zxDWWa07"
   },
   "source": [
    "**Q: Create a data frame showing the total population of each continent.**\n",
    "\n",
    "*Hint: Use `groupby`, select the population column and aggregate using `sum`.*"
   ]
  },
  {
   "cell_type": "code",
   "execution_count": 40,
   "metadata": {
    "executionInfo": {
     "elapsed": 1179,
     "status": "ok",
     "timestamp": 1607549486287,
     "user": {
      "displayName": "Tanvi Patel",
      "photoUrl": "https://lh3.googleusercontent.com/a-/AOh14GhEzOH8u0twqYzmOWwhgOGzrnWvaw78WUL_P8mx=s64",
      "userId": "05270161629470731830"
     },
     "user_tz": -330
    },
    "id": "gjPuP3GJWa07"
   },
   "outputs": [],
   "source": [
    "continent_populations_df = countries_df.groupby('continent')['population'].sum()"
   ]
  },
  {
   "cell_type": "code",
   "execution_count": 41,
   "metadata": {
    "colab": {
     "base_uri": "https://localhost:8080/"
    },
    "executionInfo": {
     "elapsed": 1522,
     "status": "ok",
     "timestamp": 1607549491142,
     "user": {
      "displayName": "Tanvi Patel",
      "photoUrl": "https://lh3.googleusercontent.com/a-/AOh14GhEzOH8u0twqYzmOWwhgOGzrnWvaw78WUL_P8mx=s64",
      "userId": "05270161629470731830"
     },
     "user_tz": -330
    },
    "id": "REtwyD2mWa07",
    "outputId": "f6c73c8f-170b-4dd4-cec6-557e16eee668"
   },
   "outputs": [
    {
     "data": {
      "text/plain": [
       "continent\n",
       "Africa           1.339424e+09\n",
       "Asia             4.607388e+09\n",
       "Europe           7.485062e+08\n",
       "North America    5.912425e+08\n",
       "Oceania          4.095832e+07\n",
       "South America    4.304611e+08\n",
       "Name: population, dtype: float64"
      ]
     },
     "execution_count": 41,
     "metadata": {
      "tags": []
     },
     "output_type": "execute_result"
    }
   ],
   "source": [
    "continent_populations_df"
   ]
  },
  {
   "cell_type": "code",
   "execution_count": 42,
   "metadata": {
    "colab": {
     "base_uri": "https://localhost:8080/",
     "height": 106
    },
    "executionInfo": {
     "elapsed": 3482,
     "status": "ok",
     "timestamp": 1607549497773,
     "user": {
      "displayName": "Tanvi Patel",
      "photoUrl": "https://lh3.googleusercontent.com/a-/AOh14GhEzOH8u0twqYzmOWwhgOGzrnWvaw78WUL_P8mx=s64",
      "userId": "05270161629470731830"
     },
     "user_tz": -330
    },
    "id": "7Lm5p57mWa07",
    "outputId": "455b0d7c-4da6-48aa-bb21-0e4f2b3f5217"
   },
   "outputs": [
    {
     "name": "stdout",
     "output_type": "stream",
     "text": [
      "[jovian] Detected Colab notebook...\u001b[0m\n",
      "[jovian] Uploading colab notebook to Jovian...\u001b[0m\n",
      "[jovian] Committed successfully! https://jovian.ai/tanu1007/pandas-practice-assignment\u001b[0m\n"
     ]
    },
    {
     "data": {
      "application/vnd.google.colaboratory.intrinsic+json": {
       "type": "string"
      },
      "text/plain": [
       "'https://jovian.ai/tanu1007/pandas-practice-assignment'"
      ]
     },
     "execution_count": 42,
     "metadata": {
      "tags": []
     },
     "output_type": "execute_result"
    }
   ],
   "source": [
    "jovian.commit(project='pandas-practice-assignment', environment=None)"
   ]
  },
  {
   "cell_type": "markdown",
   "metadata": {
    "id": "1RSDXVWJWa07"
   },
   "source": [
    "Let's download another CSV file containing overall Covid-19 stats for various countires, and read the data into another Pandas data frame."
   ]
  },
  {
   "cell_type": "code",
   "execution_count": 43,
   "metadata": {
    "colab": {
     "base_uri": "https://localhost:8080/"
    },
    "executionInfo": {
     "elapsed": 2535,
     "status": "ok",
     "timestamp": 1607549507224,
     "user": {
      "displayName": "Tanvi Patel",
      "photoUrl": "https://lh3.googleusercontent.com/a-/AOh14GhEzOH8u0twqYzmOWwhgOGzrnWvaw78WUL_P8mx=s64",
      "userId": "05270161629470731830"
     },
     "user_tz": -330
    },
    "id": "y09dIojGWa07",
    "outputId": "0dced099-f991-403a-b4e4-11d846c1050c"
   },
   "outputs": [
    {
     "data": {
      "text/plain": [
       "('covid-countries-data.csv', <http.client.HTTPMessage at 0x7fc39cc37828>)"
      ]
     },
     "execution_count": 43,
     "metadata": {
      "tags": []
     },
     "output_type": "execute_result"
    }
   ],
   "source": [
    "urlretrieve('https://hub.jovian.ml/wp-content/uploads/2020/09/covid-countries-data.csv', \n",
    "            'covid-countries-data.csv')"
   ]
  },
  {
   "cell_type": "code",
   "execution_count": 44,
   "metadata": {
    "executionInfo": {
     "elapsed": 1446,
     "status": "ok",
     "timestamp": 1607549509672,
     "user": {
      "displayName": "Tanvi Patel",
      "photoUrl": "https://lh3.googleusercontent.com/a-/AOh14GhEzOH8u0twqYzmOWwhgOGzrnWvaw78WUL_P8mx=s64",
      "userId": "05270161629470731830"
     },
     "user_tz": -330
    },
    "id": "DChHQnbGWa07"
   },
   "outputs": [],
   "source": [
    "covid_data_df = pd.read_csv('covid-countries-data.csv')"
   ]
  },
  {
   "cell_type": "code",
   "execution_count": 45,
   "metadata": {
    "colab": {
     "base_uri": "https://localhost:8080/",
     "height": 402
    },
    "executionInfo": {
     "elapsed": 1615,
     "status": "ok",
     "timestamp": 1607549512131,
     "user": {
      "displayName": "Tanvi Patel",
      "photoUrl": "https://lh3.googleusercontent.com/a-/AOh14GhEzOH8u0twqYzmOWwhgOGzrnWvaw78WUL_P8mx=s64",
      "userId": "05270161629470731830"
     },
     "user_tz": -330
    },
    "id": "Emfr6d_qWa08",
    "outputId": "a69d8770-bca0-4c8f-caeb-207eda2f72d8",
    "scrolled": true
   },
   "outputs": [
    {
     "data": {
      "text/html": [
       "<div>\n",
       "<style scoped>\n",
       "    .dataframe tbody tr th:only-of-type {\n",
       "        vertical-align: middle;\n",
       "    }\n",
       "\n",
       "    .dataframe tbody tr th {\n",
       "        vertical-align: top;\n",
       "    }\n",
       "\n",
       "    .dataframe thead th {\n",
       "        text-align: right;\n",
       "    }\n",
       "</style>\n",
       "<table border=\"1\" class=\"dataframe\">\n",
       "  <thead>\n",
       "    <tr style=\"text-align: right;\">\n",
       "      <th></th>\n",
       "      <th>location</th>\n",
       "      <th>total_cases</th>\n",
       "      <th>total_deaths</th>\n",
       "      <th>total_tests</th>\n",
       "    </tr>\n",
       "  </thead>\n",
       "  <tbody>\n",
       "    <tr>\n",
       "      <th>0</th>\n",
       "      <td>Afghanistan</td>\n",
       "      <td>38243.0</td>\n",
       "      <td>1409.0</td>\n",
       "      <td>NaN</td>\n",
       "    </tr>\n",
       "    <tr>\n",
       "      <th>1</th>\n",
       "      <td>Albania</td>\n",
       "      <td>9728.0</td>\n",
       "      <td>296.0</td>\n",
       "      <td>NaN</td>\n",
       "    </tr>\n",
       "    <tr>\n",
       "      <th>2</th>\n",
       "      <td>Algeria</td>\n",
       "      <td>45158.0</td>\n",
       "      <td>1525.0</td>\n",
       "      <td>NaN</td>\n",
       "    </tr>\n",
       "    <tr>\n",
       "      <th>3</th>\n",
       "      <td>Andorra</td>\n",
       "      <td>1199.0</td>\n",
       "      <td>53.0</td>\n",
       "      <td>NaN</td>\n",
       "    </tr>\n",
       "    <tr>\n",
       "      <th>4</th>\n",
       "      <td>Angola</td>\n",
       "      <td>2729.0</td>\n",
       "      <td>109.0</td>\n",
       "      <td>NaN</td>\n",
       "    </tr>\n",
       "    <tr>\n",
       "      <th>...</th>\n",
       "      <td>...</td>\n",
       "      <td>...</td>\n",
       "      <td>...</td>\n",
       "      <td>...</td>\n",
       "    </tr>\n",
       "    <tr>\n",
       "      <th>207</th>\n",
       "      <td>Western Sahara</td>\n",
       "      <td>766.0</td>\n",
       "      <td>1.0</td>\n",
       "      <td>NaN</td>\n",
       "    </tr>\n",
       "    <tr>\n",
       "      <th>208</th>\n",
       "      <td>World</td>\n",
       "      <td>26059065.0</td>\n",
       "      <td>863535.0</td>\n",
       "      <td>NaN</td>\n",
       "    </tr>\n",
       "    <tr>\n",
       "      <th>209</th>\n",
       "      <td>Yemen</td>\n",
       "      <td>1976.0</td>\n",
       "      <td>571.0</td>\n",
       "      <td>NaN</td>\n",
       "    </tr>\n",
       "    <tr>\n",
       "      <th>210</th>\n",
       "      <td>Zambia</td>\n",
       "      <td>12415.0</td>\n",
       "      <td>292.0</td>\n",
       "      <td>NaN</td>\n",
       "    </tr>\n",
       "    <tr>\n",
       "      <th>211</th>\n",
       "      <td>Zimbabwe</td>\n",
       "      <td>6638.0</td>\n",
       "      <td>206.0</td>\n",
       "      <td>97272.0</td>\n",
       "    </tr>\n",
       "  </tbody>\n",
       "</table>\n",
       "<p>212 rows × 4 columns</p>\n",
       "</div>"
      ],
      "text/plain": [
       "           location  total_cases  total_deaths  total_tests\n",
       "0       Afghanistan      38243.0        1409.0          NaN\n",
       "1           Albania       9728.0         296.0          NaN\n",
       "2           Algeria      45158.0        1525.0          NaN\n",
       "3           Andorra       1199.0          53.0          NaN\n",
       "4            Angola       2729.0         109.0          NaN\n",
       "..              ...          ...           ...          ...\n",
       "207  Western Sahara        766.0           1.0          NaN\n",
       "208           World   26059065.0      863535.0          NaN\n",
       "209           Yemen       1976.0         571.0          NaN\n",
       "210          Zambia      12415.0         292.0          NaN\n",
       "211        Zimbabwe       6638.0         206.0      97272.0\n",
       "\n",
       "[212 rows x 4 columns]"
      ]
     },
     "execution_count": 45,
     "metadata": {
      "tags": []
     },
     "output_type": "execute_result"
    }
   ],
   "source": [
    "covid_data_df"
   ]
  },
  {
   "cell_type": "markdown",
   "metadata": {
    "id": "Vc2A4JzvWa08"
   },
   "source": [
    "**Q: Count the number of countries for which the `total_tests` data is missing.**\n",
    "\n",
    "*Hint: Use the `.isna` method.*"
   ]
  },
  {
   "cell_type": "code",
   "execution_count": 46,
   "metadata": {
    "executionInfo": {
     "elapsed": 1217,
     "status": "ok",
     "timestamp": 1607549568602,
     "user": {
      "displayName": "Tanvi Patel",
      "photoUrl": "https://lh3.googleusercontent.com/a-/AOh14GhEzOH8u0twqYzmOWwhgOGzrnWvaw78WUL_P8mx=s64",
      "userId": "05270161629470731830"
     },
     "user_tz": -330
    },
    "id": "WCeCT134Wa08"
   },
   "outputs": [],
   "source": [
    "total_tests_missing = covid_data_df.total_tests.isna().sum()"
   ]
  },
  {
   "cell_type": "code",
   "execution_count": 47,
   "metadata": {
    "colab": {
     "base_uri": "https://localhost:8080/"
    },
    "executionInfo": {
     "elapsed": 1912,
     "status": "ok",
     "timestamp": 1607549573253,
     "user": {
      "displayName": "Tanvi Patel",
      "photoUrl": "https://lh3.googleusercontent.com/a-/AOh14GhEzOH8u0twqYzmOWwhgOGzrnWvaw78WUL_P8mx=s64",
      "userId": "05270161629470731830"
     },
     "user_tz": -330
    },
    "id": "QsnZwO7bWa09",
    "outputId": "de70943f-e3ce-42e6-d22d-1a7590f7dc5b"
   },
   "outputs": [
    {
     "name": "stdout",
     "output_type": "stream",
     "text": [
      "The data for total tests is missing for 122 countries.\n"
     ]
    }
   ],
   "source": [
    "print(\"The data for total tests is missing for {} countries.\".format(int(total_tests_missing)))"
   ]
  },
  {
   "cell_type": "code",
   "execution_count": 48,
   "metadata": {
    "colab": {
     "base_uri": "https://localhost:8080/",
     "height": 106
    },
    "executionInfo": {
     "elapsed": 3647,
     "status": "ok",
     "timestamp": 1607549588299,
     "user": {
      "displayName": "Tanvi Patel",
      "photoUrl": "https://lh3.googleusercontent.com/a-/AOh14GhEzOH8u0twqYzmOWwhgOGzrnWvaw78WUL_P8mx=s64",
      "userId": "05270161629470731830"
     },
     "user_tz": -330
    },
    "id": "iLCNMEtWWa0-",
    "outputId": "dd9aa115-cd40-4833-c960-b95e74f8ad0d"
   },
   "outputs": [
    {
     "name": "stdout",
     "output_type": "stream",
     "text": [
      "[jovian] Detected Colab notebook...\u001b[0m\n",
      "[jovian] Uploading colab notebook to Jovian...\u001b[0m\n",
      "[jovian] Committed successfully! https://jovian.ai/tanu1007/pandas-practice-assignment\u001b[0m\n"
     ]
    },
    {
     "data": {
      "application/vnd.google.colaboratory.intrinsic+json": {
       "type": "string"
      },
      "text/plain": [
       "'https://jovian.ai/tanu1007/pandas-practice-assignment'"
      ]
     },
     "execution_count": 48,
     "metadata": {
      "tags": []
     },
     "output_type": "execute_result"
    }
   ],
   "source": [
    "jovian.commit(project='pandas-practice-assignment', environment=None)"
   ]
  },
  {
   "cell_type": "markdown",
   "metadata": {
    "id": "3BCLE891Wa0-"
   },
   "source": [
    "Let's merge the two data frames, and compute some more metrics.\n",
    "\n",
    "**Q: Merge `countries_df` with `covid_data_df` on the `location` column.**\n",
    "\n",
    "*Hint: Use the `.merge` method on `countries_df`."
   ]
  },
  {
   "cell_type": "code",
   "execution_count": 49,
   "metadata": {
    "executionInfo": {
     "elapsed": 1425,
     "status": "ok",
     "timestamp": 1607549635313,
     "user": {
      "displayName": "Tanvi Patel",
      "photoUrl": "https://lh3.googleusercontent.com/a-/AOh14GhEzOH8u0twqYzmOWwhgOGzrnWvaw78WUL_P8mx=s64",
      "userId": "05270161629470731830"
     },
     "user_tz": -330
    },
    "id": "Sty-LnyzWa0-"
   },
   "outputs": [],
   "source": [
    "combined_df = countries_df.merge(covid_data_df,on='location')"
   ]
  },
  {
   "cell_type": "code",
   "execution_count": 50,
   "metadata": {
    "colab": {
     "base_uri": "https://localhost:8080/",
     "height": 438
    },
    "executionInfo": {
     "elapsed": 1544,
     "status": "ok",
     "timestamp": 1607549637572,
     "user": {
      "displayName": "Tanvi Patel",
      "photoUrl": "https://lh3.googleusercontent.com/a-/AOh14GhEzOH8u0twqYzmOWwhgOGzrnWvaw78WUL_P8mx=s64",
      "userId": "05270161629470731830"
     },
     "user_tz": -330
    },
    "id": "yTcIbQoVWa0-",
    "outputId": "ae578a98-1b9f-487e-d7cd-09ca36c1c133"
   },
   "outputs": [
    {
     "data": {
      "text/html": [
       "<div>\n",
       "<style scoped>\n",
       "    .dataframe tbody tr th:only-of-type {\n",
       "        vertical-align: middle;\n",
       "    }\n",
       "\n",
       "    .dataframe tbody tr th {\n",
       "        vertical-align: top;\n",
       "    }\n",
       "\n",
       "    .dataframe thead th {\n",
       "        text-align: right;\n",
       "    }\n",
       "</style>\n",
       "<table border=\"1\" class=\"dataframe\">\n",
       "  <thead>\n",
       "    <tr style=\"text-align: right;\">\n",
       "      <th></th>\n",
       "      <th>location</th>\n",
       "      <th>continent</th>\n",
       "      <th>population</th>\n",
       "      <th>life_expectancy</th>\n",
       "      <th>hospital_beds_per_thousand</th>\n",
       "      <th>gdp_per_capita</th>\n",
       "      <th>gdp</th>\n",
       "      <th>total_cases</th>\n",
       "      <th>total_deaths</th>\n",
       "      <th>total_tests</th>\n",
       "    </tr>\n",
       "  </thead>\n",
       "  <tbody>\n",
       "    <tr>\n",
       "      <th>0</th>\n",
       "      <td>Afghanistan</td>\n",
       "      <td>Asia</td>\n",
       "      <td>38928341.0</td>\n",
       "      <td>64.83</td>\n",
       "      <td>0.50</td>\n",
       "      <td>1803.987</td>\n",
       "      <td>7.022622e+10</td>\n",
       "      <td>38243.0</td>\n",
       "      <td>1409.0</td>\n",
       "      <td>NaN</td>\n",
       "    </tr>\n",
       "    <tr>\n",
       "      <th>1</th>\n",
       "      <td>Albania</td>\n",
       "      <td>Europe</td>\n",
       "      <td>2877800.0</td>\n",
       "      <td>78.57</td>\n",
       "      <td>2.89</td>\n",
       "      <td>11803.431</td>\n",
       "      <td>3.396791e+10</td>\n",
       "      <td>9728.0</td>\n",
       "      <td>296.0</td>\n",
       "      <td>NaN</td>\n",
       "    </tr>\n",
       "    <tr>\n",
       "      <th>2</th>\n",
       "      <td>Algeria</td>\n",
       "      <td>Africa</td>\n",
       "      <td>43851043.0</td>\n",
       "      <td>76.88</td>\n",
       "      <td>1.90</td>\n",
       "      <td>13913.839</td>\n",
       "      <td>6.101364e+11</td>\n",
       "      <td>45158.0</td>\n",
       "      <td>1525.0</td>\n",
       "      <td>NaN</td>\n",
       "    </tr>\n",
       "    <tr>\n",
       "      <th>3</th>\n",
       "      <td>Andorra</td>\n",
       "      <td>Europe</td>\n",
       "      <td>77265.0</td>\n",
       "      <td>83.73</td>\n",
       "      <td>NaN</td>\n",
       "      <td>NaN</td>\n",
       "      <td>NaN</td>\n",
       "      <td>1199.0</td>\n",
       "      <td>53.0</td>\n",
       "      <td>NaN</td>\n",
       "    </tr>\n",
       "    <tr>\n",
       "      <th>4</th>\n",
       "      <td>Angola</td>\n",
       "      <td>Africa</td>\n",
       "      <td>32866268.0</td>\n",
       "      <td>61.15</td>\n",
       "      <td>NaN</td>\n",
       "      <td>5819.495</td>\n",
       "      <td>1.912651e+11</td>\n",
       "      <td>2729.0</td>\n",
       "      <td>109.0</td>\n",
       "      <td>NaN</td>\n",
       "    </tr>\n",
       "    <tr>\n",
       "      <th>...</th>\n",
       "      <td>...</td>\n",
       "      <td>...</td>\n",
       "      <td>...</td>\n",
       "      <td>...</td>\n",
       "      <td>...</td>\n",
       "      <td>...</td>\n",
       "      <td>...</td>\n",
       "      <td>...</td>\n",
       "      <td>...</td>\n",
       "      <td>...</td>\n",
       "    </tr>\n",
       "    <tr>\n",
       "      <th>205</th>\n",
       "      <td>Vietnam</td>\n",
       "      <td>Asia</td>\n",
       "      <td>97338583.0</td>\n",
       "      <td>75.40</td>\n",
       "      <td>2.60</td>\n",
       "      <td>6171.884</td>\n",
       "      <td>6.007624e+11</td>\n",
       "      <td>1046.0</td>\n",
       "      <td>35.0</td>\n",
       "      <td>261004.0</td>\n",
       "    </tr>\n",
       "    <tr>\n",
       "      <th>206</th>\n",
       "      <td>Western Sahara</td>\n",
       "      <td>Africa</td>\n",
       "      <td>597330.0</td>\n",
       "      <td>70.26</td>\n",
       "      <td>NaN</td>\n",
       "      <td>NaN</td>\n",
       "      <td>NaN</td>\n",
       "      <td>766.0</td>\n",
       "      <td>1.0</td>\n",
       "      <td>NaN</td>\n",
       "    </tr>\n",
       "    <tr>\n",
       "      <th>207</th>\n",
       "      <td>Yemen</td>\n",
       "      <td>Asia</td>\n",
       "      <td>29825968.0</td>\n",
       "      <td>66.12</td>\n",
       "      <td>0.70</td>\n",
       "      <td>1479.147</td>\n",
       "      <td>4.411699e+10</td>\n",
       "      <td>1976.0</td>\n",
       "      <td>571.0</td>\n",
       "      <td>NaN</td>\n",
       "    </tr>\n",
       "    <tr>\n",
       "      <th>208</th>\n",
       "      <td>Zambia</td>\n",
       "      <td>Africa</td>\n",
       "      <td>18383956.0</td>\n",
       "      <td>63.89</td>\n",
       "      <td>2.00</td>\n",
       "      <td>3689.251</td>\n",
       "      <td>6.782303e+10</td>\n",
       "      <td>12415.0</td>\n",
       "      <td>292.0</td>\n",
       "      <td>NaN</td>\n",
       "    </tr>\n",
       "    <tr>\n",
       "      <th>209</th>\n",
       "      <td>Zimbabwe</td>\n",
       "      <td>Africa</td>\n",
       "      <td>14862927.0</td>\n",
       "      <td>61.49</td>\n",
       "      <td>1.70</td>\n",
       "      <td>1899.775</td>\n",
       "      <td>2.823622e+10</td>\n",
       "      <td>6638.0</td>\n",
       "      <td>206.0</td>\n",
       "      <td>97272.0</td>\n",
       "    </tr>\n",
       "  </tbody>\n",
       "</table>\n",
       "<p>210 rows × 10 columns</p>\n",
       "</div>"
      ],
      "text/plain": [
       "           location continent  ...  total_deaths  total_tests\n",
       "0       Afghanistan      Asia  ...        1409.0          NaN\n",
       "1           Albania    Europe  ...         296.0          NaN\n",
       "2           Algeria    Africa  ...        1525.0          NaN\n",
       "3           Andorra    Europe  ...          53.0          NaN\n",
       "4            Angola    Africa  ...         109.0          NaN\n",
       "..              ...       ...  ...           ...          ...\n",
       "205         Vietnam      Asia  ...          35.0     261004.0\n",
       "206  Western Sahara    Africa  ...           1.0          NaN\n",
       "207           Yemen      Asia  ...         571.0          NaN\n",
       "208          Zambia    Africa  ...         292.0          NaN\n",
       "209        Zimbabwe    Africa  ...         206.0      97272.0\n",
       "\n",
       "[210 rows x 10 columns]"
      ]
     },
     "execution_count": 50,
     "metadata": {
      "tags": []
     },
     "output_type": "execute_result"
    }
   ],
   "source": [
    "combined_df"
   ]
  },
  {
   "cell_type": "code",
   "execution_count": 51,
   "metadata": {
    "colab": {
     "base_uri": "https://localhost:8080/",
     "height": 106
    },
    "executionInfo": {
     "elapsed": 3345,
     "status": "ok",
     "timestamp": 1607549647581,
     "user": {
      "displayName": "Tanvi Patel",
      "photoUrl": "https://lh3.googleusercontent.com/a-/AOh14GhEzOH8u0twqYzmOWwhgOGzrnWvaw78WUL_P8mx=s64",
      "userId": "05270161629470731830"
     },
     "user_tz": -330
    },
    "id": "Xj2RdfpIWa0-",
    "outputId": "b8f90bc7-dec0-4388-903b-ab35a0680a7a"
   },
   "outputs": [
    {
     "name": "stdout",
     "output_type": "stream",
     "text": [
      "[jovian] Detected Colab notebook...\u001b[0m\n",
      "[jovian] Uploading colab notebook to Jovian...\u001b[0m\n",
      "[jovian] Committed successfully! https://jovian.ai/tanu1007/pandas-practice-assignment\u001b[0m\n"
     ]
    },
    {
     "data": {
      "application/vnd.google.colaboratory.intrinsic+json": {
       "type": "string"
      },
      "text/plain": [
       "'https://jovian.ai/tanu1007/pandas-practice-assignment'"
      ]
     },
     "execution_count": 51,
     "metadata": {
      "tags": []
     },
     "output_type": "execute_result"
    }
   ],
   "source": [
    "jovian.commit(project='pandas-practice-assignment', environment=None)"
   ]
  },
  {
   "cell_type": "markdown",
   "metadata": {
    "id": "DPGZQ5iFWa0-"
   },
   "source": [
    "**Q: Add columns `tests_per_million`, `cases_per_million` and `deaths_per_million` into `combined_df`.**"
   ]
  },
  {
   "cell_type": "code",
   "execution_count": 52,
   "metadata": {
    "executionInfo": {
     "elapsed": 1161,
     "status": "ok",
     "timestamp": 1607549765446,
     "user": {
      "displayName": "Tanvi Patel",
      "photoUrl": "https://lh3.googleusercontent.com/a-/AOh14GhEzOH8u0twqYzmOWwhgOGzrnWvaw78WUL_P8mx=s64",
      "userId": "05270161629470731830"
     },
     "user_tz": -330
    },
    "id": "Qe77bcMqWa0-"
   },
   "outputs": [],
   "source": [
    "combined_df['tests_per_million'] = combined_df['total_tests'] * 1e6 / combined_df['population']"
   ]
  },
  {
   "cell_type": "code",
   "execution_count": 53,
   "metadata": {
    "executionInfo": {
     "elapsed": 1305,
     "status": "ok",
     "timestamp": 1607549767774,
     "user": {
      "displayName": "Tanvi Patel",
      "photoUrl": "https://lh3.googleusercontent.com/a-/AOh14GhEzOH8u0twqYzmOWwhgOGzrnWvaw78WUL_P8mx=s64",
      "userId": "05270161629470731830"
     },
     "user_tz": -330
    },
    "id": "EENL2lXxWa0_"
   },
   "outputs": [],
   "source": [
    "combined_df['cases_per_million'] = combined_df['total_cases'] * 1e6 / combined_df['population']"
   ]
  },
  {
   "cell_type": "code",
   "execution_count": 54,
   "metadata": {
    "executionInfo": {
     "elapsed": 794,
     "status": "ok",
     "timestamp": 1607549769158,
     "user": {
      "displayName": "Tanvi Patel",
      "photoUrl": "https://lh3.googleusercontent.com/a-/AOh14GhEzOH8u0twqYzmOWwhgOGzrnWvaw78WUL_P8mx=s64",
      "userId": "05270161629470731830"
     },
     "user_tz": -330
    },
    "id": "GUE29_cZWa0_"
   },
   "outputs": [],
   "source": [
    "combined_df['deaths_per_million'] = combined_df['total_deaths'] * 1e6 / combined_df['population']"
   ]
  },
  {
   "cell_type": "code",
   "execution_count": 55,
   "metadata": {
    "colab": {
     "base_uri": "https://localhost:8080/",
     "height": 438
    },
    "executionInfo": {
     "elapsed": 1197,
     "status": "ok",
     "timestamp": 1607549771474,
     "user": {
      "displayName": "Tanvi Patel",
      "photoUrl": "https://lh3.googleusercontent.com/a-/AOh14GhEzOH8u0twqYzmOWwhgOGzrnWvaw78WUL_P8mx=s64",
      "userId": "05270161629470731830"
     },
     "user_tz": -330
    },
    "id": "mvWuwHeeWa0_",
    "outputId": "7166efff-621e-4aa2-e943-9dba261255bf"
   },
   "outputs": [
    {
     "data": {
      "text/html": [
       "<div>\n",
       "<style scoped>\n",
       "    .dataframe tbody tr th:only-of-type {\n",
       "        vertical-align: middle;\n",
       "    }\n",
       "\n",
       "    .dataframe tbody tr th {\n",
       "        vertical-align: top;\n",
       "    }\n",
       "\n",
       "    .dataframe thead th {\n",
       "        text-align: right;\n",
       "    }\n",
       "</style>\n",
       "<table border=\"1\" class=\"dataframe\">\n",
       "  <thead>\n",
       "    <tr style=\"text-align: right;\">\n",
       "      <th></th>\n",
       "      <th>location</th>\n",
       "      <th>continent</th>\n",
       "      <th>population</th>\n",
       "      <th>life_expectancy</th>\n",
       "      <th>hospital_beds_per_thousand</th>\n",
       "      <th>gdp_per_capita</th>\n",
       "      <th>gdp</th>\n",
       "      <th>total_cases</th>\n",
       "      <th>total_deaths</th>\n",
       "      <th>total_tests</th>\n",
       "      <th>tests_per_million</th>\n",
       "      <th>cases_per_million</th>\n",
       "      <th>deaths_per_million</th>\n",
       "    </tr>\n",
       "  </thead>\n",
       "  <tbody>\n",
       "    <tr>\n",
       "      <th>0</th>\n",
       "      <td>Afghanistan</td>\n",
       "      <td>Asia</td>\n",
       "      <td>38928341.0</td>\n",
       "      <td>64.83</td>\n",
       "      <td>0.50</td>\n",
       "      <td>1803.987</td>\n",
       "      <td>7.022622e+10</td>\n",
       "      <td>38243.0</td>\n",
       "      <td>1409.0</td>\n",
       "      <td>NaN</td>\n",
       "      <td>NaN</td>\n",
       "      <td>982.394806</td>\n",
       "      <td>36.194710</td>\n",
       "    </tr>\n",
       "    <tr>\n",
       "      <th>1</th>\n",
       "      <td>Albania</td>\n",
       "      <td>Europe</td>\n",
       "      <td>2877800.0</td>\n",
       "      <td>78.57</td>\n",
       "      <td>2.89</td>\n",
       "      <td>11803.431</td>\n",
       "      <td>3.396791e+10</td>\n",
       "      <td>9728.0</td>\n",
       "      <td>296.0</td>\n",
       "      <td>NaN</td>\n",
       "      <td>NaN</td>\n",
       "      <td>3380.359997</td>\n",
       "      <td>102.856349</td>\n",
       "    </tr>\n",
       "    <tr>\n",
       "      <th>2</th>\n",
       "      <td>Algeria</td>\n",
       "      <td>Africa</td>\n",
       "      <td>43851043.0</td>\n",
       "      <td>76.88</td>\n",
       "      <td>1.90</td>\n",
       "      <td>13913.839</td>\n",
       "      <td>6.101364e+11</td>\n",
       "      <td>45158.0</td>\n",
       "      <td>1525.0</td>\n",
       "      <td>NaN</td>\n",
       "      <td>NaN</td>\n",
       "      <td>1029.804468</td>\n",
       "      <td>34.776824</td>\n",
       "    </tr>\n",
       "    <tr>\n",
       "      <th>3</th>\n",
       "      <td>Andorra</td>\n",
       "      <td>Europe</td>\n",
       "      <td>77265.0</td>\n",
       "      <td>83.73</td>\n",
       "      <td>NaN</td>\n",
       "      <td>NaN</td>\n",
       "      <td>NaN</td>\n",
       "      <td>1199.0</td>\n",
       "      <td>53.0</td>\n",
       "      <td>NaN</td>\n",
       "      <td>NaN</td>\n",
       "      <td>15518.022390</td>\n",
       "      <td>685.950948</td>\n",
       "    </tr>\n",
       "    <tr>\n",
       "      <th>4</th>\n",
       "      <td>Angola</td>\n",
       "      <td>Africa</td>\n",
       "      <td>32866268.0</td>\n",
       "      <td>61.15</td>\n",
       "      <td>NaN</td>\n",
       "      <td>5819.495</td>\n",
       "      <td>1.912651e+11</td>\n",
       "      <td>2729.0</td>\n",
       "      <td>109.0</td>\n",
       "      <td>NaN</td>\n",
       "      <td>NaN</td>\n",
       "      <td>83.033462</td>\n",
       "      <td>3.316470</td>\n",
       "    </tr>\n",
       "    <tr>\n",
       "      <th>...</th>\n",
       "      <td>...</td>\n",
       "      <td>...</td>\n",
       "      <td>...</td>\n",
       "      <td>...</td>\n",
       "      <td>...</td>\n",
       "      <td>...</td>\n",
       "      <td>...</td>\n",
       "      <td>...</td>\n",
       "      <td>...</td>\n",
       "      <td>...</td>\n",
       "      <td>...</td>\n",
       "      <td>...</td>\n",
       "      <td>...</td>\n",
       "    </tr>\n",
       "    <tr>\n",
       "      <th>205</th>\n",
       "      <td>Vietnam</td>\n",
       "      <td>Asia</td>\n",
       "      <td>97338583.0</td>\n",
       "      <td>75.40</td>\n",
       "      <td>2.60</td>\n",
       "      <td>6171.884</td>\n",
       "      <td>6.007624e+11</td>\n",
       "      <td>1046.0</td>\n",
       "      <td>35.0</td>\n",
       "      <td>261004.0</td>\n",
       "      <td>2681.403324</td>\n",
       "      <td>10.745996</td>\n",
       "      <td>0.359570</td>\n",
       "    </tr>\n",
       "    <tr>\n",
       "      <th>206</th>\n",
       "      <td>Western Sahara</td>\n",
       "      <td>Africa</td>\n",
       "      <td>597330.0</td>\n",
       "      <td>70.26</td>\n",
       "      <td>NaN</td>\n",
       "      <td>NaN</td>\n",
       "      <td>NaN</td>\n",
       "      <td>766.0</td>\n",
       "      <td>1.0</td>\n",
       "      <td>NaN</td>\n",
       "      <td>NaN</td>\n",
       "      <td>1282.373228</td>\n",
       "      <td>1.674116</td>\n",
       "    </tr>\n",
       "    <tr>\n",
       "      <th>207</th>\n",
       "      <td>Yemen</td>\n",
       "      <td>Asia</td>\n",
       "      <td>29825968.0</td>\n",
       "      <td>66.12</td>\n",
       "      <td>0.70</td>\n",
       "      <td>1479.147</td>\n",
       "      <td>4.411699e+10</td>\n",
       "      <td>1976.0</td>\n",
       "      <td>571.0</td>\n",
       "      <td>NaN</td>\n",
       "      <td>NaN</td>\n",
       "      <td>66.250993</td>\n",
       "      <td>19.144391</td>\n",
       "    </tr>\n",
       "    <tr>\n",
       "      <th>208</th>\n",
       "      <td>Zambia</td>\n",
       "      <td>Africa</td>\n",
       "      <td>18383956.0</td>\n",
       "      <td>63.89</td>\n",
       "      <td>2.00</td>\n",
       "      <td>3689.251</td>\n",
       "      <td>6.782303e+10</td>\n",
       "      <td>12415.0</td>\n",
       "      <td>292.0</td>\n",
       "      <td>NaN</td>\n",
       "      <td>NaN</td>\n",
       "      <td>675.317108</td>\n",
       "      <td>15.883415</td>\n",
       "    </tr>\n",
       "    <tr>\n",
       "      <th>209</th>\n",
       "      <td>Zimbabwe</td>\n",
       "      <td>Africa</td>\n",
       "      <td>14862927.0</td>\n",
       "      <td>61.49</td>\n",
       "      <td>1.70</td>\n",
       "      <td>1899.775</td>\n",
       "      <td>2.823622e+10</td>\n",
       "      <td>6638.0</td>\n",
       "      <td>206.0</td>\n",
       "      <td>97272.0</td>\n",
       "      <td>6544.605918</td>\n",
       "      <td>446.614587</td>\n",
       "      <td>13.859989</td>\n",
       "    </tr>\n",
       "  </tbody>\n",
       "</table>\n",
       "<p>210 rows × 13 columns</p>\n",
       "</div>"
      ],
      "text/plain": [
       "           location continent  ...  cases_per_million  deaths_per_million\n",
       "0       Afghanistan      Asia  ...         982.394806           36.194710\n",
       "1           Albania    Europe  ...        3380.359997          102.856349\n",
       "2           Algeria    Africa  ...        1029.804468           34.776824\n",
       "3           Andorra    Europe  ...       15518.022390          685.950948\n",
       "4            Angola    Africa  ...          83.033462            3.316470\n",
       "..              ...       ...  ...                ...                 ...\n",
       "205         Vietnam      Asia  ...          10.745996            0.359570\n",
       "206  Western Sahara    Africa  ...        1282.373228            1.674116\n",
       "207           Yemen      Asia  ...          66.250993           19.144391\n",
       "208          Zambia    Africa  ...         675.317108           15.883415\n",
       "209        Zimbabwe    Africa  ...         446.614587           13.859989\n",
       "\n",
       "[210 rows x 13 columns]"
      ]
     },
     "execution_count": 55,
     "metadata": {
      "tags": []
     },
     "output_type": "execute_result"
    }
   ],
   "source": [
    "combined_df"
   ]
  },
  {
   "cell_type": "code",
   "execution_count": 56,
   "metadata": {
    "colab": {
     "base_uri": "https://localhost:8080/",
     "height": 106
    },
    "executionInfo": {
     "elapsed": 3789,
     "status": "ok",
     "timestamp": 1607549795010,
     "user": {
      "displayName": "Tanvi Patel",
      "photoUrl": "https://lh3.googleusercontent.com/a-/AOh14GhEzOH8u0twqYzmOWwhgOGzrnWvaw78WUL_P8mx=s64",
      "userId": "05270161629470731830"
     },
     "user_tz": -330
    },
    "id": "GPBXmENJWa0_",
    "outputId": "13a179d8-648c-4eea-c5d7-e4615e21bae5"
   },
   "outputs": [
    {
     "name": "stdout",
     "output_type": "stream",
     "text": [
      "[jovian] Detected Colab notebook...\u001b[0m\n",
      "[jovian] Uploading colab notebook to Jovian...\u001b[0m\n",
      "[jovian] Committed successfully! https://jovian.ai/tanu1007/pandas-practice-assignment\u001b[0m\n"
     ]
    },
    {
     "data": {
      "application/vnd.google.colaboratory.intrinsic+json": {
       "type": "string"
      },
      "text/plain": [
       "'https://jovian.ai/tanu1007/pandas-practice-assignment'"
      ]
     },
     "execution_count": 56,
     "metadata": {
      "tags": []
     },
     "output_type": "execute_result"
    }
   ],
   "source": [
    "jovian.commit(project='pandas-practice-assignment', environment=None)"
   ]
  },
  {
   "cell_type": "markdown",
   "metadata": {
    "id": "4NHSQz1kWa0_"
   },
   "source": [
    "**Q: Create a dataframe with 10 countires that have highest number of tests per million people.**"
   ]
  },
  {
   "cell_type": "code",
   "execution_count": 57,
   "metadata": {
    "executionInfo": {
     "elapsed": 1259,
     "status": "ok",
     "timestamp": 1607549875140,
     "user": {
      "displayName": "Tanvi Patel",
      "photoUrl": "https://lh3.googleusercontent.com/a-/AOh14GhEzOH8u0twqYzmOWwhgOGzrnWvaw78WUL_P8mx=s64",
      "userId": "05270161629470731830"
     },
     "user_tz": -330
    },
    "id": "BDnp1iLKWa0_"
   },
   "outputs": [],
   "source": [
    "highest_tests_df = combined_df.sort_values('tests_per_million',ascending=False).head(10)"
   ]
  },
  {
   "cell_type": "code",
   "execution_count": 58,
   "metadata": {
    "colab": {
     "base_uri": "https://localhost:8080/",
     "height": 397
    },
    "executionInfo": {
     "elapsed": 1704,
     "status": "ok",
     "timestamp": 1607549878287,
     "user": {
      "displayName": "Tanvi Patel",
      "photoUrl": "https://lh3.googleusercontent.com/a-/AOh14GhEzOH8u0twqYzmOWwhgOGzrnWvaw78WUL_P8mx=s64",
      "userId": "05270161629470731830"
     },
     "user_tz": -330
    },
    "id": "2sac_4GUWa0_",
    "outputId": "9a3de9f3-eb03-432d-e17b-660cde9f8e15"
   },
   "outputs": [
    {
     "data": {
      "text/html": [
       "<div>\n",
       "<style scoped>\n",
       "    .dataframe tbody tr th:only-of-type {\n",
       "        vertical-align: middle;\n",
       "    }\n",
       "\n",
       "    .dataframe tbody tr th {\n",
       "        vertical-align: top;\n",
       "    }\n",
       "\n",
       "    .dataframe thead th {\n",
       "        text-align: right;\n",
       "    }\n",
       "</style>\n",
       "<table border=\"1\" class=\"dataframe\">\n",
       "  <thead>\n",
       "    <tr style=\"text-align: right;\">\n",
       "      <th></th>\n",
       "      <th>location</th>\n",
       "      <th>continent</th>\n",
       "      <th>population</th>\n",
       "      <th>life_expectancy</th>\n",
       "      <th>hospital_beds_per_thousand</th>\n",
       "      <th>gdp_per_capita</th>\n",
       "      <th>gdp</th>\n",
       "      <th>total_cases</th>\n",
       "      <th>total_deaths</th>\n",
       "      <th>total_tests</th>\n",
       "      <th>tests_per_million</th>\n",
       "      <th>cases_per_million</th>\n",
       "      <th>deaths_per_million</th>\n",
       "    </tr>\n",
       "  </thead>\n",
       "  <tbody>\n",
       "    <tr>\n",
       "      <th>197</th>\n",
       "      <td>United Arab Emirates</td>\n",
       "      <td>Asia</td>\n",
       "      <td>9890400.0</td>\n",
       "      <td>77.97</td>\n",
       "      <td>1.200</td>\n",
       "      <td>67293.483</td>\n",
       "      <td>6.655595e+11</td>\n",
       "      <td>71540.0</td>\n",
       "      <td>387.0</td>\n",
       "      <td>7177430.0</td>\n",
       "      <td>725696.635121</td>\n",
       "      <td>7233.276713</td>\n",
       "      <td>39.128852</td>\n",
       "    </tr>\n",
       "    <tr>\n",
       "      <th>14</th>\n",
       "      <td>Bahrain</td>\n",
       "      <td>Asia</td>\n",
       "      <td>1701583.0</td>\n",
       "      <td>77.29</td>\n",
       "      <td>2.000</td>\n",
       "      <td>43290.705</td>\n",
       "      <td>7.366273e+10</td>\n",
       "      <td>52440.0</td>\n",
       "      <td>190.0</td>\n",
       "      <td>1118837.0</td>\n",
       "      <td>657527.137965</td>\n",
       "      <td>30818.361490</td>\n",
       "      <td>111.660730</td>\n",
       "    </tr>\n",
       "    <tr>\n",
       "      <th>115</th>\n",
       "      <td>Luxembourg</td>\n",
       "      <td>Europe</td>\n",
       "      <td>625976.0</td>\n",
       "      <td>82.25</td>\n",
       "      <td>4.510</td>\n",
       "      <td>94277.965</td>\n",
       "      <td>5.901574e+10</td>\n",
       "      <td>7928.0</td>\n",
       "      <td>124.0</td>\n",
       "      <td>385820.0</td>\n",
       "      <td>616349.508607</td>\n",
       "      <td>12665.022301</td>\n",
       "      <td>198.090662</td>\n",
       "    </tr>\n",
       "    <tr>\n",
       "      <th>122</th>\n",
       "      <td>Malta</td>\n",
       "      <td>Europe</td>\n",
       "      <td>441539.0</td>\n",
       "      <td>82.53</td>\n",
       "      <td>4.485</td>\n",
       "      <td>36513.323</td>\n",
       "      <td>1.612206e+10</td>\n",
       "      <td>1931.0</td>\n",
       "      <td>13.0</td>\n",
       "      <td>188539.0</td>\n",
       "      <td>427004.183096</td>\n",
       "      <td>4373.339614</td>\n",
       "      <td>29.442473</td>\n",
       "    </tr>\n",
       "    <tr>\n",
       "      <th>53</th>\n",
       "      <td>Denmark</td>\n",
       "      <td>Europe</td>\n",
       "      <td>5792203.0</td>\n",
       "      <td>80.90</td>\n",
       "      <td>2.500</td>\n",
       "      <td>46682.515</td>\n",
       "      <td>2.703946e+11</td>\n",
       "      <td>17195.0</td>\n",
       "      <td>626.0</td>\n",
       "      <td>2447911.0</td>\n",
       "      <td>422621.755488</td>\n",
       "      <td>2968.645954</td>\n",
       "      <td>108.076323</td>\n",
       "    </tr>\n",
       "    <tr>\n",
       "      <th>96</th>\n",
       "      <td>Israel</td>\n",
       "      <td>Asia</td>\n",
       "      <td>8655541.0</td>\n",
       "      <td>82.97</td>\n",
       "      <td>2.990</td>\n",
       "      <td>33132.320</td>\n",
       "      <td>2.867782e+11</td>\n",
       "      <td>122539.0</td>\n",
       "      <td>969.0</td>\n",
       "      <td>2353984.0</td>\n",
       "      <td>271962.665303</td>\n",
       "      <td>14157.289533</td>\n",
       "      <td>111.951408</td>\n",
       "    </tr>\n",
       "    <tr>\n",
       "      <th>89</th>\n",
       "      <td>Iceland</td>\n",
       "      <td>Europe</td>\n",
       "      <td>341250.0</td>\n",
       "      <td>82.99</td>\n",
       "      <td>2.910</td>\n",
       "      <td>46482.958</td>\n",
       "      <td>1.586231e+10</td>\n",
       "      <td>2121.0</td>\n",
       "      <td>10.0</td>\n",
       "      <td>88829.0</td>\n",
       "      <td>260304.761905</td>\n",
       "      <td>6215.384615</td>\n",
       "      <td>29.304029</td>\n",
       "    </tr>\n",
       "    <tr>\n",
       "      <th>157</th>\n",
       "      <td>Russia</td>\n",
       "      <td>Europe</td>\n",
       "      <td>145934460.0</td>\n",
       "      <td>72.58</td>\n",
       "      <td>8.050</td>\n",
       "      <td>24765.954</td>\n",
       "      <td>3.614206e+12</td>\n",
       "      <td>1005000.0</td>\n",
       "      <td>17414.0</td>\n",
       "      <td>37176827.0</td>\n",
       "      <td>254750.159763</td>\n",
       "      <td>6886.653091</td>\n",
       "      <td>119.327539</td>\n",
       "    </tr>\n",
       "    <tr>\n",
       "      <th>199</th>\n",
       "      <td>United States</td>\n",
       "      <td>North America</td>\n",
       "      <td>331002647.0</td>\n",
       "      <td>78.86</td>\n",
       "      <td>2.770</td>\n",
       "      <td>54225.446</td>\n",
       "      <td>1.794877e+13</td>\n",
       "      <td>6114406.0</td>\n",
       "      <td>185744.0</td>\n",
       "      <td>83898416.0</td>\n",
       "      <td>253467.507769</td>\n",
       "      <td>18472.377957</td>\n",
       "      <td>561.155633</td>\n",
       "    </tr>\n",
       "    <tr>\n",
       "      <th>10</th>\n",
       "      <td>Australia</td>\n",
       "      <td>Oceania</td>\n",
       "      <td>25499881.0</td>\n",
       "      <td>83.44</td>\n",
       "      <td>3.840</td>\n",
       "      <td>44648.710</td>\n",
       "      <td>1.138537e+12</td>\n",
       "      <td>25923.0</td>\n",
       "      <td>663.0</td>\n",
       "      <td>6255797.0</td>\n",
       "      <td>245326.517406</td>\n",
       "      <td>1016.592979</td>\n",
       "      <td>26.000121</td>\n",
       "    </tr>\n",
       "  </tbody>\n",
       "</table>\n",
       "</div>"
      ],
      "text/plain": [
       "                 location      continent  ...  cases_per_million  deaths_per_million\n",
       "197  United Arab Emirates           Asia  ...        7233.276713           39.128852\n",
       "14                Bahrain           Asia  ...       30818.361490          111.660730\n",
       "115            Luxembourg         Europe  ...       12665.022301          198.090662\n",
       "122                 Malta         Europe  ...        4373.339614           29.442473\n",
       "53                Denmark         Europe  ...        2968.645954          108.076323\n",
       "96                 Israel           Asia  ...       14157.289533          111.951408\n",
       "89                Iceland         Europe  ...        6215.384615           29.304029\n",
       "157                Russia         Europe  ...        6886.653091          119.327539\n",
       "199         United States  North America  ...       18472.377957          561.155633\n",
       "10              Australia        Oceania  ...        1016.592979           26.000121\n",
       "\n",
       "[10 rows x 13 columns]"
      ]
     },
     "execution_count": 58,
     "metadata": {
      "tags": []
     },
     "output_type": "execute_result"
    }
   ],
   "source": [
    "highest_tests_df"
   ]
  },
  {
   "cell_type": "code",
   "execution_count": 59,
   "metadata": {
    "colab": {
     "base_uri": "https://localhost:8080/",
     "height": 106
    },
    "executionInfo": {
     "elapsed": 3736,
     "status": "ok",
     "timestamp": 1607549914251,
     "user": {
      "displayName": "Tanvi Patel",
      "photoUrl": "https://lh3.googleusercontent.com/a-/AOh14GhEzOH8u0twqYzmOWwhgOGzrnWvaw78WUL_P8mx=s64",
      "userId": "05270161629470731830"
     },
     "user_tz": -330
    },
    "id": "r1jr1sPnWa0_",
    "outputId": "ba1eb189-1c13-4cbf-c441-233be6b255b3"
   },
   "outputs": [
    {
     "name": "stdout",
     "output_type": "stream",
     "text": [
      "[jovian] Detected Colab notebook...\u001b[0m\n",
      "[jovian] Uploading colab notebook to Jovian...\u001b[0m\n",
      "[jovian] Committed successfully! https://jovian.ai/tanu1007/pandas-practice-assignment\u001b[0m\n"
     ]
    },
    {
     "data": {
      "application/vnd.google.colaboratory.intrinsic+json": {
       "type": "string"
      },
      "text/plain": [
       "'https://jovian.ai/tanu1007/pandas-practice-assignment'"
      ]
     },
     "execution_count": 59,
     "metadata": {
      "tags": []
     },
     "output_type": "execute_result"
    }
   ],
   "source": [
    "jovian.commit(project='pandas-practice-assignment', environment=None)"
   ]
  },
  {
   "cell_type": "markdown",
   "metadata": {
    "id": "LNXUvfPfWa1A"
   },
   "source": [
    "**Q: Create a dataframe with 10 countires that have highest number of positive cases per million people.**"
   ]
  },
  {
   "cell_type": "code",
   "execution_count": 60,
   "metadata": {
    "executionInfo": {
     "elapsed": 1462,
     "status": "ok",
     "timestamp": 1607549943807,
     "user": {
      "displayName": "Tanvi Patel",
      "photoUrl": "https://lh3.googleusercontent.com/a-/AOh14GhEzOH8u0twqYzmOWwhgOGzrnWvaw78WUL_P8mx=s64",
      "userId": "05270161629470731830"
     },
     "user_tz": -330
    },
    "id": "sLSAhwH6Wa1A"
   },
   "outputs": [],
   "source": [
    "highest_cases_df = combined_df.sort_values('total_cases', ascending=False).head(10)"
   ]
  },
  {
   "cell_type": "code",
   "execution_count": 61,
   "metadata": {
    "colab": {
     "base_uri": "https://localhost:8080/",
     "height": 481
    },
    "executionInfo": {
     "elapsed": 1154,
     "status": "ok",
     "timestamp": 1607549945850,
     "user": {
      "displayName": "Tanvi Patel",
      "photoUrl": "https://lh3.googleusercontent.com/a-/AOh14GhEzOH8u0twqYzmOWwhgOGzrnWvaw78WUL_P8mx=s64",
      "userId": "05270161629470731830"
     },
     "user_tz": -330
    },
    "id": "NiP-IgweWa1A",
    "outputId": "90d8e9d1-4fc1-43b2-f791-9b31aebf6162"
   },
   "outputs": [
    {
     "data": {
      "text/html": [
       "<div>\n",
       "<style scoped>\n",
       "    .dataframe tbody tr th:only-of-type {\n",
       "        vertical-align: middle;\n",
       "    }\n",
       "\n",
       "    .dataframe tbody tr th {\n",
       "        vertical-align: top;\n",
       "    }\n",
       "\n",
       "    .dataframe thead th {\n",
       "        text-align: right;\n",
       "    }\n",
       "</style>\n",
       "<table border=\"1\" class=\"dataframe\">\n",
       "  <thead>\n",
       "    <tr style=\"text-align: right;\">\n",
       "      <th></th>\n",
       "      <th>location</th>\n",
       "      <th>continent</th>\n",
       "      <th>population</th>\n",
       "      <th>life_expectancy</th>\n",
       "      <th>hospital_beds_per_thousand</th>\n",
       "      <th>gdp_per_capita</th>\n",
       "      <th>gdp</th>\n",
       "      <th>total_cases</th>\n",
       "      <th>total_deaths</th>\n",
       "      <th>total_tests</th>\n",
       "      <th>tests_per_million</th>\n",
       "      <th>cases_per_million</th>\n",
       "      <th>deaths_per_million</th>\n",
       "    </tr>\n",
       "  </thead>\n",
       "  <tbody>\n",
       "    <tr>\n",
       "      <th>199</th>\n",
       "      <td>United States</td>\n",
       "      <td>North America</td>\n",
       "      <td>3.310026e+08</td>\n",
       "      <td>78.86</td>\n",
       "      <td>2.77</td>\n",
       "      <td>54225.446</td>\n",
       "      <td>1.794877e+13</td>\n",
       "      <td>6114406.0</td>\n",
       "      <td>185744.0</td>\n",
       "      <td>83898416.0</td>\n",
       "      <td>253467.507769</td>\n",
       "      <td>18472.377957</td>\n",
       "      <td>561.155633</td>\n",
       "    </tr>\n",
       "    <tr>\n",
       "      <th>27</th>\n",
       "      <td>Brazil</td>\n",
       "      <td>South America</td>\n",
       "      <td>2.125594e+08</td>\n",
       "      <td>75.88</td>\n",
       "      <td>2.20</td>\n",
       "      <td>14103.452</td>\n",
       "      <td>2.997821e+12</td>\n",
       "      <td>3997865.0</td>\n",
       "      <td>123780.0</td>\n",
       "      <td>4797948.0</td>\n",
       "      <td>22572.268255</td>\n",
       "      <td>18808.224105</td>\n",
       "      <td>582.331314</td>\n",
       "    </tr>\n",
       "    <tr>\n",
       "      <th>90</th>\n",
       "      <td>India</td>\n",
       "      <td>Asia</td>\n",
       "      <td>1.380004e+09</td>\n",
       "      <td>69.66</td>\n",
       "      <td>0.53</td>\n",
       "      <td>6426.674</td>\n",
       "      <td>8.868838e+12</td>\n",
       "      <td>3853406.0</td>\n",
       "      <td>67376.0</td>\n",
       "      <td>44337201.0</td>\n",
       "      <td>32128.304433</td>\n",
       "      <td>2792.314316</td>\n",
       "      <td>48.823033</td>\n",
       "    </tr>\n",
       "    <tr>\n",
       "      <th>157</th>\n",
       "      <td>Russia</td>\n",
       "      <td>Europe</td>\n",
       "      <td>1.459345e+08</td>\n",
       "      <td>72.58</td>\n",
       "      <td>8.05</td>\n",
       "      <td>24765.954</td>\n",
       "      <td>3.614206e+12</td>\n",
       "      <td>1005000.0</td>\n",
       "      <td>17414.0</td>\n",
       "      <td>37176827.0</td>\n",
       "      <td>254750.159763</td>\n",
       "      <td>6886.653091</td>\n",
       "      <td>119.327539</td>\n",
       "    </tr>\n",
       "    <tr>\n",
       "      <th>150</th>\n",
       "      <td>Peru</td>\n",
       "      <td>South America</td>\n",
       "      <td>3.297185e+07</td>\n",
       "      <td>76.74</td>\n",
       "      <td>1.60</td>\n",
       "      <td>12236.706</td>\n",
       "      <td>4.034668e+11</td>\n",
       "      <td>663437.0</td>\n",
       "      <td>29259.0</td>\n",
       "      <td>584232.0</td>\n",
       "      <td>17719.117092</td>\n",
       "      <td>20121.318048</td>\n",
       "      <td>887.393445</td>\n",
       "    </tr>\n",
       "    <tr>\n",
       "      <th>42</th>\n",
       "      <td>Colombia</td>\n",
       "      <td>South America</td>\n",
       "      <td>5.088288e+07</td>\n",
       "      <td>77.29</td>\n",
       "      <td>1.71</td>\n",
       "      <td>13254.949</td>\n",
       "      <td>6.744500e+11</td>\n",
       "      <td>633339.0</td>\n",
       "      <td>20348.0</td>\n",
       "      <td>2647702.0</td>\n",
       "      <td>52035.218758</td>\n",
       "      <td>12446.994946</td>\n",
       "      <td>399.898716</td>\n",
       "    </tr>\n",
       "    <tr>\n",
       "      <th>174</th>\n",
       "      <td>South Africa</td>\n",
       "      <td>Africa</td>\n",
       "      <td>5.930869e+07</td>\n",
       "      <td>64.13</td>\n",
       "      <td>2.32</td>\n",
       "      <td>12294.876</td>\n",
       "      <td>7.291930e+11</td>\n",
       "      <td>630595.0</td>\n",
       "      <td>14389.0</td>\n",
       "      <td>3705408.0</td>\n",
       "      <td>62476.645497</td>\n",
       "      <td>10632.421657</td>\n",
       "      <td>242.612002</td>\n",
       "    </tr>\n",
       "    <tr>\n",
       "      <th>125</th>\n",
       "      <td>Mexico</td>\n",
       "      <td>North America</td>\n",
       "      <td>1.289328e+08</td>\n",
       "      <td>75.05</td>\n",
       "      <td>1.38</td>\n",
       "      <td>17336.469</td>\n",
       "      <td>2.235239e+12</td>\n",
       "      <td>610957.0</td>\n",
       "      <td>65816.0</td>\n",
       "      <td>1271295.0</td>\n",
       "      <td>9860.140037</td>\n",
       "      <td>4738.570967</td>\n",
       "      <td>510.467654</td>\n",
       "    </tr>\n",
       "    <tr>\n",
       "      <th>177</th>\n",
       "      <td>Spain</td>\n",
       "      <td>Europe</td>\n",
       "      <td>4.675478e+07</td>\n",
       "      <td>83.56</td>\n",
       "      <td>2.97</td>\n",
       "      <td>34272.360</td>\n",
       "      <td>1.602397e+12</td>\n",
       "      <td>479554.0</td>\n",
       "      <td>29194.0</td>\n",
       "      <td>6416533.0</td>\n",
       "      <td>137238.001939</td>\n",
       "      <td>10256.790198</td>\n",
       "      <td>624.406705</td>\n",
       "    </tr>\n",
       "    <tr>\n",
       "      <th>7</th>\n",
       "      <td>Argentina</td>\n",
       "      <td>South America</td>\n",
       "      <td>4.519578e+07</td>\n",
       "      <td>76.67</td>\n",
       "      <td>5.00</td>\n",
       "      <td>18933.907</td>\n",
       "      <td>8.557326e+11</td>\n",
       "      <td>428226.0</td>\n",
       "      <td>8971.0</td>\n",
       "      <td>1118923.0</td>\n",
       "      <td>24757.246678</td>\n",
       "      <td>9474.911782</td>\n",
       "      <td>198.491996</td>\n",
       "    </tr>\n",
       "  </tbody>\n",
       "</table>\n",
       "</div>"
      ],
      "text/plain": [
       "          location      continent  ...  cases_per_million  deaths_per_million\n",
       "199  United States  North America  ...       18472.377957          561.155633\n",
       "27          Brazil  South America  ...       18808.224105          582.331314\n",
       "90           India           Asia  ...        2792.314316           48.823033\n",
       "157         Russia         Europe  ...        6886.653091          119.327539\n",
       "150           Peru  South America  ...       20121.318048          887.393445\n",
       "42        Colombia  South America  ...       12446.994946          399.898716\n",
       "174   South Africa         Africa  ...       10632.421657          242.612002\n",
       "125         Mexico  North America  ...        4738.570967          510.467654\n",
       "177          Spain         Europe  ...       10256.790198          624.406705\n",
       "7        Argentina  South America  ...        9474.911782          198.491996\n",
       "\n",
       "[10 rows x 13 columns]"
      ]
     },
     "execution_count": 61,
     "metadata": {
      "tags": []
     },
     "output_type": "execute_result"
    }
   ],
   "source": [
    "highest_cases_df"
   ]
  },
  {
   "cell_type": "code",
   "execution_count": 62,
   "metadata": {
    "colab": {
     "base_uri": "https://localhost:8080/",
     "height": 106
    },
    "executionInfo": {
     "elapsed": 3341,
     "status": "ok",
     "timestamp": 1607549953219,
     "user": {
      "displayName": "Tanvi Patel",
      "photoUrl": "https://lh3.googleusercontent.com/a-/AOh14GhEzOH8u0twqYzmOWwhgOGzrnWvaw78WUL_P8mx=s64",
      "userId": "05270161629470731830"
     },
     "user_tz": -330
    },
    "id": "bCPEmCy2Wa1A",
    "outputId": "bd8dcfdf-ef60-4ae9-c8e7-14e15397d8be"
   },
   "outputs": [
    {
     "name": "stdout",
     "output_type": "stream",
     "text": [
      "[jovian] Detected Colab notebook...\u001b[0m\n",
      "[jovian] Uploading colab notebook to Jovian...\u001b[0m\n",
      "[jovian] Committed successfully! https://jovian.ai/tanu1007/pandas-practice-assignment\u001b[0m\n"
     ]
    },
    {
     "data": {
      "application/vnd.google.colaboratory.intrinsic+json": {
       "type": "string"
      },
      "text/plain": [
       "'https://jovian.ai/tanu1007/pandas-practice-assignment'"
      ]
     },
     "execution_count": 62,
     "metadata": {
      "tags": []
     },
     "output_type": "execute_result"
    }
   ],
   "source": [
    "jovian.commit(project='pandas-practice-assignment', environment=None)"
   ]
  },
  {
   "cell_type": "markdown",
   "metadata": {
    "id": "c3dh3IM3Wa1A"
   },
   "source": [
    "**Q: Create a dataframe with 10 countires that have highest number of deaths cases per million people?**"
   ]
  },
  {
   "cell_type": "code",
   "execution_count": 63,
   "metadata": {
    "executionInfo": {
     "elapsed": 1434,
     "status": "ok",
     "timestamp": 1607549963328,
     "user": {
      "displayName": "Tanvi Patel",
      "photoUrl": "https://lh3.googleusercontent.com/a-/AOh14GhEzOH8u0twqYzmOWwhgOGzrnWvaw78WUL_P8mx=s64",
      "userId": "05270161629470731830"
     },
     "user_tz": -330
    },
    "id": "07WMeSuEWa1A"
   },
   "outputs": [],
   "source": [
    "highest_deaths_df = combined_df.sort_values('deaths_per_million', ascending=False).head(10)"
   ]
  },
  {
   "cell_type": "code",
   "execution_count": 64,
   "metadata": {
    "colab": {
     "base_uri": "https://localhost:8080/",
     "height": 447
    },
    "executionInfo": {
     "elapsed": 1349,
     "status": "ok",
     "timestamp": 1607549965427,
     "user": {
      "displayName": "Tanvi Patel",
      "photoUrl": "https://lh3.googleusercontent.com/a-/AOh14GhEzOH8u0twqYzmOWwhgOGzrnWvaw78WUL_P8mx=s64",
      "userId": "05270161629470731830"
     },
     "user_tz": -330
    },
    "id": "l-YGbs8TWa1A",
    "outputId": "524b9b53-2476-438d-e958-8d5d507f6081"
   },
   "outputs": [
    {
     "data": {
      "text/html": [
       "<div>\n",
       "<style scoped>\n",
       "    .dataframe tbody tr th:only-of-type {\n",
       "        vertical-align: middle;\n",
       "    }\n",
       "\n",
       "    .dataframe tbody tr th {\n",
       "        vertical-align: top;\n",
       "    }\n",
       "\n",
       "    .dataframe thead th {\n",
       "        text-align: right;\n",
       "    }\n",
       "</style>\n",
       "<table border=\"1\" class=\"dataframe\">\n",
       "  <thead>\n",
       "    <tr style=\"text-align: right;\">\n",
       "      <th></th>\n",
       "      <th>location</th>\n",
       "      <th>continent</th>\n",
       "      <th>population</th>\n",
       "      <th>life_expectancy</th>\n",
       "      <th>hospital_beds_per_thousand</th>\n",
       "      <th>gdp_per_capita</th>\n",
       "      <th>gdp</th>\n",
       "      <th>total_cases</th>\n",
       "      <th>total_deaths</th>\n",
       "      <th>total_tests</th>\n",
       "      <th>tests_per_million</th>\n",
       "      <th>cases_per_million</th>\n",
       "      <th>deaths_per_million</th>\n",
       "    </tr>\n",
       "  </thead>\n",
       "  <tbody>\n",
       "    <tr>\n",
       "      <th>162</th>\n",
       "      <td>San Marino</td>\n",
       "      <td>Europe</td>\n",
       "      <td>33938.0</td>\n",
       "      <td>84.97</td>\n",
       "      <td>3.80</td>\n",
       "      <td>56861.470</td>\n",
       "      <td>1.929765e+09</td>\n",
       "      <td>735.0</td>\n",
       "      <td>42.0</td>\n",
       "      <td>NaN</td>\n",
       "      <td>NaN</td>\n",
       "      <td>21657.139490</td>\n",
       "      <td>1237.550828</td>\n",
       "    </tr>\n",
       "    <tr>\n",
       "      <th>150</th>\n",
       "      <td>Peru</td>\n",
       "      <td>South America</td>\n",
       "      <td>32971846.0</td>\n",
       "      <td>76.74</td>\n",
       "      <td>1.60</td>\n",
       "      <td>12236.706</td>\n",
       "      <td>4.034668e+11</td>\n",
       "      <td>663437.0</td>\n",
       "      <td>29259.0</td>\n",
       "      <td>584232.0</td>\n",
       "      <td>17719.117092</td>\n",
       "      <td>20121.318048</td>\n",
       "      <td>887.393445</td>\n",
       "    </tr>\n",
       "    <tr>\n",
       "      <th>18</th>\n",
       "      <td>Belgium</td>\n",
       "      <td>Europe</td>\n",
       "      <td>11589616.0</td>\n",
       "      <td>81.63</td>\n",
       "      <td>5.64</td>\n",
       "      <td>42658.576</td>\n",
       "      <td>4.943965e+11</td>\n",
       "      <td>85817.0</td>\n",
       "      <td>9898.0</td>\n",
       "      <td>2281853.0</td>\n",
       "      <td>196887.713967</td>\n",
       "      <td>7404.645676</td>\n",
       "      <td>854.040375</td>\n",
       "    </tr>\n",
       "    <tr>\n",
       "      <th>3</th>\n",
       "      <td>Andorra</td>\n",
       "      <td>Europe</td>\n",
       "      <td>77265.0</td>\n",
       "      <td>83.73</td>\n",
       "      <td>NaN</td>\n",
       "      <td>NaN</td>\n",
       "      <td>NaN</td>\n",
       "      <td>1199.0</td>\n",
       "      <td>53.0</td>\n",
       "      <td>NaN</td>\n",
       "      <td>NaN</td>\n",
       "      <td>15518.022390</td>\n",
       "      <td>685.950948</td>\n",
       "    </tr>\n",
       "    <tr>\n",
       "      <th>177</th>\n",
       "      <td>Spain</td>\n",
       "      <td>Europe</td>\n",
       "      <td>46754783.0</td>\n",
       "      <td>83.56</td>\n",
       "      <td>2.97</td>\n",
       "      <td>34272.360</td>\n",
       "      <td>1.602397e+12</td>\n",
       "      <td>479554.0</td>\n",
       "      <td>29194.0</td>\n",
       "      <td>6416533.0</td>\n",
       "      <td>137238.001939</td>\n",
       "      <td>10256.790198</td>\n",
       "      <td>624.406705</td>\n",
       "    </tr>\n",
       "    <tr>\n",
       "      <th>198</th>\n",
       "      <td>United Kingdom</td>\n",
       "      <td>Europe</td>\n",
       "      <td>67886004.0</td>\n",
       "      <td>81.32</td>\n",
       "      <td>2.54</td>\n",
       "      <td>39753.244</td>\n",
       "      <td>2.698689e+12</td>\n",
       "      <td>338676.0</td>\n",
       "      <td>41514.0</td>\n",
       "      <td>13447568.0</td>\n",
       "      <td>198090.434075</td>\n",
       "      <td>4988.892850</td>\n",
       "      <td>611.525168</td>\n",
       "    </tr>\n",
       "    <tr>\n",
       "      <th>40</th>\n",
       "      <td>Chile</td>\n",
       "      <td>South America</td>\n",
       "      <td>19116209.0</td>\n",
       "      <td>80.18</td>\n",
       "      <td>2.11</td>\n",
       "      <td>22767.037</td>\n",
       "      <td>4.352194e+11</td>\n",
       "      <td>414739.0</td>\n",
       "      <td>11344.0</td>\n",
       "      <td>2458762.0</td>\n",
       "      <td>128621.841287</td>\n",
       "      <td>21695.671982</td>\n",
       "      <td>593.423100</td>\n",
       "    </tr>\n",
       "    <tr>\n",
       "      <th>97</th>\n",
       "      <td>Italy</td>\n",
       "      <td>Europe</td>\n",
       "      <td>60461828.0</td>\n",
       "      <td>83.51</td>\n",
       "      <td>3.18</td>\n",
       "      <td>35220.084</td>\n",
       "      <td>2.129471e+12</td>\n",
       "      <td>271515.0</td>\n",
       "      <td>35497.0</td>\n",
       "      <td>5214766.0</td>\n",
       "      <td>86248.897403</td>\n",
       "      <td>4490.684602</td>\n",
       "      <td>587.097697</td>\n",
       "    </tr>\n",
       "    <tr>\n",
       "      <th>27</th>\n",
       "      <td>Brazil</td>\n",
       "      <td>South America</td>\n",
       "      <td>212559409.0</td>\n",
       "      <td>75.88</td>\n",
       "      <td>2.20</td>\n",
       "      <td>14103.452</td>\n",
       "      <td>2.997821e+12</td>\n",
       "      <td>3997865.0</td>\n",
       "      <td>123780.0</td>\n",
       "      <td>4797948.0</td>\n",
       "      <td>22572.268255</td>\n",
       "      <td>18808.224105</td>\n",
       "      <td>582.331314</td>\n",
       "    </tr>\n",
       "    <tr>\n",
       "      <th>182</th>\n",
       "      <td>Sweden</td>\n",
       "      <td>Europe</td>\n",
       "      <td>10099270.0</td>\n",
       "      <td>82.80</td>\n",
       "      <td>2.22</td>\n",
       "      <td>46949.283</td>\n",
       "      <td>4.741535e+11</td>\n",
       "      <td>84532.0</td>\n",
       "      <td>5820.0</td>\n",
       "      <td>NaN</td>\n",
       "      <td>NaN</td>\n",
       "      <td>8370.109919</td>\n",
       "      <td>576.279276</td>\n",
       "    </tr>\n",
       "  </tbody>\n",
       "</table>\n",
       "</div>"
      ],
      "text/plain": [
       "           location      continent  ...  cases_per_million  deaths_per_million\n",
       "162      San Marino         Europe  ...       21657.139490         1237.550828\n",
       "150            Peru  South America  ...       20121.318048          887.393445\n",
       "18          Belgium         Europe  ...        7404.645676          854.040375\n",
       "3           Andorra         Europe  ...       15518.022390          685.950948\n",
       "177           Spain         Europe  ...       10256.790198          624.406705\n",
       "198  United Kingdom         Europe  ...        4988.892850          611.525168\n",
       "40            Chile  South America  ...       21695.671982          593.423100\n",
       "97            Italy         Europe  ...        4490.684602          587.097697\n",
       "27           Brazil  South America  ...       18808.224105          582.331314\n",
       "182          Sweden         Europe  ...        8370.109919          576.279276\n",
       "\n",
       "[10 rows x 13 columns]"
      ]
     },
     "execution_count": 64,
     "metadata": {
      "tags": []
     },
     "output_type": "execute_result"
    }
   ],
   "source": [
    "highest_deaths_df"
   ]
  },
  {
   "cell_type": "code",
   "execution_count": 65,
   "metadata": {
    "colab": {
     "base_uri": "https://localhost:8080/",
     "height": 106
    },
    "executionInfo": {
     "elapsed": 3629,
     "status": "ok",
     "timestamp": 1607549971653,
     "user": {
      "displayName": "Tanvi Patel",
      "photoUrl": "https://lh3.googleusercontent.com/a-/AOh14GhEzOH8u0twqYzmOWwhgOGzrnWvaw78WUL_P8mx=s64",
      "userId": "05270161629470731830"
     },
     "user_tz": -330
    },
    "id": "kDVmOqS1Wa1B",
    "outputId": "e91d9142-6d19-409c-b659-7c764fc6cd96"
   },
   "outputs": [
    {
     "name": "stdout",
     "output_type": "stream",
     "text": [
      "[jovian] Detected Colab notebook...\u001b[0m\n",
      "[jovian] Uploading colab notebook to Jovian...\u001b[0m\n",
      "[jovian] Committed successfully! https://jovian.ai/tanu1007/pandas-practice-assignment\u001b[0m\n"
     ]
    },
    {
     "data": {
      "application/vnd.google.colaboratory.intrinsic+json": {
       "type": "string"
      },
      "text/plain": [
       "'https://jovian.ai/tanu1007/pandas-practice-assignment'"
      ]
     },
     "execution_count": 65,
     "metadata": {
      "tags": []
     },
     "output_type": "execute_result"
    }
   ],
   "source": [
    "jovian.commit(project='pandas-practice-assignment', environment=None)"
   ]
  },
  {
   "cell_type": "markdown",
   "metadata": {
    "id": "j1EHo7BpWa1B"
   },
   "source": [
    "**(Optional) Q: Count number of countries that feature in both the lists of \"highest number of tests per million\" and \"highest number of cases per million\".**"
   ]
  },
  {
   "cell_type": "code",
   "execution_count": null,
   "metadata": {
    "id": "dHuIY2aTWa1B"
   },
   "outputs": [],
   "source": []
  },
  {
   "cell_type": "code",
   "execution_count": null,
   "metadata": {
    "id": "uNFfJXdPWa1B"
   },
   "outputs": [],
   "source": []
  },
  {
   "cell_type": "code",
   "execution_count": null,
   "metadata": {
    "id": "THcnhNznWa1C"
   },
   "outputs": [],
   "source": []
  },
  {
   "cell_type": "code",
   "execution_count": null,
   "metadata": {
    "id": "JJtEy5SHWa1C"
   },
   "outputs": [],
   "source": [
    "jovian.commit(project='pandas-practice-assignment', environment=None)"
   ]
  },
  {
   "cell_type": "markdown",
   "metadata": {
    "id": "KUO9NC-aWa1C"
   },
   "source": [
    "**(Optional) Q: Count number of countries that feature in both the lists \"20 countries with lowest GDP per capita\" and \"20 countries with the lowest number of hospital beds per thousand population\". Only consider countries with a population higher than 10 million while creating the list.**"
   ]
  },
  {
   "cell_type": "code",
   "execution_count": null,
   "metadata": {
    "id": "6B3NwL4MWa1C"
   },
   "outputs": [],
   "source": []
  },
  {
   "cell_type": "code",
   "execution_count": null,
   "metadata": {
    "id": "cDbxH0JKWa1C"
   },
   "outputs": [],
   "source": []
  },
  {
   "cell_type": "code",
   "execution_count": null,
   "metadata": {
    "id": "5y-0A5DhWa1C"
   },
   "outputs": [],
   "source": []
  },
  {
   "cell_type": "code",
   "execution_count": null,
   "metadata": {
    "id": "5tPIHUd8Wa1C"
   },
   "outputs": [],
   "source": [
    "import jovian"
   ]
  },
  {
   "cell_type": "code",
   "execution_count": null,
   "metadata": {
    "id": "YBx_xpd0Wa1D",
    "outputId": "b9213c91-9a46-4a32-d146-03bb5ec3e755"
   },
   "outputs": [
    {
     "data": {
      "application/javascript": [
       "window.require && require([\"base/js/namespace\"],function(Jupyter){Jupyter.notebook.save_checkpoint()})"
      ],
      "text/plain": [
       "<IPython.core.display.Javascript object>"
      ]
     },
     "metadata": {
      "tags": []
     },
     "output_type": "display_data"
    },
    {
     "name": "stdout",
     "output_type": "stream",
     "text": [
      "[jovian] Attempting to save notebook..\u001b[0m\n"
     ]
    }
   ],
   "source": [
    "jovian.commit(project='pandas-practice-assignment', environment=None)"
   ]
  },
  {
   "cell_type": "markdown",
   "metadata": {
    "id": "mUWmoMbkWa1E"
   },
   "source": [
    "## Submission \n",
    "\n",
    "Congratulations on making it this far! You've reached the end of this assignment, and you just completed your first real-world data analysis problem. It's time to record one final version of your notebook for submission.\n",
    "\n",
    "Make a submission here by filling the submission form: https://jovian.ml/learn/data-analysis-with-python-zero-to-pandas/assignment/assignment-3-pandas-practice\n",
    "\n",
    "Also make sure to help others on the forum: https://jovian.ml/forum/t/assignment-3-pandas-practice/11225/2"
   ]
  },
  {
   "cell_type": "code",
   "execution_count": null,
   "metadata": {
    "id": "a1IycEiBWa1E"
   },
   "outputs": [],
   "source": []
  }
 ],
 "metadata": {
  "colab": {
   "name": "pandas-practice-assignment.ipynb",
   "provenance": []
  },
  "language_info": {
   "codemirror_mode": {
    "name": "ipython",
    "version": 3
   },
   "file_extension": ".py",
   "mimetype": "text/x-python",
   "name": "python",
   "nbconvert_exporter": "python",
   "pygments_lexer": "ipython3",
   "version": "3.8.5"
  }
 },
 "nbformat": 4,
 "nbformat_minor": 0
}